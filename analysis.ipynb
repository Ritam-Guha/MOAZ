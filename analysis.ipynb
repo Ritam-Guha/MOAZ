{
 "cells": [
  {
   "cell_type": "code",
   "execution_count": 4,
   "id": "267ffd80",
   "metadata": {},
   "outputs": [],
   "source": [
    "import pandas as pd\n",
    "import numpy as np\n",
    "from matplotlib import pyplot as plt\n",
    "# from celluloid import Camera\n",
    "from matplotlib import animation\n",
    "import math\n",
    "# from pymoo.util.nds.non_dominated_sorting import NonDominatedSorting as nds"
   ]
  },
  {
   "cell_type": "code",
   "execution_count": null,
   "id": "5cb10f7e",
   "metadata": {},
   "outputs": [],
   "source": [
    "# !pip install ffmpeg\n",
    "# !pip install pymoo\n",
    "# !pip install celluloid"
   ]
  },
  {
   "cell_type": "markdown",
   "id": "87c934c4",
   "metadata": {},
   "source": [
    "## Fetch the file containing the final erros and complexities"
   ]
  },
  {
   "cell_type": "code",
   "execution_count": 5,
   "id": "24f23097",
   "metadata": {},
   "outputs": [],
   "source": [
    "df = pd.read_csv(\"output.txt\", sep=\",\", header=None)\n",
    "(num_rows, num_cols) = df.shape\n",
    "pf_size = int(num_rows/2)\n",
    "df_train = df.iloc[0:pf_size, :]\n",
    "df_test = df.iloc[pf_size:, :]"
   ]
  },
  {
   "cell_type": "code",
   "execution_count": 6,
   "id": "76bef0da",
   "metadata": {},
   "outputs": [
    {
     "data": {
      "image/png": "[encoded data removed]",
      "text/plain": [
       "<Figure size 432x288 with 1 Axes>"
      ]
     },
     "metadata": {
      "needs_background": "light"
     },
     "output_type": "display_data"
    }
   ],
   "source": [
    "# training results on pf\n",
    "train_error = df_train.iloc[:, 0]\n",
    "train_complexity = df_train.iloc[:, 1]\n",
    "plt.figure()\n",
    "plt.scatter(train_complexity, train_error, color=\"red\")\n",
    "plt.xlabel(\"Complexity\")\n",
    "plt.ylabel(\"Error\")\n",
    "plt.title(\"Pareto Front performance on Training data\")\n",
    "plt.show()"
   ]
  },
  {
   "cell_type": "code",
   "execution_count": 7,
   "id": "068f500a",
   "metadata": {},
   "outputs": [
    {
     "data": {
      "image/png": "[encoded data removed]",
      "text/plain": [
       "<Figure size 432x288 with 1 Axes>"
      ]
     },
     "metadata": {
      "needs_background": "light"
     },
     "output_type": "display_data"
    }
   ],
   "source": [
    "# test results on pf\n",
    "test_error = df_test.iloc[:, 0]\n",
    "test_complexity = df_test.iloc[:, 1]\n",
    "plt.figure()\n",
    "plt.scatter(test_complexity, test_error, color=\"blue\")\n",
    "plt.xlabel(\"Complexity\")\n",
    "plt.ylabel(\"Error\")\n",
    "plt.title(\"Pareto Front performance on Test data\")\n",
    "plt.show()"
   ]
  },
  {
   "cell_type": "markdown",
   "id": "6da038c2",
   "metadata": {},
   "source": [
    "## Pareto Front simulation"
   ]
  },
  {
   "cell_type": "code",
   "execution_count": 70,
   "id": "3bb5adb8",
   "metadata": {},
   "outputs": [],
   "source": [
    "f1 = np.zeros((num_rows, pop_size))\n",
    "f2 = np.zeros((num_rows, pop_size))\n",
    "\n",
    "for i in range(num_rows):\n",
    "    for j in range(num_cols):\n",
    "        if(j%2 == 0):\n",
    "            f1[i, int(j/2)] = df.iloc[i, j]\n",
    "        else:\n",
    "            f2[i, int(j/2)] = df.iloc[i, j]"
   ]
  },
  {
   "cell_type": "code",
   "execution_count": null,
   "id": "a8bdc837",
   "metadata": {},
   "outputs": [],
   "source": [
    "fig, axes = plt.subplots(1, 1, figsize=(8, 8))\n",
    "camera = Camera(fig)\n",
    "\n",
    "for i in range(num_rows):\n",
    "    F = np.column_stack([f1[i, :], f2[i, :]])\n",
    "    axes.scatter(F[:, 0], F[:, 1], c='r')\n",
    "    title = axes.text(0.5, 0.85, \"\", bbox={'facecolor':'w', 'alpha':0.5, 'pad':5}, transform = axes.transAxes, ha='center')\n",
    "    axes.set_xlabel('Complexity')\n",
    "    axes.set_ylabel('Error')\n",
    "    title.set_text(f\"N_gen: {i}\")\n",
    "    camera.snap()\n",
    "\n",
    "writervideo = animation.FFMpegWriter(fps=5)\n",
    "anim = camera.animate(blit=True)\n",
    "anim.save('Pareto Front Animation.mp4', writer=writervideo)"
   ]
  },
  {
   "cell_type": "markdown",
   "id": "a89828de",
   "metadata": {},
   "source": [
    "## Checking with pymoo"
   ]
  },
  {
   "cell_type": "code",
   "execution_count": null,
   "id": "8aca6ea0",
   "metadata": {},
   "outputs": [],
   "source": [
    "orig_F = np.float64(df.iloc[:18, :].values)\n",
    "orig_F"
   ]
  },
  {
   "cell_type": "code",
   "execution_count": 103,
   "id": "bcf4c085",
   "metadata": {},
   "outputs": [],
   "source": [
    "from pymoo.util.nds.non_dominated_sorting import NonDominatedSorting as nds\n",
    "\n",
    "I = nds().do(orig_F)"
   ]
  },
  {
   "cell_type": "code",
   "execution_count": null,
   "id": "8894d511",
   "metadata": {},
   "outputs": [],
   "source": [
    "from pymoo.algorithms.moo.nsga2 import calc_crowding_distance\n",
    "\n",
    "crowding = calc_crowding_distance(orig_F)\n",
    "print(crowding)\n",
    "I = np.argsort(-crowding)\n",
    "I"
   ]
  },
  {
   "cell_type": "code",
   "execution_count": null,
   "id": "60b101dc",
   "metadata": {},
   "outputs": [],
   "source": [
    "pf_F"
   ]
  },
  {
   "cell_type": "code",
   "execution_count": null,
   "id": "b2f12370",
   "metadata": {},
   "outputs": [],
   "source": [
    "crowding"
   ]
  },
  {
   "cell_type": "code",
   "execution_count": null,
   "id": "f3eade7b",
   "metadata": {},
   "outputs": [],
   "source": [
    "np.max(f1)"
   ]
  },
  {
   "cell_type": "code",
   "execution_count": null,
   "id": "01aaf26b",
   "metadata": {},
   "outputs": [],
   "source": []
  }
 ],
 "metadata": {
  "kernelspec": {
   "display_name": "Python 3",
   "language": "python",
   "name": "python3"
  },
  "language_info": {
   "codemirror_mode": {
    "name": "ipython",
    "version": 3
   },
   "file_extension": ".py",
   "mimetype": "text/x-python",
   "name": "python",
   "nbconvert_exporter": "python",
   "pygments_lexer": "ipython3",
   "version": "3.9.5"
  }
 },
 "nbformat": 4,
 "nbformat_minor": 5
}
