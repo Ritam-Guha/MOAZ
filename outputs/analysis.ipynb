{
 "cells": [
  {
   "cell_type": "code",
   "execution_count": 16,
   "id": "570a8778",
   "metadata": {},
   "outputs": [],
   "source": [
    "import pandas as pd\n",
    "import numpy as np\n",
    "import plotly.express as px\n",
    "import matplotlib.pyplot as plt"
   ]
  },
  {
   "cell_type": "code",
   "execution_count": 5,
   "id": "6fa7d4e9",
   "metadata": {},
   "outputs": [],
   "source": [
    "def read_algos(file_path):\n",
    "    # function to specify the way to read instructions in html\n",
    "    algo_list = []\n",
    "    with open(file_path,'r') as rf:\n",
    "        cur_algo = \"<br>\"\n",
    "        for line in rf:\n",
    "            if line == \"\\n\":\n",
    "                algo_list.append(cur_algo)\n",
    "                cur_algo = \"<br>\"\n",
    "            else:\n",
    "                line = line.replace(\"\\n\", \"<br>\")\n",
    "                cur_algo += line\n",
    "\n",
    "    return algo_list\n",
    "\n",
    "def plot(df, x_title, y_title, color=\"Type\", title=\"Final Pareto Front\"):\n",
    "    # plot interactive plots showing the algo specs\n",
    "    hover_data = list(df.columns)\n",
    "    hover_data.remove(x_title)\n",
    "    hover_data.remove(y_title)\n",
    "\n",
    "    fig = px.scatter(df, x=x_title, y=y_title, hover_data=hover_data, color=color, log_x=True, size_max=60)\n",
    "    fig.update_traces(textposition='top center', marker_size=10)\n",
    "\n",
    "    fig.update_layout(\n",
    "    height=800,\n",
    "    title_text=title\n",
    "    )\n",
    "\n",
    "    fig.show()\n",
    "    return fig"
   ]
  },
  {
   "cell_type": "markdown",
   "id": "f6cf9b14",
   "metadata": {},
   "source": [
    "## Generate the interactive plots for both Intron Removal and Non-Intron Removal cases"
   ]
  },
  {
   "cell_type": "code",
   "execution_count": 7,
   "id": "b96155f6",
   "metadata": {},
   "outputs": [
    {
     "data": {
      "application/vnd.plotly.v1+json": {
       "config": {
        "plotlyServerURL": "https://plot.ly"
       },
       "data": [
        {
         "customdata": [
          [
           "<br>def Setup():<br>  s2 = -0.0435958<br>  s2 = -0.0469119<br>  s3 = s2 - s1<br>def Predict():<br>  s2 = 0.103146<br>  s1 = dot(v0, v2)<br>  s1 = s1 - s3<br>  s1 = s1 * s2<br>  s2 = 0.421776<br>  s2 = s2 * s1<br>  s3 = s3 * s2<br>def Learn():<br>  s1 = s0 - s1<br>  v1 = s1 * v0<br>  v2 = v1 + v2<br>  s2 = s2 - s1<br>  s3 = s1 * s2<br>",
           "Train"
          ],
          [
           "<br>def Setup():<br>  s2 = 0.0319854<br>  s1 = s2 - s3<br>  s3 = 4.42451<br>def Predict():<br>  s2 = 0.104234<br>  s1 = dot(v0, v2)<br>  s1 = s1 - s3<br>  s1 = s1 * s2<br>  s2 = s2 * s1<br>def Learn():<br>  s1 = s0 - s1<br>  v1 = s1 * v0<br>  v2 = v1 + v2<br>  s2 = s2 - s1<br>  s3 = s1 * s2<br>",
           "Train"
          ],
          [
           "<br>def Setup():<br>  s2 = -0.0435958<br>  s2 = -0.0469119<br>  s3 = s2 - s1<br>def Predict():<br>  s2 = 0.103146<br>  s1 = dot(v0, v2)<br>  s1 = s1 - s3<br>  s1 = s1 * s2<br>  s2 = 0.421776<br>  s2 = s2 * s1<br>  s3 = s3 * s2<br>def Learn():<br>  s1 = s0 - s1<br>  v1 = s1 * v0<br>  v2 = v1 + v2<br>  s2 = s2 - s1<br>  s3 = s1 * s2<br>",
           "Train"
          ],
          [
           "<br>def Setup():<br>  s2 = 0.0319854<br>  s1 = s2 - s3<br>  s3 = 4.42451<br>def Predict():<br>  s2 = 0.104234<br>  s1 = dot(v0, v2)<br>  s1 = s1 - s3<br>  s1 = s1 * s2<br>  s2 = s2 * s1<br>def Learn():<br>  s1 = s0 - s1<br>  v1 = s1 * v0<br>  v2 = v1 + v2<br>  s2 = s2 - s1<br>  s3 = s1 * s2<br>",
           "Train"
          ],
          [
           "<br>def Setup():<br>  s1 = -0.416875<br>  s3 = s0 * s1<br>  s2 = s1 - s3<br>  s3 = 1.40189<br>def Predict():<br>  s2 = 0.104234<br>  s1 = dot(v0, v2)<br>  s1 = s1 - s3<br>  s1 = s1 * s2<br>  s2 = s2 * s1<br>def Learn():<br>  s1 = s0 - s1<br>  s2 = s2 * s1<br>  v1 = s1 * v0<br>  v2 = v1 + v2<br>  s2 = s2 - s1<br>  s3 = s1 * s2<br>",
           "Train"
          ],
          [
           "<br>def Setup():<br>  s1 = -0.416875<br>  s3 = s0 * s1<br>  s1 = s1 - s3<br>  s3 = 1.40189<br>def Predict():<br>  s2 = 0.104234<br>  s1 = dot(v0, v2)<br>  s1 = s1 - s3<br>  s1 = s1 * s2<br>  s2 = s2 * s1<br>def Learn():<br>  s1 = s0 - s1<br>  s2 = s2 * s1<br>  v1 = s1 * v0<br>  v2 = v1 + v2<br>  s2 = s2 - s1<br>  s3 = s1 * s2<br>",
           "Train"
          ],
          [
           "<br>def Setup():<br>  s2 = -0.0435958<br>  s2 = -0.0469119<br>  s3 = s2 - s1<br>def Predict():<br>  s2 = 0.103146<br>  s1 = dot(v0, v2)<br>  s1 = s1 - s3<br>  s1 = s1 * s2<br>  s2 = 0.421776<br>  s2 = s2 * s1<br>  s3 = s3 * s2<br>def Learn():<br>  s1 = s0 - s1<br>  v1 = s1 * v0<br>  v2 = v1 + v2<br>  s2 = s2 - s1<br>  s3 = s1 * s2<br>",
           "Train"
          ],
          [
           "<br>def Setup():<br>  s1 = 0.713546<br>  s1 = s3 - s3<br>  s1 = s1 * s0<br>  s3 = 4.42451<br>def Predict():<br>  s2 = 0.104234<br>  s1 = dot(v0, v2)<br>  s1 = s1 - s3<br>  s1 = s1 * s2<br>  s2 = s2 * s1<br>def Learn():<br>  s1 = s0 - s1<br>  v1 = s1 * v0<br>  v2 = v1 + v2<br>  s2 = s2 - s1<br>  s3 = s1 * s2<br>",
           "Train"
          ],
          [
           "<br>def Setup():<br>  s1 = -0.416875<br>  s3 = s0 * s1<br>  s1 = 0.85902<br>  s3 = 1.40189<br>def Predict():<br>  s2 = 0.104234<br>  s1 = dot(v0, v2)<br>  s1 = s1 - s3<br>  s1 = s1 * s2<br>  s2 = s2 * s1<br>def Learn():<br>  s1 = s0 - s1<br>  s2 = s2 * s1<br>  v1 = s1 * v0<br>  v2 = v1 + v2<br>  s2 = s2 - s1<br>  s3 = s1 * s2<br>",
           "Train"
          ],
          [
           "<br>def Setup():<br>  s2 = -0.0317375<br>  s2 = -0.0469119<br>  s3 = s2 - s3<br>def Predict():<br>  s2 = 0.103146<br>  s1 = dot(v0, v2)<br>  s1 = s1 - s3<br>  s1 = s1 * s2<br>  s2 = 0.421776<br>  s2 = s2 * s1<br>  s3 = s3 * s2<br>def Learn():<br>  s1 = s0 - s1<br>  v1 = s1 * v0<br>  v2 = v1 + v2<br>  s2 = s2 - s1<br>  s3 = s1 * s2<br>",
           "Train"
          ],
          [
           "<br>def Setup():<br>  s1 = 0.713546<br>  s1 = s2 - s3<br>  s3 = s1 * s0<br>  s3 = 4.42451<br>def Predict():<br>  s2 = 0.104234<br>  s1 = dot(v0, v2)<br>  s1 = s1 - s3<br>  s1 = s1 * s2<br>  s2 = s2 * s1<br>def Learn():<br>  s1 = s0 - s1<br>  v1 = s1 * v0<br>  v2 = v1 + v2<br>  s2 = s2 - s1<br>  s3 = s1 * s2<br>",
           "Train"
          ],
          [
           "<br>def Setup():<br>  s1 = -0.416875<br>  s3 = s0 * s1<br>  s1 = 0.73482<br>  s3 = 1.40189<br>def Predict():<br>  s2 = 0.104234<br>  s1 = dot(v0, v2)<br>  s1 = s1 - s3<br>  s1 = s1 * s2<br>  s2 = s2 * s1<br>def Learn():<br>  s1 = s0 - s1<br>  s2 = s2 * s1<br>  v1 = s1 * v0<br>  v2 = v1 + v2<br>  s2 = s2 - s1<br>  s3 = s1 * s2<br>",
           "Train"
          ]
         ],
         "hovertemplate": "Type=%{customdata[1]}<br>Complexity=%{x}<br>Error=%{y}<br>Algorithm=%{customdata[0]}<extra></extra>",
         "legendgroup": "Train",
         "marker": {
          "color": "#636efa",
          "size": 10,
          "symbol": "circle"
         },
         "mode": "markers",
         "name": "Train",
         "orientation": "v",
         "showlegend": true,
         "textposition": "top center",
         "type": "scatter",
         "x": [
          14,
          12,
          14,
          12,
          12,
          12,
          14,
          12,
          12,
          14,
          12,
          12
         ],
         "xaxis": "x",
         "y": [
          0.00476263,
          0.00500186,
          0.00476263,
          0.00500186,
          0.00482713,
          0.00482713,
          0.00476263,
          0.00500186,
          0.00482713,
          0.00476263,
          0.00500186,
          0.00482713
         ],
         "yaxis": "y"
        },
        {
         "customdata": [
          [
           "<br>def Setup():<br>  s2 = -0.0435958<br>  s2 = -0.0469119<br>  s3 = s2 - s1<br>def Predict():<br>  s2 = 0.103146<br>  s1 = dot(v0, v2)<br>  s1 = s1 - s3<br>  s1 = s1 * s2<br>  s2 = 0.421776<br>  s2 = s2 * s1<br>  s3 = s3 * s2<br>def Learn():<br>  s1 = s0 - s1<br>  v1 = s1 * v0<br>  v2 = v1 + v2<br>  s2 = s2 - s1<br>  s3 = s1 * s2<br>",
           "Test"
          ],
          [
           "<br>def Setup():<br>  s2 = 0.0319854<br>  s1 = s2 - s3<br>  s3 = 4.42451<br>def Predict():<br>  s2 = 0.104234<br>  s1 = dot(v0, v2)<br>  s1 = s1 - s3<br>  s1 = s1 * s2<br>  s2 = s2 * s1<br>def Learn():<br>  s1 = s0 - s1<br>  v1 = s1 * v0<br>  v2 = v1 + v2<br>  s2 = s2 - s1<br>  s3 = s1 * s2<br>",
           "Test"
          ],
          [
           "<br>def Setup():<br>  s2 = -0.0435958<br>  s2 = -0.0469119<br>  s3 = s2 - s1<br>def Predict():<br>  s2 = 0.103146<br>  s1 = dot(v0, v2)<br>  s1 = s1 - s3<br>  s1 = s1 * s2<br>  s2 = 0.421776<br>  s2 = s2 * s1<br>  s3 = s3 * s2<br>def Learn():<br>  s1 = s0 - s1<br>  v1 = s1 * v0<br>  v2 = v1 + v2<br>  s2 = s2 - s1<br>  s3 = s1 * s2<br>",
           "Test"
          ],
          [
           "<br>def Setup():<br>  s2 = 0.0319854<br>  s1 = s2 - s3<br>  s3 = 4.42451<br>def Predict():<br>  s2 = 0.104234<br>  s1 = dot(v0, v2)<br>  s1 = s1 - s3<br>  s1 = s1 * s2<br>  s2 = s2 * s1<br>def Learn():<br>  s1 = s0 - s1<br>  v1 = s1 * v0<br>  v2 = v1 + v2<br>  s2 = s2 - s1<br>  s3 = s1 * s2<br>",
           "Test"
          ],
          [
           "<br>def Setup():<br>  s1 = -0.416875<br>  s3 = s0 * s1<br>  s2 = s1 - s3<br>  s3 = 1.40189<br>def Predict():<br>  s2 = 0.104234<br>  s1 = dot(v0, v2)<br>  s1 = s1 - s3<br>  s1 = s1 * s2<br>  s2 = s2 * s1<br>def Learn():<br>  s1 = s0 - s1<br>  s2 = s2 * s1<br>  v1 = s1 * v0<br>  v2 = v1 + v2<br>  s2 = s2 - s1<br>  s3 = s1 * s2<br>",
           "Test"
          ],
          [
           "<br>def Setup():<br>  s1 = -0.416875<br>  s3 = s0 * s1<br>  s1 = s1 - s3<br>  s3 = 1.40189<br>def Predict():<br>  s2 = 0.104234<br>  s1 = dot(v0, v2)<br>  s1 = s1 - s3<br>  s1 = s1 * s2<br>  s2 = s2 * s1<br>def Learn():<br>  s1 = s0 - s1<br>  s2 = s2 * s1<br>  v1 = s1 * v0<br>  v2 = v1 + v2<br>  s2 = s2 - s1<br>  s3 = s1 * s2<br>",
           "Test"
          ],
          [
           "<br>def Setup():<br>  s2 = -0.0435958<br>  s2 = -0.0469119<br>  s3 = s2 - s1<br>def Predict():<br>  s2 = 0.103146<br>  s1 = dot(v0, v2)<br>  s1 = s1 - s3<br>  s1 = s1 * s2<br>  s2 = 0.421776<br>  s2 = s2 * s1<br>  s3 = s3 * s2<br>def Learn():<br>  s1 = s0 - s1<br>  v1 = s1 * v0<br>  v2 = v1 + v2<br>  s2 = s2 - s1<br>  s3 = s1 * s2<br>",
           "Test"
          ],
          [
           "<br>def Setup():<br>  s1 = 0.713546<br>  s1 = s3 - s3<br>  s1 = s1 * s0<br>  s3 = 4.42451<br>def Predict():<br>  s2 = 0.104234<br>  s1 = dot(v0, v2)<br>  s1 = s1 - s3<br>  s1 = s1 * s2<br>  s2 = s2 * s1<br>def Learn():<br>  s1 = s0 - s1<br>  v1 = s1 * v0<br>  v2 = v1 + v2<br>  s2 = s2 - s1<br>  s3 = s1 * s2<br>",
           "Test"
          ],
          [
           "<br>def Setup():<br>  s1 = -0.416875<br>  s3 = s0 * s1<br>  s1 = 0.85902<br>  s3 = 1.40189<br>def Predict():<br>  s2 = 0.104234<br>  s1 = dot(v0, v2)<br>  s1 = s1 - s3<br>  s1 = s1 * s2<br>  s2 = s2 * s1<br>def Learn():<br>  s1 = s0 - s1<br>  s2 = s2 * s1<br>  v1 = s1 * v0<br>  v2 = v1 + v2<br>  s2 = s2 - s1<br>  s3 = s1 * s2<br>",
           "Test"
          ],
          [
           "<br>def Setup():<br>  s2 = -0.0317375<br>  s2 = -0.0469119<br>  s3 = s2 - s3<br>def Predict():<br>  s2 = 0.103146<br>  s1 = dot(v0, v2)<br>  s1 = s1 - s3<br>  s1 = s1 * s2<br>  s2 = 0.421776<br>  s2 = s2 * s1<br>  s3 = s3 * s2<br>def Learn():<br>  s1 = s0 - s1<br>  v1 = s1 * v0<br>  v2 = v1 + v2<br>  s2 = s2 - s1<br>  s3 = s1 * s2<br>",
           "Test"
          ],
          [
           "<br>def Setup():<br>  s1 = 0.713546<br>  s1 = s2 - s3<br>  s3 = s1 * s0<br>  s3 = 4.42451<br>def Predict():<br>  s2 = 0.104234<br>  s1 = dot(v0, v2)<br>  s1 = s1 - s3<br>  s1 = s1 * s2<br>  s2 = s2 * s1<br>def Learn():<br>  s1 = s0 - s1<br>  v1 = s1 * v0<br>  v2 = v1 + v2<br>  s2 = s2 - s1<br>  s3 = s1 * s2<br>",
           "Test"
          ],
          [
           "<br>def Setup():<br>  s1 = -0.416875<br>  s3 = s0 * s1<br>  s1 = 0.73482<br>  s3 = 1.40189<br>def Predict():<br>  s2 = 0.104234<br>  s1 = dot(v0, v2)<br>  s1 = s1 - s3<br>  s1 = s1 * s2<br>  s2 = s2 * s1<br>def Learn():<br>  s1 = s0 - s1<br>  s2 = s2 * s1<br>  v1 = s1 * v0<br>  v2 = v1 + v2<br>  s2 = s2 - s1<br>  s3 = s1 * s2<br>",
           "Test"
          ]
         ],
         "hovertemplate": "Type=%{customdata[1]}<br>Complexity=%{x}<br>Error=%{y}<br>Algorithm=%{customdata[0]}<extra></extra>",
         "legendgroup": "Test",
         "marker": {
          "color": "#EF553B",
          "size": 10,
          "symbol": "circle"
         },
         "mode": "markers",
         "name": "Test",
         "orientation": "v",
         "showlegend": true,
         "textposition": "top center",
         "type": "scatter",
         "x": [
          14,
          12,
          14,
          12,
          12,
          12,
          14,
          12,
          12,
          14,
          12,
          12
         ],
         "xaxis": "x",
         "y": [
          2.22045e-16,
          2.22045e-16,
          2.22045e-16,
          2.22045e-16,
          2.22045e-16,
          2.22045e-16,
          2.22045e-16,
          2.22045e-16,
          2.22045e-16,
          2.22045e-16,
          2.22045e-16,
          2.22045e-16
         ],
         "yaxis": "y"
        }
       ],
       "layout": {
        "height": 800,
        "legend": {
         "title": {
          "text": "Type"
         },
         "tracegroupgap": 0
        },
        "margin": {
         "t": 60
        },
        "template": {
         "data": {
          "bar": [
           {
            "error_x": {
             "color": "#2a3f5f"
            },
            "error_y": {
             "color": "#2a3f5f"
            },
            "marker": {
             "line": {
              "color": "#E5ECF6",
              "width": 0.5
             },
             "pattern": {
              "fillmode": "overlay",
              "size": 10,
              "solidity": 0.2
             }
            },
            "type": "bar"
           }
          ],
          "barpolar": [
           {
            "marker": {
             "line": {
              "color": "#E5ECF6",
              "width": 0.5
             },
             "pattern": {
              "fillmode": "overlay",
              "size": 10,
              "solidity": 0.2
             }
            },
            "type": "barpolar"
           }
          ],
          "carpet": [
           {
            "aaxis": {
             "endlinecolor": "#2a3f5f",
             "gridcolor": "white",
             "linecolor": "white",
             "minorgridcolor": "white",
             "startlinecolor": "#2a3f5f"
            },
            "baxis": {
             "endlinecolor": "#2a3f5f",
             "gridcolor": "white",
             "linecolor": "white",
             "minorgridcolor": "white",
             "startlinecolor": "#2a3f5f"
            },
            "type": "carpet"
           }
          ],
          "choropleth": [
           {
            "colorbar": {
             "outlinewidth": 0,
             "ticks": ""
            },
            "type": "choropleth"
           }
          ],
          "contour": [
           {
            "colorbar": {
             "outlinewidth": 0,
             "ticks": ""
            },
            "colorscale": [
             [
              0,
              "#0d0887"
             ],
             [
              0.1111111111111111,
              "#46039f"
             ],
             [
              0.2222222222222222,
              "#7201a8"
             ],
             [
              0.3333333333333333,
              "#9c179e"
             ],
             [
              0.4444444444444444,
              "#bd3786"
             ],
             [
              0.5555555555555556,
              "#d8576b"
             ],
             [
              0.6666666666666666,
              "#ed7953"
             ],
             [
              0.7777777777777778,
              "#fb9f3a"
             ],
             [
              0.8888888888888888,
              "#fdca26"
             ],
             [
              1,
              "#f0f921"
             ]
            ],
            "type": "contour"
           }
          ],
          "contourcarpet": [
           {
            "colorbar": {
             "outlinewidth": 0,
             "ticks": ""
            },
            "type": "contourcarpet"
           }
          ],
          "heatmap": [
           {
            "colorbar": {
             "outlinewidth": 0,
             "ticks": ""
            },
            "colorscale": [
             [
              0,
              "#0d0887"
             ],
             [
              0.1111111111111111,
              "#46039f"
             ],
             [
              0.2222222222222222,
              "#7201a8"
             ],
             [
              0.3333333333333333,
              "#9c179e"
             ],
             [
              0.4444444444444444,
              "#bd3786"
             ],
             [
              0.5555555555555556,
              "#d8576b"
             ],
             [
              0.6666666666666666,
              "#ed7953"
             ],
             [
              0.7777777777777778,
              "#fb9f3a"
             ],
             [
              0.8888888888888888,
              "#fdca26"
             ],
             [
              1,
              "#f0f921"
             ]
            ],
            "type": "heatmap"
           }
          ],
          "heatmapgl": [
           {
            "colorbar": {
             "outlinewidth": 0,
             "ticks": ""
            },
            "colorscale": [
             [
              0,
              "#0d0887"
             ],
             [
              0.1111111111111111,
              "#46039f"
             ],
             [
              0.2222222222222222,
              "#7201a8"
             ],
             [
              0.3333333333333333,
              "#9c179e"
             ],
             [
              0.4444444444444444,
              "#bd3786"
             ],
             [
              0.5555555555555556,
              "#d8576b"
             ],
             [
              0.6666666666666666,
              "#ed7953"
             ],
             [
              0.7777777777777778,
              "#fb9f3a"
             ],
             [
              0.8888888888888888,
              "#fdca26"
             ],
             [
              1,
              "#f0f921"
             ]
            ],
            "type": "heatmapgl"
           }
          ],
          "histogram": [
           {
            "marker": {
             "pattern": {
              "fillmode": "overlay",
              "size": 10,
              "solidity": 0.2
             }
            },
            "type": "histogram"
           }
          ],
          "histogram2d": [
           {
            "colorbar": {
             "outlinewidth": 0,
             "ticks": ""
            },
            "colorscale": [
             [
              0,
              "#0d0887"
             ],
             [
              0.1111111111111111,
              "#46039f"
             ],
             [
              0.2222222222222222,
              "#7201a8"
             ],
             [
              0.3333333333333333,
              "#9c179e"
             ],
             [
              0.4444444444444444,
              "#bd3786"
             ],
             [
              0.5555555555555556,
              "#d8576b"
             ],
             [
              0.6666666666666666,
              "#ed7953"
             ],
             [
              0.7777777777777778,
              "#fb9f3a"
             ],
             [
              0.8888888888888888,
              "#fdca26"
             ],
             [
              1,
              "#f0f921"
             ]
            ],
            "type": "histogram2d"
           }
          ],
          "histogram2dcontour": [
           {
            "colorbar": {
             "outlinewidth": 0,
             "ticks": ""
            },
            "colorscale": [
             [
              0,
              "#0d0887"
             ],
             [
              0.1111111111111111,
              "#46039f"
             ],
             [
              0.2222222222222222,
              "#7201a8"
             ],
             [
              0.3333333333333333,
              "#9c179e"
             ],
             [
              0.4444444444444444,
              "#bd3786"
             ],
             [
              0.5555555555555556,
              "#d8576b"
             ],
             [
              0.6666666666666666,
              "#ed7953"
             ],
             [
              0.7777777777777778,
              "#fb9f3a"
             ],
             [
              0.8888888888888888,
              "#fdca26"
             ],
             [
              1,
              "#f0f921"
             ]
            ],
            "type": "histogram2dcontour"
           }
          ],
          "mesh3d": [
           {
            "colorbar": {
             "outlinewidth": 0,
             "ticks": ""
            },
            "type": "mesh3d"
           }
          ],
          "parcoords": [
           {
            "line": {
             "colorbar": {
              "outlinewidth": 0,
              "ticks": ""
             }
            },
            "type": "parcoords"
           }
          ],
          "pie": [
           {
            "automargin": true,
            "type": "pie"
           }
          ],
          "scatter": [
           {
            "marker": {
             "colorbar": {
              "outlinewidth": 0,
              "ticks": ""
             }
            },
            "type": "scatter"
           }
          ],
          "scatter3d": [
           {
            "line": {
             "colorbar": {
              "outlinewidth": 0,
              "ticks": ""
             }
            },
            "marker": {
             "colorbar": {
              "outlinewidth": 0,
              "ticks": ""
             }
            },
            "type": "scatter3d"
           }
          ],
          "scattercarpet": [
           {
            "marker": {
             "colorbar": {
              "outlinewidth": 0,
              "ticks": ""
             }
            },
            "type": "scattercarpet"
           }
          ],
          "scattergeo": [
           {
            "marker": {
             "colorbar": {
              "outlinewidth": 0,
              "ticks": ""
             }
            },
            "type": "scattergeo"
           }
          ],
          "scattergl": [
           {
            "marker": {
             "colorbar": {
              "outlinewidth": 0,
              "ticks": ""
             }
            },
            "type": "scattergl"
           }
          ],
          "scattermapbox": [
           {
            "marker": {
             "colorbar": {
              "outlinewidth": 0,
              "ticks": ""
             }
            },
            "type": "scattermapbox"
           }
          ],
          "scatterpolar": [
           {
            "marker": {
             "colorbar": {
              "outlinewidth": 0,
              "ticks": ""
             }
            },
            "type": "scatterpolar"
           }
          ],
          "scatterpolargl": [
           {
            "marker": {
             "colorbar": {
              "outlinewidth": 0,
              "ticks": ""
             }
            },
            "type": "scatterpolargl"
           }
          ],
          "scatterternary": [
           {
            "marker": {
             "colorbar": {
              "outlinewidth": 0,
              "ticks": ""
             }
            },
            "type": "scatterternary"
           }
          ],
          "surface": [
           {
            "colorbar": {
             "outlinewidth": 0,
             "ticks": ""
            },
            "colorscale": [
             [
              0,
              "#0d0887"
             ],
             [
              0.1111111111111111,
              "#46039f"
             ],
             [
              0.2222222222222222,
              "#7201a8"
             ],
             [
              0.3333333333333333,
              "#9c179e"
             ],
             [
              0.4444444444444444,
              "#bd3786"
             ],
             [
              0.5555555555555556,
              "#d8576b"
             ],
             [
              0.6666666666666666,
              "#ed7953"
             ],
             [
              0.7777777777777778,
              "#fb9f3a"
             ],
             [
              0.8888888888888888,
              "#fdca26"
             ],
             [
              1,
              "#f0f921"
             ]
            ],
            "type": "surface"
           }
          ],
          "table": [
           {
            "cells": {
             "fill": {
              "color": "#EBF0F8"
             },
             "line": {
              "color": "white"
             }
            },
            "header": {
             "fill": {
              "color": "#C8D4E3"
             },
             "line": {
              "color": "white"
             }
            },
            "type": "table"
           }
          ]
         },
         "layout": {
          "annotationdefaults": {
           "arrowcolor": "#2a3f5f",
           "arrowhead": 0,
           "arrowwidth": 1
          },
          "autotypenumbers": "strict",
          "coloraxis": {
           "colorbar": {
            "outlinewidth": 0,
            "ticks": ""
           }
          },
          "colorscale": {
           "diverging": [
            [
             0,
             "#8e0152"
            ],
            [
             0.1,
             "#c51b7d"
            ],
            [
             0.2,
             "#de77ae"
            ],
            [
             0.3,
             "#f1b6da"
            ],
            [
             0.4,
             "#fde0ef"
            ],
            [
             0.5,
             "#f7f7f7"
            ],
            [
             0.6,
             "#e6f5d0"
            ],
            [
             0.7,
             "#b8e186"
            ],
            [
             0.8,
             "#7fbc41"
            ],
            [
             0.9,
             "#4d9221"
            ],
            [
             1,
             "#276419"
            ]
           ],
           "sequential": [
            [
             0,
             "#0d0887"
            ],
            [
             0.1111111111111111,
             "#46039f"
            ],
            [
             0.2222222222222222,
             "#7201a8"
            ],
            [
             0.3333333333333333,
             "#9c179e"
            ],
            [
             0.4444444444444444,
             "#bd3786"
            ],
            [
             0.5555555555555556,
             "#d8576b"
            ],
            [
             0.6666666666666666,
             "#ed7953"
            ],
            [
             0.7777777777777778,
             "#fb9f3a"
            ],
            [
             0.8888888888888888,
             "#fdca26"
            ],
            [
             1,
             "#f0f921"
            ]
           ],
           "sequentialminus": [
            [
             0,
             "#0d0887"
            ],
            [
             0.1111111111111111,
             "#46039f"
            ],
            [
             0.2222222222222222,
             "#7201a8"
            ],
            [
             0.3333333333333333,
             "#9c179e"
            ],
            [
             0.4444444444444444,
             "#bd3786"
            ],
            [
             0.5555555555555556,
             "#d8576b"
            ],
            [
             0.6666666666666666,
             "#ed7953"
            ],
            [
             0.7777777777777778,
             "#fb9f3a"
            ],
            [
             0.8888888888888888,
             "#fdca26"
            ],
            [
             1,
             "#f0f921"
            ]
           ]
          },
          "colorway": [
           "#636efa",
           "#EF553B",
           "#00cc96",
           "#ab63fa",
           "#FFA15A",
           "#19d3f3",
           "#FF6692",
           "#B6E880",
           "#FF97FF",
           "#FECB52"
          ],
          "font": {
           "color": "#2a3f5f"
          },
          "geo": {
           "bgcolor": "white",
           "lakecolor": "white",
           "landcolor": "#E5ECF6",
           "showlakes": true,
           "showland": true,
           "subunitcolor": "white"
          },
          "hoverlabel": {
           "align": "left"
          },
          "hovermode": "closest",
          "mapbox": {
           "style": "light"
          },
          "paper_bgcolor": "white",
          "plot_bgcolor": "#E5ECF6",
          "polar": {
           "angularaxis": {
            "gridcolor": "white",
            "linecolor": "white",
            "ticks": ""
           },
           "bgcolor": "#E5ECF6",
           "radialaxis": {
            "gridcolor": "white",
            "linecolor": "white",
            "ticks": ""
           }
          },
          "scene": {
           "xaxis": {
            "backgroundcolor": "#E5ECF6",
            "gridcolor": "white",
            "gridwidth": 2,
            "linecolor": "white",
            "showbackground": true,
            "ticks": "",
            "zerolinecolor": "white"
           },
           "yaxis": {
            "backgroundcolor": "#E5ECF6",
            "gridcolor": "white",
            "gridwidth": 2,
            "linecolor": "white",
            "showbackground": true,
            "ticks": "",
            "zerolinecolor": "white"
           },
           "zaxis": {
            "backgroundcolor": "#E5ECF6",
            "gridcolor": "white",
            "gridwidth": 2,
            "linecolor": "white",
            "showbackground": true,
            "ticks": "",
            "zerolinecolor": "white"
           }
          },
          "shapedefaults": {
           "line": {
            "color": "#2a3f5f"
           }
          },
          "ternary": {
           "aaxis": {
            "gridcolor": "white",
            "linecolor": "white",
            "ticks": ""
           },
           "baxis": {
            "gridcolor": "white",
            "linecolor": "white",
            "ticks": ""
           },
           "bgcolor": "#E5ECF6",
           "caxis": {
            "gridcolor": "white",
            "linecolor": "white",
            "ticks": ""
           }
          },
          "title": {
           "x": 0.05
          },
          "xaxis": {
           "automargin": true,
           "gridcolor": "white",
           "linecolor": "white",
           "ticks": "",
           "title": {
            "standoff": 15
           },
           "zerolinecolor": "white",
           "zerolinewidth": 2
          },
          "yaxis": {
           "automargin": true,
           "gridcolor": "white",
           "linecolor": "white",
           "ticks": "",
           "title": {
            "standoff": 15
           },
           "zerolinecolor": "white",
           "zerolinewidth": 2
          }
         }
        },
        "title": {
         "text": "Final Pareto Front with Intron Removal, Seed = 1"
        },
        "xaxis": {
         "anchor": "y",
         "domain": [
          0,
          1
         ],
         "title": {
          "text": "Complexity"
         },
         "type": "log"
        },
        "yaxis": {
         "anchor": "x",
         "domain": [
          0,
          1
         ],
         "title": {
          "text": "Error"
         }
        }
       }
      }
     },
     "metadata": {},
     "output_type": "display_data"
    },
    {
     "name": "stdout",
     "output_type": "stream",
     "text": [
      "Multi-Objective/linear_regression/scalar_linear_regression/skip_introns/Seed_1/population_size_12/pf_plot_1.html\n"
     ]
    }
   ],
   "source": [
    "# mention the seed list for the data\n",
    "seed_list = list(range(1, 2))\n",
    "\n",
    "# mention intron_removal or not\n",
    "intron_type = \"skip_introns\"\n",
    "\n",
    "# mentione objective\n",
    "obj_type = \"Multi-Objective\"\n",
    "\n",
    "type_task = \"linear_regression\"\n",
    "\n",
    "type_problem = \"scalar_linear_regression\"\n",
    "\n",
    "# select the folder location\n",
    "folder = f\"{obj_type}/{type_task}/{type_problem}/{intron_type}\"\n",
    "\n",
    "for seed in seed_list:\n",
    "    # load the files\n",
    "    seeded_folder = f\"{folder}/Seed_{seed}/population_size_12\"\n",
    "    pf_train = pd.read_csv(f\"{seeded_folder}/final_pf_train.txt\", sep=\",\", names=[\"Error\", \"Complexity\"])\n",
    "    pf_test = pd.read_csv(f\"{seeded_folder}/final_pf_test.txt\", sep=\",\", names=[\"Error\", \"Complexity\"])\n",
    "    algo_list = read_algos(f\"{seeded_folder}/final_pf_algos.txt\")\n",
    "\n",
    "    pf_train[\"Algorithm\"] = algo_list\n",
    "    pf_test[\"Algorithm\"] = algo_list\n",
    "    pf_train[\"Type\"] = \"Train\"\n",
    "    pf_test[\"Type\"] = \"Test\"\n",
    "\n",
    "    x_title = \"Complexity\"\n",
    "    y_title = \"Error\"\n",
    "\n",
    "    pf = pd.concat([pf_train, pf_test])\n",
    "\n",
    "    # plot and save the html files\n",
    "    if intron_type == \"skip_introns\":\n",
    "        fig = plot(pf, x_title, y_title, color=\"Type\", title=\"Final Pareto Front with Intron Removal, Seed = \" + str(seed))\n",
    "    else:\n",
    "        fig = plot(pf, x_title, y_title, color=\"Type\", title=\"Final Pareto Front without Intron Removal, Seed = \" + str(seed))\n",
    "\n",
    "    print(f\"{seeded_folder}/pf_plot_{seed}.html\")\n",
    "    fig.write_html(f\"{seeded_folder}/pf_plot_{seed}.html\")"
   ]
  },
  {
   "cell_type": "markdown",
   "id": "e8866dc5",
   "metadata": {},
   "source": [
    "# Plot the time requirements"
   ]
  },
  {
   "cell_type": "code",
   "execution_count": 31,
   "id": "263fc852",
   "metadata": {},
   "outputs": [],
   "source": [
    "import re\n",
    "\n",
    "def read_time(file):\n",
    "    f = open(file, \"r\")\n",
    "    cur_str = f.readline()\n",
    "    cur_time = re.findall(\"\\d+\\.\\d+\", cur_str)\n",
    "    \n",
    "    return float(cur_time[0])"
   ]
  },
  {
   "cell_type": "code",
   "execution_count": 32,
   "id": "dfbeb626",
   "metadata": {},
   "outputs": [
    {
     "data": {
      "image/png": "[encoded data removed]",
      "text/plain": [
       "<Figure size 1080x576 with 1 Axes>"
      ]
     },
     "metadata": {
      "needs_background": "light"
     },
     "output_type": "display_data"
    }
   ],
   "source": [
    "import matplotlib.pyplot as plt\n",
    "\n",
    "# mention the seed list for the data\n",
    "seed_list = list(range(1, 11))\n",
    "\n",
    "time_requirement_intron = []\n",
    "time_requirement_non_intron = []\n",
    "\n",
    "for seed in seed_list:\n",
    "    file_intron = \"Intron_Removal/Output_Files/Seed_\" + str(seed) + \"/final_programs_descriptions.txt\"\n",
    "    file_non_intron = \"Non_Intron_Removal/Output_Files/Seed_\" + str(seed) + \"/final_programs_descriptions.txt\"\n",
    "    time_requirement_intron.append(read_time(file_intron))\n",
    "    time_requirement_non_intron.append(read_time(file_non_intron))\n",
    "\n",
    "fig, ax = plt.subplots(1, 1, figsize=(15, 8))\n",
    "xticks = np.arange(10)\n",
    "ax.plot(xticks, time_requirement_intron, c=\"r\", label=\"Intron Removal\")\n",
    "ax.plot(xticks, time_requirement_non_intron, c=\"b\", label=\"Non Intron Removal\")\n",
    "ax.set_xticks(xticks)\n",
    "ax.set_xticklabels(seed_list)\n",
    "ax.set_xlabel(\"Seed Values\")\n",
    "ax.set_ylabel(\"Time Requirement (in s)\")\n",
    "ax.set_title(\"Time comparison between Intron and Non-Intron Removal\")\n",
    "ax.legend(loc=\"upper right\")\n",
    "plt.savefig(\"Time Comparison.jpg\")"
   ]
  },
  {
   "cell_type": "markdown",
   "metadata": {},
   "source": [
    "# Testing for Crossover"
   ]
  },
  {
   "cell_type": "code",
   "execution_count": 43,
   "id": "d0b11d0d",
   "metadata": {},
   "outputs": [
    {
     "data": {
      "application/vnd.plotly.v1+json": {
       "config": {
        "plotlyServerURL": "https://plot.ly"
       },
       "data": [
        {
         "customdata": [
          [
           "<br>def Setup():<br>def Predict():<br>def Learn():<br>",
           "Train"
          ],
          [
           "<br>def Setup():<br>def Predict():<br>  v2 = v1 + v2<br>  v1 = s3 * v1<br>  s3 = 0.189209<br>  s1 = dot(v0, v2)<br>  s1 = s1 * s3<br>  s3 = -0.887889<br>def Learn():<br>  s1 = s0 - s1<br>  s3 = 0.635851<br>  v1 = s1 * v0<br>",
           "Train"
          ],
          [
           "<br>def Setup():<br>def Predict():<br>  v2 = v1 + v2<br>  v1 = s3 * v1<br>  s3 = 0.189209<br>  s1 = dot(v0, v2)<br>  s1 = s1 * s3<br>  s3 = -0.887889<br>def Learn():<br>  s1 = s0 - s1<br>  s3 = 0.635851<br>  v1 = s1 * v0<br>",
           "Train"
          ],
          [
           "<br>def Setup():<br>def Predict():<br>def Learn():<br>",
           "Train"
          ],
          [
           "<br>def Setup():<br>def Predict():<br>  s1 = dot(v0, v2)<br>  s1 = s3 * s1<br>  v2 = v1 + v2<br>def Learn():<br>  v1 = s0 * v0<br>  s3 = 0.00645958<br>",
           "Train"
          ],
          [
           "<br>def Setup():<br>def Predict():<br>  s3 = 0.181514<br>  v2 = v1 + v2<br>  s1 = dot(v0, v2)<br>  s1 = s1 * s3<br>def Learn():<br>  s1 = s0 - s1<br>  v1 = s1 * v0<br>",
           "Train"
          ],
          [
           "<br>def Setup():<br>def Predict():<br>  s1 = dot(v0, v1)<br>  s2 = 0.290295<br>def Learn():<br>  v1 = s2 * v0<br>",
           "Train"
          ],
          [
           "<br>def Setup():<br>  s2 = 0.224386<br>def Predict():<br>  s1 = s2 - s3<br>  s2 = s2 - s1<br>  s3 = 0.0756371<br>def Learn():<br>  s2 = s0 * s3<br>  s3 = s1 - s3<br>",
           "Train"
          ],
          [
           "<br>def Setup():<br>def Predict():<br>  s1 = dot(v0, v2)<br>  s3 = s1 - s3<br>  s1 = s3 * s2<br>  s3 = 0.0283061<br>def Learn():<br>  v2 = v2 + v0<br>  s2 = s0 * s3<br>  s3 = s3 - s1<br>",
           "Train"
          ],
          [
           "<br>def Setup():<br>def Predict():<br>  s1 = s2 - s3<br>  s2 = s2 - s1<br>  s3 = 0.0756371<br>def Learn():<br>  s3 = s0 * s3<br>",
           "Train"
          ],
          [
           "<br>def Setup():<br>def Predict():<br>  v2 = v1 + v2<br>  v1 = s3 * v1<br>  s3 = 0.189209<br>  s1 = dot(v0, v2)<br>  s1 = s1 * s3<br>def Learn():<br>  s1 = s0 - s1<br>  v1 = s1 * v0<br>",
           "Train"
          ],
          [
           "<br>def Setup():<br>def Predict():<br>  s3 = 0.189209<br>  s1 = dot(v0, v2)<br>  s1 = s1 * s3<br>  s3 = -0.887889<br>def Learn():<br>  v2 = s0 * v0<br>",
           "Train"
          ]
         ],
         "hovertemplate": "Type=%{customdata[1]}<br>Complexity=%{x}<br>Error=%{y}<br>Algorithm=%{customdata[0]}<extra></extra>",
         "legendgroup": "Train",
         "marker": {
          "color": "#636efa",
          "size": 10,
          "symbol": "circle"
         },
         "mode": "markers",
         "name": "Train",
         "orientation": "v",
         "showlegend": true,
         "textposition": "top center",
         "type": "scatter",
         "x": [
          0,
          25,
          25,
          0,
          18,
          19,
          13,
          6,
          17,
          4,
          23,
          15
         ],
         "xaxis": "x",
         "y": [
          0.640347,
          0.0000141435,
          0.0000141435,
          0.640347,
          0.467661,
          0.00020391900000000002,
          0.627246,
          0.63925,
          0.585202,
          0.640274,
          0.000014178599999999998,
          0.601564
         ],
         "yaxis": "y"
        },
        {
         "customdata": [
          [
           "<br>def Setup():<br>def Predict():<br>def Learn():<br>",
           "Test"
          ],
          [
           "<br>def Setup():<br>def Predict():<br>  v2 = v1 + v2<br>  v1 = s3 * v1<br>  s3 = 0.189209<br>  s1 = dot(v0, v2)<br>  s1 = s1 * s3<br>  s3 = -0.887889<br>def Learn():<br>  s1 = s0 - s1<br>  s3 = 0.635851<br>  v1 = s1 * v0<br>",
           "Test"
          ],
          [
           "<br>def Setup():<br>def Predict():<br>  v2 = v1 + v2<br>  v1 = s3 * v1<br>  s3 = 0.189209<br>  s1 = dot(v0, v2)<br>  s1 = s1 * s3<br>  s3 = -0.887889<br>def Learn():<br>  s1 = s0 - s1<br>  s3 = 0.635851<br>  v1 = s1 * v0<br>",
           "Test"
          ],
          [
           "<br>def Setup():<br>def Predict():<br>def Learn():<br>",
           "Test"
          ],
          [
           "<br>def Setup():<br>def Predict():<br>  s1 = dot(v0, v2)<br>  s1 = s3 * s1<br>  v2 = v1 + v2<br>def Learn():<br>  v1 = s0 * v0<br>  s3 = 0.00645958<br>",
           "Test"
          ],
          [
           "<br>def Setup():<br>def Predict():<br>  s3 = 0.181514<br>  v2 = v1 + v2<br>  s1 = dot(v0, v2)<br>  s1 = s1 * s3<br>def Learn():<br>  s1 = s0 - s1<br>  v1 = s1 * v0<br>",
           "Test"
          ],
          [
           "<br>def Setup():<br>def Predict():<br>  s1 = dot(v0, v1)<br>  s2 = 0.290295<br>def Learn():<br>  v1 = s2 * v0<br>",
           "Test"
          ],
          [
           "<br>def Setup():<br>  s2 = 0.224386<br>def Predict():<br>  s1 = s2 - s3<br>  s2 = s2 - s1<br>  s3 = 0.0756371<br>def Learn():<br>  s2 = s0 * s3<br>  s3 = s1 - s3<br>",
           "Test"
          ],
          [
           "<br>def Setup():<br>def Predict():<br>  s1 = dot(v0, v2)<br>  s3 = s1 - s3<br>  s1 = s3 * s2<br>  s3 = 0.0283061<br>def Learn():<br>  v2 = v2 + v0<br>  s2 = s0 * s3<br>  s3 = s3 - s1<br>",
           "Test"
          ],
          [
           "<br>def Setup():<br>def Predict():<br>  s1 = s2 - s3<br>  s2 = s2 - s1<br>  s3 = 0.0756371<br>def Learn():<br>  s3 = s0 * s3<br>",
           "Test"
          ],
          [
           "<br>def Setup():<br>def Predict():<br>  v2 = v1 + v2<br>  v1 = s3 * v1<br>  s3 = 0.189209<br>  s1 = dot(v0, v2)<br>  s1 = s1 * s3<br>def Learn():<br>  s1 = s0 - s1<br>  v1 = s1 * v0<br>",
           "Test"
          ],
          [
           "<br>def Setup():<br>def Predict():<br>  s3 = 0.189209<br>  s1 = dot(v0, v2)<br>  s1 = s1 * s3<br>  s3 = -0.887889<br>def Learn():<br>  v2 = s0 * v0<br>",
           "Test"
          ]
         ],
         "hovertemplate": "Type=%{customdata[1]}<br>Complexity=%{x}<br>Error=%{y}<br>Algorithm=%{customdata[0]}<extra></extra>",
         "legendgroup": "Test",
         "marker": {
          "color": "#EF553B",
          "size": 10,
          "symbol": "circle"
         },
         "mode": "markers",
         "name": "Test",
         "orientation": "v",
         "showlegend": true,
         "textposition": "top center",
         "type": "scatter",
         "x": [
          0,
          25,
          25,
          0,
          18,
          19,
          13,
          6,
          17,
          4,
          23,
          15
         ],
         "xaxis": "x",
         "y": [
          0.70309,
          0.0000949342,
          0.0000949342,
          0.70309,
          0.538009,
          0.0027073,
          0.728596,
          0.704384,
          0.695708,
          0.702947,
          0.00009507020000000001,
          0.680599
         ],
         "yaxis": "y"
        }
       ],
       "layout": {
        "height": 800,
        "legend": {
         "title": {
          "text": "Type"
         },
         "tracegroupgap": 0
        },
        "margin": {
         "t": 60
        },
        "template": {
         "data": {
          "bar": [
           {
            "error_x": {
             "color": "#2a3f5f"
            },
            "error_y": {
             "color": "#2a3f5f"
            },
            "marker": {
             "line": {
              "color": "#E5ECF6",
              "width": 0.5
             },
             "pattern": {
              "fillmode": "overlay",
              "size": 10,
              "solidity": 0.2
             }
            },
            "type": "bar"
           }
          ],
          "barpolar": [
           {
            "marker": {
             "line": {
              "color": "#E5ECF6",
              "width": 0.5
             },
             "pattern": {
              "fillmode": "overlay",
              "size": 10,
              "solidity": 0.2
             }
            },
            "type": "barpolar"
           }
          ],
          "carpet": [
           {
            "aaxis": {
             "endlinecolor": "#2a3f5f",
             "gridcolor": "white",
             "linecolor": "white",
             "minorgridcolor": "white",
             "startlinecolor": "#2a3f5f"
            },
            "baxis": {
             "endlinecolor": "#2a3f5f",
             "gridcolor": "white",
             "linecolor": "white",
             "minorgridcolor": "white",
             "startlinecolor": "#2a3f5f"
            },
            "type": "carpet"
           }
          ],
          "choropleth": [
           {
            "colorbar": {
             "outlinewidth": 0,
             "ticks": ""
            },
            "type": "choropleth"
           }
          ],
          "contour": [
           {
            "colorbar": {
             "outlinewidth": 0,
             "ticks": ""
            },
            "colorscale": [
             [
              0,
              "#0d0887"
             ],
             [
              0.1111111111111111,
              "#46039f"
             ],
             [
              0.2222222222222222,
              "#7201a8"
             ],
             [
              0.3333333333333333,
              "#9c179e"
             ],
             [
              0.4444444444444444,
              "#bd3786"
             ],
             [
              0.5555555555555556,
              "#d8576b"
             ],
             [
              0.6666666666666666,
              "#ed7953"
             ],
             [
              0.7777777777777778,
              "#fb9f3a"
             ],
             [
              0.8888888888888888,
              "#fdca26"
             ],
             [
              1,
              "#f0f921"
             ]
            ],
            "type": "contour"
           }
          ],
          "contourcarpet": [
           {
            "colorbar": {
             "outlinewidth": 0,
             "ticks": ""
            },
            "type": "contourcarpet"
           }
          ],
          "heatmap": [
           {
            "colorbar": {
             "outlinewidth": 0,
             "ticks": ""
            },
            "colorscale": [
             [
              0,
              "#0d0887"
             ],
             [
              0.1111111111111111,
              "#46039f"
             ],
             [
              0.2222222222222222,
              "#7201a8"
             ],
             [
              0.3333333333333333,
              "#9c179e"
             ],
             [
              0.4444444444444444,
              "#bd3786"
             ],
             [
              0.5555555555555556,
              "#d8576b"
             ],
             [
              0.6666666666666666,
              "#ed7953"
             ],
             [
              0.7777777777777778,
              "#fb9f3a"
             ],
             [
              0.8888888888888888,
              "#fdca26"
             ],
             [
              1,
              "#f0f921"
             ]
            ],
            "type": "heatmap"
           }
          ],
          "heatmapgl": [
           {
            "colorbar": {
             "outlinewidth": 0,
             "ticks": ""
            },
            "colorscale": [
             [
              0,
              "#0d0887"
             ],
             [
              0.1111111111111111,
              "#46039f"
             ],
             [
              0.2222222222222222,
              "#7201a8"
             ],
             [
              0.3333333333333333,
              "#9c179e"
             ],
             [
              0.4444444444444444,
              "#bd3786"
             ],
             [
              0.5555555555555556,
              "#d8576b"
             ],
             [
              0.6666666666666666,
              "#ed7953"
             ],
             [
              0.7777777777777778,
              "#fb9f3a"
             ],
             [
              0.8888888888888888,
              "#fdca26"
             ],
             [
              1,
              "#f0f921"
             ]
            ],
            "type": "heatmapgl"
           }
          ],
          "histogram": [
           {
            "marker": {
             "pattern": {
              "fillmode": "overlay",
              "size": 10,
              "solidity": 0.2
             }
            },
            "type": "histogram"
           }
          ],
          "histogram2d": [
           {
            "colorbar": {
             "outlinewidth": 0,
             "ticks": ""
            },
            "colorscale": [
             [
              0,
              "#0d0887"
             ],
             [
              0.1111111111111111,
              "#46039f"
             ],
             [
              0.2222222222222222,
              "#7201a8"
             ],
             [
              0.3333333333333333,
              "#9c179e"
             ],
             [
              0.4444444444444444,
              "#bd3786"
             ],
             [
              0.5555555555555556,
              "#d8576b"
             ],
             [
              0.6666666666666666,
              "#ed7953"
             ],
             [
              0.7777777777777778,
              "#fb9f3a"
             ],
             [
              0.8888888888888888,
              "#fdca26"
             ],
             [
              1,
              "#f0f921"
             ]
            ],
            "type": "histogram2d"
           }
          ],
          "histogram2dcontour": [
           {
            "colorbar": {
             "outlinewidth": 0,
             "ticks": ""
            },
            "colorscale": [
             [
              0,
              "#0d0887"
             ],
             [
              0.1111111111111111,
              "#46039f"
             ],
             [
              0.2222222222222222,
              "#7201a8"
             ],
             [
              0.3333333333333333,
              "#9c179e"
             ],
             [
              0.4444444444444444,
              "#bd3786"
             ],
             [
              0.5555555555555556,
              "#d8576b"
             ],
             [
              0.6666666666666666,
              "#ed7953"
             ],
             [
              0.7777777777777778,
              "#fb9f3a"
             ],
             [
              0.8888888888888888,
              "#fdca26"
             ],
             [
              1,
              "#f0f921"
             ]
            ],
            "type": "histogram2dcontour"
           }
          ],
          "mesh3d": [
           {
            "colorbar": {
             "outlinewidth": 0,
             "ticks": ""
            },
            "type": "mesh3d"
           }
          ],
          "parcoords": [
           {
            "line": {
             "colorbar": {
              "outlinewidth": 0,
              "ticks": ""
             }
            },
            "type": "parcoords"
           }
          ],
          "pie": [
           {
            "automargin": true,
            "type": "pie"
           }
          ],
          "scatter": [
           {
            "marker": {
             "colorbar": {
              "outlinewidth": 0,
              "ticks": ""
             }
            },
            "type": "scatter"
           }
          ],
          "scatter3d": [
           {
            "line": {
             "colorbar": {
              "outlinewidth": 0,
              "ticks": ""
             }
            },
            "marker": {
             "colorbar": {
              "outlinewidth": 0,
              "ticks": ""
             }
            },
            "type": "scatter3d"
           }
          ],
          "scattercarpet": [
           {
            "marker": {
             "colorbar": {
              "outlinewidth": 0,
              "ticks": ""
             }
            },
            "type": "scattercarpet"
           }
          ],
          "scattergeo": [
           {
            "marker": {
             "colorbar": {
              "outlinewidth": 0,
              "ticks": ""
             }
            },
            "type": "scattergeo"
           }
          ],
          "scattergl": [
           {
            "marker": {
             "colorbar": {
              "outlinewidth": 0,
              "ticks": ""
             }
            },
            "type": "scattergl"
           }
          ],
          "scattermapbox": [
           {
            "marker": {
             "colorbar": {
              "outlinewidth": 0,
              "ticks": ""
             }
            },
            "type": "scattermapbox"
           }
          ],
          "scatterpolar": [
           {
            "marker": {
             "colorbar": {
              "outlinewidth": 0,
              "ticks": ""
             }
            },
            "type": "scatterpolar"
           }
          ],
          "scatterpolargl": [
           {
            "marker": {
             "colorbar": {
              "outlinewidth": 0,
              "ticks": ""
             }
            },
            "type": "scatterpolargl"
           }
          ],
          "scatterternary": [
           {
            "marker": {
             "colorbar": {
              "outlinewidth": 0,
              "ticks": ""
             }
            },
            "type": "scatterternary"
           }
          ],
          "surface": [
           {
            "colorbar": {
             "outlinewidth": 0,
             "ticks": ""
            },
            "colorscale": [
             [
              0,
              "#0d0887"
             ],
             [
              0.1111111111111111,
              "#46039f"
             ],
             [
              0.2222222222222222,
              "#7201a8"
             ],
             [
              0.3333333333333333,
              "#9c179e"
             ],
             [
              0.4444444444444444,
              "#bd3786"
             ],
             [
              0.5555555555555556,
              "#d8576b"
             ],
             [
              0.6666666666666666,
              "#ed7953"
             ],
             [
              0.7777777777777778,
              "#fb9f3a"
             ],
             [
              0.8888888888888888,
              "#fdca26"
             ],
             [
              1,
              "#f0f921"
             ]
            ],
            "type": "surface"
           }
          ],
          "table": [
           {
            "cells": {
             "fill": {
              "color": "#EBF0F8"
             },
             "line": {
              "color": "white"
             }
            },
            "header": {
             "fill": {
              "color": "#C8D4E3"
             },
             "line": {
              "color": "white"
             }
            },
            "type": "table"
           }
          ]
         },
         "layout": {
          "annotationdefaults": {
           "arrowcolor": "#2a3f5f",
           "arrowhead": 0,
           "arrowwidth": 1
          },
          "autotypenumbers": "strict",
          "coloraxis": {
           "colorbar": {
            "outlinewidth": 0,
            "ticks": ""
           }
          },
          "colorscale": {
           "diverging": [
            [
             0,
             "#8e0152"
            ],
            [
             0.1,
             "#c51b7d"
            ],
            [
             0.2,
             "#de77ae"
            ],
            [
             0.3,
             "#f1b6da"
            ],
            [
             0.4,
             "#fde0ef"
            ],
            [
             0.5,
             "#f7f7f7"
            ],
            [
             0.6,
             "#e6f5d0"
            ],
            [
             0.7,
             "#b8e186"
            ],
            [
             0.8,
             "#7fbc41"
            ],
            [
             0.9,
             "#4d9221"
            ],
            [
             1,
             "#276419"
            ]
           ],
           "sequential": [
            [
             0,
             "#0d0887"
            ],
            [
             0.1111111111111111,
             "#46039f"
            ],
            [
             0.2222222222222222,
             "#7201a8"
            ],
            [
             0.3333333333333333,
             "#9c179e"
            ],
            [
             0.4444444444444444,
             "#bd3786"
            ],
            [
             0.5555555555555556,
             "#d8576b"
            ],
            [
             0.6666666666666666,
             "#ed7953"
            ],
            [
             0.7777777777777778,
             "#fb9f3a"
            ],
            [
             0.8888888888888888,
             "#fdca26"
            ],
            [
             1,
             "#f0f921"
            ]
           ],
           "sequentialminus": [
            [
             0,
             "#0d0887"
            ],
            [
             0.1111111111111111,
             "#46039f"
            ],
            [
             0.2222222222222222,
             "#7201a8"
            ],
            [
             0.3333333333333333,
             "#9c179e"
            ],
            [
             0.4444444444444444,
             "#bd3786"
            ],
            [
             0.5555555555555556,
             "#d8576b"
            ],
            [
             0.6666666666666666,
             "#ed7953"
            ],
            [
             0.7777777777777778,
             "#fb9f3a"
            ],
            [
             0.8888888888888888,
             "#fdca26"
            ],
            [
             1,
             "#f0f921"
            ]
           ]
          },
          "colorway": [
           "#636efa",
           "#EF553B",
           "#00cc96",
           "#ab63fa",
           "#FFA15A",
           "#19d3f3",
           "#FF6692",
           "#B6E880",
           "#FF97FF",
           "#FECB52"
          ],
          "font": {
           "color": "#2a3f5f"
          },
          "geo": {
           "bgcolor": "white",
           "lakecolor": "white",
           "landcolor": "#E5ECF6",
           "showlakes": true,
           "showland": true,
           "subunitcolor": "white"
          },
          "hoverlabel": {
           "align": "left"
          },
          "hovermode": "closest",
          "mapbox": {
           "style": "light"
          },
          "paper_bgcolor": "white",
          "plot_bgcolor": "#E5ECF6",
          "polar": {
           "angularaxis": {
            "gridcolor": "white",
            "linecolor": "white",
            "ticks": ""
           },
           "bgcolor": "#E5ECF6",
           "radialaxis": {
            "gridcolor": "white",
            "linecolor": "white",
            "ticks": ""
           }
          },
          "scene": {
           "xaxis": {
            "backgroundcolor": "#E5ECF6",
            "gridcolor": "white",
            "gridwidth": 2,
            "linecolor": "white",
            "showbackground": true,
            "ticks": "",
            "zerolinecolor": "white"
           },
           "yaxis": {
            "backgroundcolor": "#E5ECF6",
            "gridcolor": "white",
            "gridwidth": 2,
            "linecolor": "white",
            "showbackground": true,
            "ticks": "",
            "zerolinecolor": "white"
           },
           "zaxis": {
            "backgroundcolor": "#E5ECF6",
            "gridcolor": "white",
            "gridwidth": 2,
            "linecolor": "white",
            "showbackground": true,
            "ticks": "",
            "zerolinecolor": "white"
           }
          },
          "shapedefaults": {
           "line": {
            "color": "#2a3f5f"
           }
          },
          "ternary": {
           "aaxis": {
            "gridcolor": "white",
            "linecolor": "white",
            "ticks": ""
           },
           "baxis": {
            "gridcolor": "white",
            "linecolor": "white",
            "ticks": ""
           },
           "bgcolor": "#E5ECF6",
           "caxis": {
            "gridcolor": "white",
            "linecolor": "white",
            "ticks": ""
           }
          },
          "title": {
           "x": 0.05
          },
          "xaxis": {
           "automargin": true,
           "gridcolor": "white",
           "linecolor": "white",
           "ticks": "",
           "title": {
            "standoff": 15
           },
           "zerolinecolor": "white",
           "zerolinewidth": 2
          },
          "yaxis": {
           "automargin": true,
           "gridcolor": "white",
           "linecolor": "white",
           "ticks": "",
           "title": {
            "standoff": 15
           },
           "zerolinecolor": "white",
           "zerolinewidth": 2
          }
         }
        },
        "title": {
         "text": "Final Pareto Front with Intron Removal, Crossover = True"
        },
        "xaxis": {
         "anchor": "y",
         "domain": [
          0,
          1
         ],
         "title": {
          "text": "Complexity"
         },
         "type": "log"
        },
        "yaxis": {
         "anchor": "x",
         "domain": [
          0,
          1
         ],
         "title": {
          "text": "Error"
         }
        }
       }
      }
     },
     "metadata": {},
     "output_type": "display_data"
    },
    {
     "data": {
      "application/vnd.plotly.v1+json": {
       "config": {
        "plotlyServerURL": "https://plot.ly"
       },
       "data": [
        {
         "customdata": [
          [
           "<br>def Setup():<br>def Predict():<br>def Learn():<br>",
           "Train"
          ],
          [
           "<br>def Setup():<br>def Predict():<br>  s1 = dot(v0, v1)<br>  s1 = s1 * s2<br>  s2 = 0.189077<br>def Learn():<br>  s1 = s0 - s1<br>  v2 = s1 * v0<br>  v1 = v1 + v2<br>",
           "Train"
          ],
          [
           "<br>def Setup():<br>def Predict():<br>def Learn():<br>",
           "Train"
          ],
          [
           "<br>def Setup():<br>def Predict():<br>  s1 = dot(v0, v1)<br>  s1 = s1 * s2<br>  s2 = 0.189077<br>def Learn():<br>  s1 = s0 - s1<br>  v2 = s1 * v0<br>  v1 = v1 + v2<br>",
           "Train"
          ],
          [
           "<br>def Setup():<br>def Predict():<br>  s1 = dot(v0, v2)<br>  s3 = s2 - s3<br>  s2 = 0.305644<br>  s1 = s1 * s2<br>  s2 = 0.806995<br>def Learn():<br>  s1 = s1 - s3<br>  s1 = s0 - s1<br>  v2 = s1 * v0<br>",
           "Train"
          ],
          [
           "<br>def Setup():<br>def Predict():<br>  s1 = dot(v2, v0)<br>  s2 = 0.290136<br>def Learn():<br>  v2 = s2 * v0<br>",
           "Train"
          ],
          [
           "<br>def Setup():<br>def Predict():<br>  s2 = 0.431975<br>  s3 = s1 - s3<br>  s1 = s3 * s2<br>  s2 = 0.511215<br>def Learn():<br>  s3 = s2 * s3<br>  s1 = s0 * s1<br>  s1 = s1 - s0<br>",
           "Train"
          ],
          [
           "<br>def Setup():<br>def Predict():<br>  s2 = 0.378214<br>  s3 = s1 - s3<br>  s1 = s3 * s2<br>def Learn():<br>  s1 = s1 - s0<br>",
           "Train"
          ],
          [
           "<br>def Setup():<br>def Predict():<br>  s1 = dot(v0, v2)<br>  s2 = 0.305644<br>  s1 = s1 * s2<br>def Learn():<br>  s1 = s1 - s2<br>  s1 = s0 - s1<br>  v2 = s1 * v0<br>",
           "Train"
          ],
          [
           "<br>def Setup():<br>def Predict():<br>  s2 = 0.431975<br>  s3 = s1 - s3<br>  s1 = s3 * s2<br>def Learn():<br>  s3 = s2 * s3<br>  s1 = s0 * s1<br>  s1 = s1 - s0<br>",
           "Train"
          ],
          [
           "<br>def Setup():<br>def Predict():<br>  s1 = dot(v0, v2)<br>  s2 = 0.305644<br>  s1 = s1 * s2<br>def Learn():<br>  v2 = s0 * v0<br>",
           "Train"
          ],
          [
           "<br>def Setup():<br>def Predict():<br>  s1 = dot(v0, v1)<br>  s1 = s1 * s2<br>  s2 = 0.189077<br>def Learn():<br>  s1 = s0 - s1<br>  v1 = s1 * v0<br>",
           "Train"
          ]
         ],
         "hovertemplate": "Type=%{customdata[1]}<br>Complexity=%{x}<br>Error=%{y}<br>Algorithm=%{customdata[0]}<extra></extra>",
         "legendgroup": "Train",
         "marker": {
          "color": "#636efa",
          "size": 10,
          "symbol": "circle"
         },
         "mode": "markers",
         "name": "Train",
         "orientation": "v",
         "showlegend": true,
         "textposition": "top center",
         "type": "scatter",
         "x": [
          0,
          19,
          0,
          19,
          18,
          13,
          7,
          4,
          16,
          6,
          14,
          15
         ],
         "xaxis": "x",
         "y": [
          0.640347,
          0.0000142776,
          0.640347,
          0.0000142776,
          0.586778,
          0.627246,
          0.638933,
          0.63999,
          0.5942729999999999,
          0.639003,
          0.604839,
          0.6023229999999999
         ],
         "yaxis": "y"
        },
        {
         "customdata": [
          [
           "<br>def Setup():<br>def Predict():<br>def Learn():<br>",
           "Test"
          ],
          [
           "<br>def Setup():<br>def Predict():<br>  s1 = dot(v0, v1)<br>  s1 = s1 * s2<br>  s2 = 0.189077<br>def Learn():<br>  s1 = s0 - s1<br>  v2 = s1 * v0<br>  v1 = v1 + v2<br>",
           "Test"
          ],
          [
           "<br>def Setup():<br>def Predict():<br>def Learn():<br>",
           "Test"
          ],
          [
           "<br>def Setup():<br>def Predict():<br>  s1 = dot(v0, v1)<br>  s1 = s1 * s2<br>  s2 = 0.189077<br>def Learn():<br>  s1 = s0 - s1<br>  v2 = s1 * v0<br>  v1 = v1 + v2<br>",
           "Test"
          ],
          [
           "<br>def Setup():<br>def Predict():<br>  s1 = dot(v0, v2)<br>  s3 = s2 - s3<br>  s2 = 0.305644<br>  s1 = s1 * s2<br>  s2 = 0.806995<br>def Learn():<br>  s1 = s1 - s3<br>  s1 = s0 - s1<br>  v2 = s1 * v0<br>",
           "Test"
          ],
          [
           "<br>def Setup():<br>def Predict():<br>  s1 = dot(v2, v0)<br>  s2 = 0.290136<br>def Learn():<br>  v2 = s2 * v0<br>",
           "Test"
          ],
          [
           "<br>def Setup():<br>def Predict():<br>  s2 = 0.431975<br>  s3 = s1 - s3<br>  s1 = s3 * s2<br>  s2 = 0.511215<br>def Learn():<br>  s3 = s2 * s3<br>  s1 = s0 * s1<br>  s1 = s1 - s0<br>",
           "Test"
          ],
          [
           "<br>def Setup():<br>def Predict():<br>  s2 = 0.378214<br>  s3 = s1 - s3<br>  s1 = s3 * s2<br>def Learn():<br>  s1 = s1 - s0<br>",
           "Test"
          ],
          [
           "<br>def Setup():<br>def Predict():<br>  s1 = dot(v0, v2)<br>  s2 = 0.305644<br>  s1 = s1 * s2<br>def Learn():<br>  s1 = s1 - s2<br>  s1 = s0 - s1<br>  v2 = s1 * v0<br>",
           "Test"
          ],
          [
           "<br>def Setup():<br>def Predict():<br>  s2 = 0.431975<br>  s3 = s1 - s3<br>  s1 = s3 * s2<br>def Learn():<br>  s3 = s2 * s3<br>  s1 = s0 * s1<br>  s1 = s1 - s0<br>",
           "Test"
          ],
          [
           "<br>def Setup():<br>def Predict():<br>  s1 = dot(v0, v2)<br>  s2 = 0.305644<br>  s1 = s1 * s2<br>def Learn():<br>  v2 = s0 * v0<br>",
           "Test"
          ],
          [
           "<br>def Setup():<br>def Predict():<br>  s1 = dot(v0, v1)<br>  s1 = s1 * s2<br>  s2 = 0.189077<br>def Learn():<br>  s1 = s0 - s1<br>  v1 = s1 * v0<br>",
           "Test"
          ]
         ],
         "hovertemplate": "Type=%{customdata[1]}<br>Complexity=%{x}<br>Error=%{y}<br>Algorithm=%{customdata[0]}<extra></extra>",
         "legendgroup": "Test",
         "marker": {
          "color": "#EF553B",
          "size": 10,
          "symbol": "circle"
         },
         "mode": "markers",
         "name": "Test",
         "orientation": "v",
         "showlegend": true,
         "textposition": "top center",
         "type": "scatter",
         "x": [
          0,
          19,
          0,
          19,
          18,
          13,
          7,
          4,
          16,
          6,
          14,
          15
         ],
         "xaxis": "x",
         "y": [
          0.70309,
          0.00009587030000000001,
          0.70309,
          0.00009587030000000001,
          0.7018810000000001,
          0.72858,
          0.7433810000000001,
          0.70305,
          0.696775,
          0.74284,
          0.689233,
          0.682079
         ],
         "yaxis": "y"
        }
       ],
       "layout": {
        "height": 800,
        "legend": {
         "title": {
          "text": "Type"
         },
         "tracegroupgap": 0
        },
        "margin": {
         "t": 60
        },
        "template": {
         "data": {
          "bar": [
           {
            "error_x": {
             "color": "#2a3f5f"
            },
            "error_y": {
             "color": "#2a3f5f"
            },
            "marker": {
             "line": {
              "color": "#E5ECF6",
              "width": 0.5
             },
             "pattern": {
              "fillmode": "overlay",
              "size": 10,
              "solidity": 0.2
             }
            },
            "type": "bar"
           }
          ],
          "barpolar": [
           {
            "marker": {
             "line": {
              "color": "#E5ECF6",
              "width": 0.5
             },
             "pattern": {
              "fillmode": "overlay",
              "size": 10,
              "solidity": 0.2
             }
            },
            "type": "barpolar"
           }
          ],
          "carpet": [
           {
            "aaxis": {
             "endlinecolor": "#2a3f5f",
             "gridcolor": "white",
             "linecolor": "white",
             "minorgridcolor": "white",
             "startlinecolor": "#2a3f5f"
            },
            "baxis": {
             "endlinecolor": "#2a3f5f",
             "gridcolor": "white",
             "linecolor": "white",
             "minorgridcolor": "white",
             "startlinecolor": "#2a3f5f"
            },
            "type": "carpet"
           }
          ],
          "choropleth": [
           {
            "colorbar": {
             "outlinewidth": 0,
             "ticks": ""
            },
            "type": "choropleth"
           }
          ],
          "contour": [
           {
            "colorbar": {
             "outlinewidth": 0,
             "ticks": ""
            },
            "colorscale": [
             [
              0,
              "#0d0887"
             ],
             [
              0.1111111111111111,
              "#46039f"
             ],
             [
              0.2222222222222222,
              "#7201a8"
             ],
             [
              0.3333333333333333,
              "#9c179e"
             ],
             [
              0.4444444444444444,
              "#bd3786"
             ],
             [
              0.5555555555555556,
              "#d8576b"
             ],
             [
              0.6666666666666666,
              "#ed7953"
             ],
             [
              0.7777777777777778,
              "#fb9f3a"
             ],
             [
              0.8888888888888888,
              "#fdca26"
             ],
             [
              1,
              "#f0f921"
             ]
            ],
            "type": "contour"
           }
          ],
          "contourcarpet": [
           {
            "colorbar": {
             "outlinewidth": 0,
             "ticks": ""
            },
            "type": "contourcarpet"
           }
          ],
          "heatmap": [
           {
            "colorbar": {
             "outlinewidth": 0,
             "ticks": ""
            },
            "colorscale": [
             [
              0,
              "#0d0887"
             ],
             [
              0.1111111111111111,
              "#46039f"
             ],
             [
              0.2222222222222222,
              "#7201a8"
             ],
             [
              0.3333333333333333,
              "#9c179e"
             ],
             [
              0.4444444444444444,
              "#bd3786"
             ],
             [
              0.5555555555555556,
              "#d8576b"
             ],
             [
              0.6666666666666666,
              "#ed7953"
             ],
             [
              0.7777777777777778,
              "#fb9f3a"
             ],
             [
              0.8888888888888888,
              "#fdca26"
             ],
             [
              1,
              "#f0f921"
             ]
            ],
            "type": "heatmap"
           }
          ],
          "heatmapgl": [
           {
            "colorbar": {
             "outlinewidth": 0,
             "ticks": ""
            },
            "colorscale": [
             [
              0,
              "#0d0887"
             ],
             [
              0.1111111111111111,
              "#46039f"
             ],
             [
              0.2222222222222222,
              "#7201a8"
             ],
             [
              0.3333333333333333,
              "#9c179e"
             ],
             [
              0.4444444444444444,
              "#bd3786"
             ],
             [
              0.5555555555555556,
              "#d8576b"
             ],
             [
              0.6666666666666666,
              "#ed7953"
             ],
             [
              0.7777777777777778,
              "#fb9f3a"
             ],
             [
              0.8888888888888888,
              "#fdca26"
             ],
             [
              1,
              "#f0f921"
             ]
            ],
            "type": "heatmapgl"
           }
          ],
          "histogram": [
           {
            "marker": {
             "pattern": {
              "fillmode": "overlay",
              "size": 10,
              "solidity": 0.2
             }
            },
            "type": "histogram"
           }
          ],
          "histogram2d": [
           {
            "colorbar": {
             "outlinewidth": 0,
             "ticks": ""
            },
            "colorscale": [
             [
              0,
              "#0d0887"
             ],
             [
              0.1111111111111111,
              "#46039f"
             ],
             [
              0.2222222222222222,
              "#7201a8"
             ],
             [
              0.3333333333333333,
              "#9c179e"
             ],
             [
              0.4444444444444444,
              "#bd3786"
             ],
             [
              0.5555555555555556,
              "#d8576b"
             ],
             [
              0.6666666666666666,
              "#ed7953"
             ],
             [
              0.7777777777777778,
              "#fb9f3a"
             ],
             [
              0.8888888888888888,
              "#fdca26"
             ],
             [
              1,
              "#f0f921"
             ]
            ],
            "type": "histogram2d"
           }
          ],
          "histogram2dcontour": [
           {
            "colorbar": {
             "outlinewidth": 0,
             "ticks": ""
            },
            "colorscale": [
             [
              0,
              "#0d0887"
             ],
             [
              0.1111111111111111,
              "#46039f"
             ],
             [
              0.2222222222222222,
              "#7201a8"
             ],
             [
              0.3333333333333333,
              "#9c179e"
             ],
             [
              0.4444444444444444,
              "#bd3786"
             ],
             [
              0.5555555555555556,
              "#d8576b"
             ],
             [
              0.6666666666666666,
              "#ed7953"
             ],
             [
              0.7777777777777778,
              "#fb9f3a"
             ],
             [
              0.8888888888888888,
              "#fdca26"
             ],
             [
              1,
              "#f0f921"
             ]
            ],
            "type": "histogram2dcontour"
           }
          ],
          "mesh3d": [
           {
            "colorbar": {
             "outlinewidth": 0,
             "ticks": ""
            },
            "type": "mesh3d"
           }
          ],
          "parcoords": [
           {
            "line": {
             "colorbar": {
              "outlinewidth": 0,
              "ticks": ""
             }
            },
            "type": "parcoords"
           }
          ],
          "pie": [
           {
            "automargin": true,
            "type": "pie"
           }
          ],
          "scatter": [
           {
            "marker": {
             "colorbar": {
              "outlinewidth": 0,
              "ticks": ""
             }
            },
            "type": "scatter"
           }
          ],
          "scatter3d": [
           {
            "line": {
             "colorbar": {
              "outlinewidth": 0,
              "ticks": ""
             }
            },
            "marker": {
             "colorbar": {
              "outlinewidth": 0,
              "ticks": ""
             }
            },
            "type": "scatter3d"
           }
          ],
          "scattercarpet": [
           {
            "marker": {
             "colorbar": {
              "outlinewidth": 0,
              "ticks": ""
             }
            },
            "type": "scattercarpet"
           }
          ],
          "scattergeo": [
           {
            "marker": {
             "colorbar": {
              "outlinewidth": 0,
              "ticks": ""
             }
            },
            "type": "scattergeo"
           }
          ],
          "scattergl": [
           {
            "marker": {
             "colorbar": {
              "outlinewidth": 0,
              "ticks": ""
             }
            },
            "type": "scattergl"
           }
          ],
          "scattermapbox": [
           {
            "marker": {
             "colorbar": {
              "outlinewidth": 0,
              "ticks": ""
             }
            },
            "type": "scattermapbox"
           }
          ],
          "scatterpolar": [
           {
            "marker": {
             "colorbar": {
              "outlinewidth": 0,
              "ticks": ""
             }
            },
            "type": "scatterpolar"
           }
          ],
          "scatterpolargl": [
           {
            "marker": {
             "colorbar": {
              "outlinewidth": 0,
              "ticks": ""
             }
            },
            "type": "scatterpolargl"
           }
          ],
          "scatterternary": [
           {
            "marker": {
             "colorbar": {
              "outlinewidth": 0,
              "ticks": ""
             }
            },
            "type": "scatterternary"
           }
          ],
          "surface": [
           {
            "colorbar": {
             "outlinewidth": 0,
             "ticks": ""
            },
            "colorscale": [
             [
              0,
              "#0d0887"
             ],
             [
              0.1111111111111111,
              "#46039f"
             ],
             [
              0.2222222222222222,
              "#7201a8"
             ],
             [
              0.3333333333333333,
              "#9c179e"
             ],
             [
              0.4444444444444444,
              "#bd3786"
             ],
             [
              0.5555555555555556,
              "#d8576b"
             ],
             [
              0.6666666666666666,
              "#ed7953"
             ],
             [
              0.7777777777777778,
              "#fb9f3a"
             ],
             [
              0.8888888888888888,
              "#fdca26"
             ],
             [
              1,
              "#f0f921"
             ]
            ],
            "type": "surface"
           }
          ],
          "table": [
           {
            "cells": {
             "fill": {
              "color": "#EBF0F8"
             },
             "line": {
              "color": "white"
             }
            },
            "header": {
             "fill": {
              "color": "#C8D4E3"
             },
             "line": {
              "color": "white"
             }
            },
            "type": "table"
           }
          ]
         },
         "layout": {
          "annotationdefaults": {
           "arrowcolor": "#2a3f5f",
           "arrowhead": 0,
           "arrowwidth": 1
          },
          "autotypenumbers": "strict",
          "coloraxis": {
           "colorbar": {
            "outlinewidth": 0,
            "ticks": ""
           }
          },
          "colorscale": {
           "diverging": [
            [
             0,
             "#8e0152"
            ],
            [
             0.1,
             "#c51b7d"
            ],
            [
             0.2,
             "#de77ae"
            ],
            [
             0.3,
             "#f1b6da"
            ],
            [
             0.4,
             "#fde0ef"
            ],
            [
             0.5,
             "#f7f7f7"
            ],
            [
             0.6,
             "#e6f5d0"
            ],
            [
             0.7,
             "#b8e186"
            ],
            [
             0.8,
             "#7fbc41"
            ],
            [
             0.9,
             "#4d9221"
            ],
            [
             1,
             "#276419"
            ]
           ],
           "sequential": [
            [
             0,
             "#0d0887"
            ],
            [
             0.1111111111111111,
             "#46039f"
            ],
            [
             0.2222222222222222,
             "#7201a8"
            ],
            [
             0.3333333333333333,
             "#9c179e"
            ],
            [
             0.4444444444444444,
             "#bd3786"
            ],
            [
             0.5555555555555556,
             "#d8576b"
            ],
            [
             0.6666666666666666,
             "#ed7953"
            ],
            [
             0.7777777777777778,
             "#fb9f3a"
            ],
            [
             0.8888888888888888,
             "#fdca26"
            ],
            [
             1,
             "#f0f921"
            ]
           ],
           "sequentialminus": [
            [
             0,
             "#0d0887"
            ],
            [
             0.1111111111111111,
             "#46039f"
            ],
            [
             0.2222222222222222,
             "#7201a8"
            ],
            [
             0.3333333333333333,
             "#9c179e"
            ],
            [
             0.4444444444444444,
             "#bd3786"
            ],
            [
             0.5555555555555556,
             "#d8576b"
            ],
            [
             0.6666666666666666,
             "#ed7953"
            ],
            [
             0.7777777777777778,
             "#fb9f3a"
            ],
            [
             0.8888888888888888,
             "#fdca26"
            ],
            [
             1,
             "#f0f921"
            ]
           ]
          },
          "colorway": [
           "#636efa",
           "#EF553B",
           "#00cc96",
           "#ab63fa",
           "#FFA15A",
           "#19d3f3",
           "#FF6692",
           "#B6E880",
           "#FF97FF",
           "#FECB52"
          ],
          "font": {
           "color": "#2a3f5f"
          },
          "geo": {
           "bgcolor": "white",
           "lakecolor": "white",
           "landcolor": "#E5ECF6",
           "showlakes": true,
           "showland": true,
           "subunitcolor": "white"
          },
          "hoverlabel": {
           "align": "left"
          },
          "hovermode": "closest",
          "mapbox": {
           "style": "light"
          },
          "paper_bgcolor": "white",
          "plot_bgcolor": "#E5ECF6",
          "polar": {
           "angularaxis": {
            "gridcolor": "white",
            "linecolor": "white",
            "ticks": ""
           },
           "bgcolor": "#E5ECF6",
           "radialaxis": {
            "gridcolor": "white",
            "linecolor": "white",
            "ticks": ""
           }
          },
          "scene": {
           "xaxis": {
            "backgroundcolor": "#E5ECF6",
            "gridcolor": "white",
            "gridwidth": 2,
            "linecolor": "white",
            "showbackground": true,
            "ticks": "",
            "zerolinecolor": "white"
           },
           "yaxis": {
            "backgroundcolor": "#E5ECF6",
            "gridcolor": "white",
            "gridwidth": 2,
            "linecolor": "white",
            "showbackground": true,
            "ticks": "",
            "zerolinecolor": "white"
           },
           "zaxis": {
            "backgroundcolor": "#E5ECF6",
            "gridcolor": "white",
            "gridwidth": 2,
            "linecolor": "white",
            "showbackground": true,
            "ticks": "",
            "zerolinecolor": "white"
           }
          },
          "shapedefaults": {
           "line": {
            "color": "#2a3f5f"
           }
          },
          "ternary": {
           "aaxis": {
            "gridcolor": "white",
            "linecolor": "white",
            "ticks": ""
           },
           "baxis": {
            "gridcolor": "white",
            "linecolor": "white",
            "ticks": ""
           },
           "bgcolor": "#E5ECF6",
           "caxis": {
            "gridcolor": "white",
            "linecolor": "white",
            "ticks": ""
           }
          },
          "title": {
           "x": 0.05
          },
          "xaxis": {
           "automargin": true,
           "gridcolor": "white",
           "linecolor": "white",
           "ticks": "",
           "title": {
            "standoff": 15
           },
           "zerolinecolor": "white",
           "zerolinewidth": 2
          },
          "yaxis": {
           "automargin": true,
           "gridcolor": "white",
           "linecolor": "white",
           "ticks": "",
           "title": {
            "standoff": 15
           },
           "zerolinecolor": "white",
           "zerolinewidth": 2
          }
         }
        },
        "title": {
         "text": "Final Pareto Front with Intron Removal, Crossover = False"
        },
        "xaxis": {
         "anchor": "y",
         "domain": [
          0,
          1
         ],
         "title": {
          "text": "Complexity"
         },
         "type": "log"
        },
        "yaxis": {
         "anchor": "x",
         "domain": [
          0,
          1
         ],
         "title": {
          "text": "Error"
         }
        }
       }
      }
     },
     "metadata": {},
     "output_type": "display_data"
    }
   ],
   "source": [
    "folder = \"Intron_Removal/Output_Files/Crossover_Testing/\"\n",
    "wo_crossover = folder + \"Without Crossover/\"\n",
    "w_crossover = folder + \"With Crossover/\"\n",
    "\n",
    "# load the files\n",
    "pf_train_w_cross = pd.read_csv(w_crossover + \"final_pf_train.txt\", sep=\",\", names=[\"Error\", \"Complexity\"])\n",
    "pf_test_w_cross = pd.read_csv(w_crossover + \"final_pf_test.txt\", sep=\",\", names=[\"Error\", \"Complexity\"])\n",
    "algo_list_w_cross = read_algos(w_crossover + \"final_pf_algos.txt\")\n",
    "\n",
    "pf_train_wo_cross = pd.read_csv(wo_crossover + \"final_pf_train.txt\", sep=\",\", names=[\"Error\", \"Complexity\"])\n",
    "pf_test_wo_cross = pd.read_csv(wo_crossover + \"final_pf_test.txt\", sep=\",\", names=[\"Error\", \"Complexity\"])\n",
    "algo_list_wo_cross = read_algos(wo_crossover + \"final_pf_algos.txt\")\n",
    "\n",
    "pf_train_w_cross[\"Algorithm\"] = algo_list_w_cross\n",
    "pf_test_w_cross[\"Algorithm\"] = algo_list_w_cross\n",
    "pf_train_w_cross[\"Type\"] = \"Train\"\n",
    "pf_test_w_cross[\"Type\"] = \"Test\"\n",
    "\n",
    "pf_train_wo_cross[\"Algorithm\"] = algo_list_wo_cross\n",
    "pf_test_wo_cross[\"Algorithm\"] = algo_list_wo_cross\n",
    "pf_train_wo_cross[\"Type\"] = \"Train\"\n",
    "pf_test_wo_cross[\"Type\"] = \"Test\"\n",
    "\n",
    "x_title = \"Complexity\"\n",
    "y_title = \"Error\"\n",
    "\n",
    "pf_w_cross = pd.concat([pf_train_w_cross, pf_test_w_cross])\n",
    "pf_wo_cross = pd.concat([pf_train_wo_cross, pf_test_wo_cross])\n",
    "\n",
    "# plot and save the html files\n",
    "fig_w_cross = plot(pf_w_cross, x_title, y_title, color=\"Type\", title=\"Final Pareto Front with Intron Removal, Crossover = True\")\n",
    "fig_wo_cross = plot(pf_wo_cross, x_title, y_title, color=\"Type\", title=\"Final Pareto Front with Intron Removal, Crossover = False\")\n",
    "\n",
    "fig_w_cross.write_html(folder + \"Images/pf_plot_w_cross.html\")\n",
    "fig_wo_cross.write_html(folder + \"Images/pf_plot_wo_cross.html\")"
   ]
  },
  {
   "cell_type": "markdown",
   "metadata": {},
   "source": [
    "# Scaling with respect to number of features"
   ]
  },
  {
   "cell_type": "code",
   "execution_count": 48,
   "metadata": {},
   "outputs": [
    {
     "data": {
      "application/vnd.plotly.v1+json": {
       "config": {
        "plotlyServerURL": "https://plot.ly"
       },
       "data": [
        {
         "customdata": [
          [
           "<br>def Setup():<br>def Predict():<br>def Learn():<br>",
           "Train"
          ],
          [
           "<br>def Setup():<br>def Predict():<br>  s3 = s3 * s3<br>  v2 = v2 + v1<br>  s2 = s2 * s1<br>  v1 = s3 * v0<br>  s1 = -0.635275<br>  s1 = s1 - s2<br>  s3 = 0.114146<br>  s2 = s2 - s3<br>  s3 = -0.0864456<br>  s3 = s1 * s3<br>  s1 = dot(v0, v2)<br>def Learn():<br>  v1 = s0 * v1<br>  s3 = 0.0986698<br>  s2 = s1 - s2<br>",
           "Train"
          ],
          [
           "<br>def Setup():<br>def Predict():<br>  s3 = s3 * s3<br>  v2 = v2 + v1<br>  s2 = s2 * s1<br>  v1 = s3 * v0<br>  s1 = -0.635275<br>  s1 = s1 - s2<br>  s3 = 0.114146<br>  s2 = s2 - s3<br>  s3 = -0.0864456<br>  s3 = s1 * s3<br>  s1 = dot(v0, v2)<br>def Learn():<br>  v1 = s0 * v1<br>  s3 = 0.0986698<br>  s2 = s1 - s2<br>",
           "Train"
          ],
          [
           "<br>def Setup():<br>def Predict():<br>def Learn():<br>",
           "Train"
          ],
          [
           "<br>def Setup():<br>def Predict():<br>  v1 = s3 * v0<br>  s1 = dot(v0, v2)<br>def Learn():<br>  v2 = s0 * v1<br>  s3 = 0.987379<br>",
           "Train"
          ],
          [
           "<br>def Setup():<br>def Predict():<br>  v2 = v1 + v2<br>  v1 = s3 * v0<br>  s1 = dot(v1, v2)<br>def Learn():<br>  v1 = s0 * v1<br>  s3 = 0.0986698<br>",
           "Train"
          ],
          [
           "<br>def Setup():<br>def Predict():<br>  s2 = 0.549893<br>  s2 = s2 - s1<br>  s2 = s2 * s1<br>  s2 = s3 - s2<br>def Learn():<br>  s3 = -0.107012<br>  s1 = s2 * s0<br>",
           "Train"
          ],
          [
           "<br>def Setup():<br>def Predict():<br>  s1 = dot(v0, v2)<br>def Learn():<br>  v2 = s0 * v0<br>",
           "Train"
          ],
          [
           "<br>def Setup():<br>def Predict():<br>  s3 = s3 * s3<br>  v2 = v2 + v1<br>  v1 = s3 * v0<br>  s1 = -0.635275<br>  s3 = 0.114146<br>  s3 = -0.0864456<br>  s1 = dot(v0, v2)<br>def Learn():<br>  v1 = s0 * v1<br>  s3 = 0.0986698<br>",
           "Train"
          ],
          [
           "<br>def Setup():<br>def Predict():<br>  s3 = s3 * s3<br>  v2 = v2 + v1<br>  s2 = s2 * s1<br>  v1 = s3 * v0<br>  s1 = -0.635275<br>  s1 = s1 - s2<br>  s3 = 0.114146<br>  s3 = -0.0864456<br>  s3 = s1 * s3<br>  s1 = dot(v0, v2)<br>def Learn():<br>  v1 = s0 * v1<br>  s3 = 0.0986698<br>  s2 = s1 - s2<br>",
           "Train"
          ],
          [
           "<br>def Setup():<br>def Predict():<br>  s2 = 0.549893<br>  s2 = s2 - s1<br>  s2 = s2 * s1<br>  s2 = s3 - s2<br>def Learn():<br>  s3 = -0.107012<br>  s1 = s2 * s0<br>",
           "Train"
          ],
          [
           "<br>def Setup():<br>def Predict():<br>  s1 = dot(v0, v2)<br>def Learn():<br>  v2 = s0 * v0<br>",
           "Train"
          ]
         ],
         "hovertemplate": "Type=%{customdata[1]}<br>Complexity=%{x}<br>Error=%{y}<br>Algorithm=%{customdata[0]}<extra></extra>",
         "legendgroup": "Train",
         "marker": {
          "color": "#636efa",
          "size": 10,
          "symbol": "circle"
         },
         "mode": "markers",
         "name": "Train",
         "orientation": "v",
         "showlegend": true,
         "textposition": "top center",
         "type": "scatter",
         "x": [
          0,
          30,
          30,
          0,
          17,
          21,
          6,
          12,
          25,
          29,
          6,
          12
         ],
         "xaxis": "x",
         "y": [
          0.418393,
          0.05142130000000001,
          0.05142130000000001,
          0.418393,
          0.342885,
          0.08814830000000001,
          0.417788,
          0.343481,
          0.0811125,
          0.0633759,
          0.417788,
          0.343481
         ],
         "yaxis": "y"
        },
        {
         "customdata": [
          [
           "<br>def Setup():<br>def Predict():<br>def Learn():<br>",
           "Test"
          ],
          [
           "<br>def Setup():<br>def Predict():<br>  s3 = s3 * s3<br>  v2 = v2 + v1<br>  s2 = s2 * s1<br>  v1 = s3 * v0<br>  s1 = -0.635275<br>  s1 = s1 - s2<br>  s3 = 0.114146<br>  s2 = s2 - s3<br>  s3 = -0.0864456<br>  s3 = s1 * s3<br>  s1 = dot(v0, v2)<br>def Learn():<br>  v1 = s0 * v1<br>  s3 = 0.0986698<br>  s2 = s1 - s2<br>",
           "Test"
          ],
          [
           "<br>def Setup():<br>def Predict():<br>  s3 = s3 * s3<br>  v2 = v2 + v1<br>  s2 = s2 * s1<br>  v1 = s3 * v0<br>  s1 = -0.635275<br>  s1 = s1 - s2<br>  s3 = 0.114146<br>  s2 = s2 - s3<br>  s3 = -0.0864456<br>  s3 = s1 * s3<br>  s1 = dot(v0, v2)<br>def Learn():<br>  v1 = s0 * v1<br>  s3 = 0.0986698<br>  s2 = s1 - s2<br>",
           "Test"
          ],
          [
           "<br>def Setup():<br>def Predict():<br>def Learn():<br>",
           "Test"
          ],
          [
           "<br>def Setup():<br>def Predict():<br>  v1 = s3 * v0<br>  s1 = dot(v0, v2)<br>def Learn():<br>  v2 = s0 * v1<br>  s3 = 0.987379<br>",
           "Test"
          ],
          [
           "<br>def Setup():<br>def Predict():<br>  v2 = v1 + v2<br>  v1 = s3 * v0<br>  s1 = dot(v1, v2)<br>def Learn():<br>  v1 = s0 * v1<br>  s3 = 0.0986698<br>",
           "Test"
          ],
          [
           "<br>def Setup():<br>def Predict():<br>  s2 = 0.549893<br>  s2 = s2 - s1<br>  s2 = s2 * s1<br>  s2 = s3 - s2<br>def Learn():<br>  s3 = -0.107012<br>  s1 = s2 * s0<br>",
           "Test"
          ],
          [
           "<br>def Setup():<br>def Predict():<br>  s1 = dot(v0, v2)<br>def Learn():<br>  v2 = s0 * v0<br>",
           "Test"
          ],
          [
           "<br>def Setup():<br>def Predict():<br>  s3 = s3 * s3<br>  v2 = v2 + v1<br>  v1 = s3 * v0<br>  s1 = -0.635275<br>  s3 = 0.114146<br>  s3 = -0.0864456<br>  s1 = dot(v0, v2)<br>def Learn():<br>  v1 = s0 * v1<br>  s3 = 0.0986698<br>",
           "Test"
          ],
          [
           "<br>def Setup():<br>def Predict():<br>  s3 = s3 * s3<br>  v2 = v2 + v1<br>  s2 = s2 * s1<br>  v1 = s3 * v0<br>  s1 = -0.635275<br>  s1 = s1 - s2<br>  s3 = 0.114146<br>  s3 = -0.0864456<br>  s3 = s1 * s3<br>  s1 = dot(v0, v2)<br>def Learn():<br>  v1 = s0 * v1<br>  s3 = 0.0986698<br>  s2 = s1 - s2<br>",
           "Test"
          ],
          [
           "<br>def Setup():<br>def Predict():<br>  s2 = 0.549893<br>  s2 = s2 - s1<br>  s2 = s2 * s1<br>  s2 = s3 - s2<br>def Learn():<br>  s3 = -0.107012<br>  s1 = s2 * s0<br>",
           "Test"
          ],
          [
           "<br>def Setup():<br>def Predict():<br>  s1 = dot(v0, v2)<br>def Learn():<br>  v2 = s0 * v0<br>",
           "Test"
          ]
         ],
         "hovertemplate": "Type=%{customdata[1]}<br>Complexity=%{x}<br>Error=%{y}<br>Algorithm=%{customdata[0]}<extra></extra>",
         "legendgroup": "Test",
         "marker": {
          "color": "#EF553B",
          "size": 10,
          "symbol": "circle"
         },
         "mode": "markers",
         "name": "Test",
         "orientation": "v",
         "showlegend": true,
         "textposition": "top center",
         "type": "scatter",
         "x": [
          0,
          30,
          30,
          0,
          17,
          21,
          6,
          12,
          25,
          29,
          6,
          12
         ],
         "xaxis": "x",
         "y": [
          0.545143,
          0.45059099999999996,
          0.45059099999999996,
          0.545143,
          0.638786,
          0.125662,
          0.619729,
          0.64139,
          0.12006800000000001,
          0.435432,
          0.619729,
          0.64139
         ],
         "yaxis": "y"
        }
       ],
       "layout": {
        "height": 800,
        "legend": {
         "title": {
          "text": "Type"
         },
         "tracegroupgap": 0
        },
        "margin": {
         "t": 60
        },
        "template": {
         "data": {
          "bar": [
           {
            "error_x": {
             "color": "#2a3f5f"
            },
            "error_y": {
             "color": "#2a3f5f"
            },
            "marker": {
             "line": {
              "color": "#E5ECF6",
              "width": 0.5
             },
             "pattern": {
              "fillmode": "overlay",
              "size": 10,
              "solidity": 0.2
             }
            },
            "type": "bar"
           }
          ],
          "barpolar": [
           {
            "marker": {
             "line": {
              "color": "#E5ECF6",
              "width": 0.5
             },
             "pattern": {
              "fillmode": "overlay",
              "size": 10,
              "solidity": 0.2
             }
            },
            "type": "barpolar"
           }
          ],
          "carpet": [
           {
            "aaxis": {
             "endlinecolor": "#2a3f5f",
             "gridcolor": "white",
             "linecolor": "white",
             "minorgridcolor": "white",
             "startlinecolor": "#2a3f5f"
            },
            "baxis": {
             "endlinecolor": "#2a3f5f",
             "gridcolor": "white",
             "linecolor": "white",
             "minorgridcolor": "white",
             "startlinecolor": "#2a3f5f"
            },
            "type": "carpet"
           }
          ],
          "choropleth": [
           {
            "colorbar": {
             "outlinewidth": 0,
             "ticks": ""
            },
            "type": "choropleth"
           }
          ],
          "contour": [
           {
            "colorbar": {
             "outlinewidth": 0,
             "ticks": ""
            },
            "colorscale": [
             [
              0,
              "#0d0887"
             ],
             [
              0.1111111111111111,
              "#46039f"
             ],
             [
              0.2222222222222222,
              "#7201a8"
             ],
             [
              0.3333333333333333,
              "#9c179e"
             ],
             [
              0.4444444444444444,
              "#bd3786"
             ],
             [
              0.5555555555555556,
              "#d8576b"
             ],
             [
              0.6666666666666666,
              "#ed7953"
             ],
             [
              0.7777777777777778,
              "#fb9f3a"
             ],
             [
              0.8888888888888888,
              "#fdca26"
             ],
             [
              1,
              "#f0f921"
             ]
            ],
            "type": "contour"
           }
          ],
          "contourcarpet": [
           {
            "colorbar": {
             "outlinewidth": 0,
             "ticks": ""
            },
            "type": "contourcarpet"
           }
          ],
          "heatmap": [
           {
            "colorbar": {
             "outlinewidth": 0,
             "ticks": ""
            },
            "colorscale": [
             [
              0,
              "#0d0887"
             ],
             [
              0.1111111111111111,
              "#46039f"
             ],
             [
              0.2222222222222222,
              "#7201a8"
             ],
             [
              0.3333333333333333,
              "#9c179e"
             ],
             [
              0.4444444444444444,
              "#bd3786"
             ],
             [
              0.5555555555555556,
              "#d8576b"
             ],
             [
              0.6666666666666666,
              "#ed7953"
             ],
             [
              0.7777777777777778,
              "#fb9f3a"
             ],
             [
              0.8888888888888888,
              "#fdca26"
             ],
             [
              1,
              "#f0f921"
             ]
            ],
            "type": "heatmap"
           }
          ],
          "heatmapgl": [
           {
            "colorbar": {
             "outlinewidth": 0,
             "ticks": ""
            },
            "colorscale": [
             [
              0,
              "#0d0887"
             ],
             [
              0.1111111111111111,
              "#46039f"
             ],
             [
              0.2222222222222222,
              "#7201a8"
             ],
             [
              0.3333333333333333,
              "#9c179e"
             ],
             [
              0.4444444444444444,
              "#bd3786"
             ],
             [
              0.5555555555555556,
              "#d8576b"
             ],
             [
              0.6666666666666666,
              "#ed7953"
             ],
             [
              0.7777777777777778,
              "#fb9f3a"
             ],
             [
              0.8888888888888888,
              "#fdca26"
             ],
             [
              1,
              "#f0f921"
             ]
            ],
            "type": "heatmapgl"
           }
          ],
          "histogram": [
           {
            "marker": {
             "pattern": {
              "fillmode": "overlay",
              "size": 10,
              "solidity": 0.2
             }
            },
            "type": "histogram"
           }
          ],
          "histogram2d": [
           {
            "colorbar": {
             "outlinewidth": 0,
             "ticks": ""
            },
            "colorscale": [
             [
              0,
              "#0d0887"
             ],
             [
              0.1111111111111111,
              "#46039f"
             ],
             [
              0.2222222222222222,
              "#7201a8"
             ],
             [
              0.3333333333333333,
              "#9c179e"
             ],
             [
              0.4444444444444444,
              "#bd3786"
             ],
             [
              0.5555555555555556,
              "#d8576b"
             ],
             [
              0.6666666666666666,
              "#ed7953"
             ],
             [
              0.7777777777777778,
              "#fb9f3a"
             ],
             [
              0.8888888888888888,
              "#fdca26"
             ],
             [
              1,
              "#f0f921"
             ]
            ],
            "type": "histogram2d"
           }
          ],
          "histogram2dcontour": [
           {
            "colorbar": {
             "outlinewidth": 0,
             "ticks": ""
            },
            "colorscale": [
             [
              0,
              "#0d0887"
             ],
             [
              0.1111111111111111,
              "#46039f"
             ],
             [
              0.2222222222222222,
              "#7201a8"
             ],
             [
              0.3333333333333333,
              "#9c179e"
             ],
             [
              0.4444444444444444,
              "#bd3786"
             ],
             [
              0.5555555555555556,
              "#d8576b"
             ],
             [
              0.6666666666666666,
              "#ed7953"
             ],
             [
              0.7777777777777778,
              "#fb9f3a"
             ],
             [
              0.8888888888888888,
              "#fdca26"
             ],
             [
              1,
              "#f0f921"
             ]
            ],
            "type": "histogram2dcontour"
           }
          ],
          "mesh3d": [
           {
            "colorbar": {
             "outlinewidth": 0,
             "ticks": ""
            },
            "type": "mesh3d"
           }
          ],
          "parcoords": [
           {
            "line": {
             "colorbar": {
              "outlinewidth": 0,
              "ticks": ""
             }
            },
            "type": "parcoords"
           }
          ],
          "pie": [
           {
            "automargin": true,
            "type": "pie"
           }
          ],
          "scatter": [
           {
            "marker": {
             "colorbar": {
              "outlinewidth": 0,
              "ticks": ""
             }
            },
            "type": "scatter"
           }
          ],
          "scatter3d": [
           {
            "line": {
             "colorbar": {
              "outlinewidth": 0,
              "ticks": ""
             }
            },
            "marker": {
             "colorbar": {
              "outlinewidth": 0,
              "ticks": ""
             }
            },
            "type": "scatter3d"
           }
          ],
          "scattercarpet": [
           {
            "marker": {
             "colorbar": {
              "outlinewidth": 0,
              "ticks": ""
             }
            },
            "type": "scattercarpet"
           }
          ],
          "scattergeo": [
           {
            "marker": {
             "colorbar": {
              "outlinewidth": 0,
              "ticks": ""
             }
            },
            "type": "scattergeo"
           }
          ],
          "scattergl": [
           {
            "marker": {
             "colorbar": {
              "outlinewidth": 0,
              "ticks": ""
             }
            },
            "type": "scattergl"
           }
          ],
          "scattermapbox": [
           {
            "marker": {
             "colorbar": {
              "outlinewidth": 0,
              "ticks": ""
             }
            },
            "type": "scattermapbox"
           }
          ],
          "scatterpolar": [
           {
            "marker": {
             "colorbar": {
              "outlinewidth": 0,
              "ticks": ""
             }
            },
            "type": "scatterpolar"
           }
          ],
          "scatterpolargl": [
           {
            "marker": {
             "colorbar": {
              "outlinewidth": 0,
              "ticks": ""
             }
            },
            "type": "scatterpolargl"
           }
          ],
          "scatterternary": [
           {
            "marker": {
             "colorbar": {
              "outlinewidth": 0,
              "ticks": ""
             }
            },
            "type": "scatterternary"
           }
          ],
          "surface": [
           {
            "colorbar": {
             "outlinewidth": 0,
             "ticks": ""
            },
            "colorscale": [
             [
              0,
              "#0d0887"
             ],
             [
              0.1111111111111111,
              "#46039f"
             ],
             [
              0.2222222222222222,
              "#7201a8"
             ],
             [
              0.3333333333333333,
              "#9c179e"
             ],
             [
              0.4444444444444444,
              "#bd3786"
             ],
             [
              0.5555555555555556,
              "#d8576b"
             ],
             [
              0.6666666666666666,
              "#ed7953"
             ],
             [
              0.7777777777777778,
              "#fb9f3a"
             ],
             [
              0.8888888888888888,
              "#fdca26"
             ],
             [
              1,
              "#f0f921"
             ]
            ],
            "type": "surface"
           }
          ],
          "table": [
           {
            "cells": {
             "fill": {
              "color": "#EBF0F8"
             },
             "line": {
              "color": "white"
             }
            },
            "header": {
             "fill": {
              "color": "#C8D4E3"
             },
             "line": {
              "color": "white"
             }
            },
            "type": "table"
           }
          ]
         },
         "layout": {
          "annotationdefaults": {
           "arrowcolor": "#2a3f5f",
           "arrowhead": 0,
           "arrowwidth": 1
          },
          "autotypenumbers": "strict",
          "coloraxis": {
           "colorbar": {
            "outlinewidth": 0,
            "ticks": ""
           }
          },
          "colorscale": {
           "diverging": [
            [
             0,
             "#8e0152"
            ],
            [
             0.1,
             "#c51b7d"
            ],
            [
             0.2,
             "#de77ae"
            ],
            [
             0.3,
             "#f1b6da"
            ],
            [
             0.4,
             "#fde0ef"
            ],
            [
             0.5,
             "#f7f7f7"
            ],
            [
             0.6,
             "#e6f5d0"
            ],
            [
             0.7,
             "#b8e186"
            ],
            [
             0.8,
             "#7fbc41"
            ],
            [
             0.9,
             "#4d9221"
            ],
            [
             1,
             "#276419"
            ]
           ],
           "sequential": [
            [
             0,
             "#0d0887"
            ],
            [
             0.1111111111111111,
             "#46039f"
            ],
            [
             0.2222222222222222,
             "#7201a8"
            ],
            [
             0.3333333333333333,
             "#9c179e"
            ],
            [
             0.4444444444444444,
             "#bd3786"
            ],
            [
             0.5555555555555556,
             "#d8576b"
            ],
            [
             0.6666666666666666,
             "#ed7953"
            ],
            [
             0.7777777777777778,
             "#fb9f3a"
            ],
            [
             0.8888888888888888,
             "#fdca26"
            ],
            [
             1,
             "#f0f921"
            ]
           ],
           "sequentialminus": [
            [
             0,
             "#0d0887"
            ],
            [
             0.1111111111111111,
             "#46039f"
            ],
            [
             0.2222222222222222,
             "#7201a8"
            ],
            [
             0.3333333333333333,
             "#9c179e"
            ],
            [
             0.4444444444444444,
             "#bd3786"
            ],
            [
             0.5555555555555556,
             "#d8576b"
            ],
            [
             0.6666666666666666,
             "#ed7953"
            ],
            [
             0.7777777777777778,
             "#fb9f3a"
            ],
            [
             0.8888888888888888,
             "#fdca26"
            ],
            [
             1,
             "#f0f921"
            ]
           ]
          },
          "colorway": [
           "#636efa",
           "#EF553B",
           "#00cc96",
           "#ab63fa",
           "#FFA15A",
           "#19d3f3",
           "#FF6692",
           "#B6E880",
           "#FF97FF",
           "#FECB52"
          ],
          "font": {
           "color": "#2a3f5f"
          },
          "geo": {
           "bgcolor": "white",
           "lakecolor": "white",
           "landcolor": "#E5ECF6",
           "showlakes": true,
           "showland": true,
           "subunitcolor": "white"
          },
          "hoverlabel": {
           "align": "left"
          },
          "hovermode": "closest",
          "mapbox": {
           "style": "light"
          },
          "paper_bgcolor": "white",
          "plot_bgcolor": "#E5ECF6",
          "polar": {
           "angularaxis": {
            "gridcolor": "white",
            "linecolor": "white",
            "ticks": ""
           },
           "bgcolor": "#E5ECF6",
           "radialaxis": {
            "gridcolor": "white",
            "linecolor": "white",
            "ticks": ""
           }
          },
          "scene": {
           "xaxis": {
            "backgroundcolor": "#E5ECF6",
            "gridcolor": "white",
            "gridwidth": 2,
            "linecolor": "white",
            "showbackground": true,
            "ticks": "",
            "zerolinecolor": "white"
           },
           "yaxis": {
            "backgroundcolor": "#E5ECF6",
            "gridcolor": "white",
            "gridwidth": 2,
            "linecolor": "white",
            "showbackground": true,
            "ticks": "",
            "zerolinecolor": "white"
           },
           "zaxis": {
            "backgroundcolor": "#E5ECF6",
            "gridcolor": "white",
            "gridwidth": 2,
            "linecolor": "white",
            "showbackground": true,
            "ticks": "",
            "zerolinecolor": "white"
           }
          },
          "shapedefaults": {
           "line": {
            "color": "#2a3f5f"
           }
          },
          "ternary": {
           "aaxis": {
            "gridcolor": "white",
            "linecolor": "white",
            "ticks": ""
           },
           "baxis": {
            "gridcolor": "white",
            "linecolor": "white",
            "ticks": ""
           },
           "bgcolor": "#E5ECF6",
           "caxis": {
            "gridcolor": "white",
            "linecolor": "white",
            "ticks": ""
           }
          },
          "title": {
           "x": 0.05
          },
          "xaxis": {
           "automargin": true,
           "gridcolor": "white",
           "linecolor": "white",
           "ticks": "",
           "title": {
            "standoff": 15
           },
           "zerolinecolor": "white",
           "zerolinewidth": 2
          },
          "yaxis": {
           "automargin": true,
           "gridcolor": "white",
           "linecolor": "white",
           "ticks": "",
           "title": {
            "standoff": 15
           },
           "zerolinecolor": "white",
           "zerolinewidth": 2
          }
         }
        },
        "title": {
         "text": "Final Pareto Front with Intron Removal, Feature Size: 2"
        },
        "xaxis": {
         "anchor": "y",
         "domain": [
          0,
          1
         ],
         "title": {
          "text": "Complexity"
         },
         "type": "log"
        },
        "yaxis": {
         "anchor": "x",
         "domain": [
          0,
          1
         ],
         "title": {
          "text": "Error"
         }
        }
       }
      }
     },
     "metadata": {},
     "output_type": "display_data"
    },
    {
     "data": {
      "application/vnd.plotly.v1+json": {
       "config": {
        "plotlyServerURL": "https://plot.ly"
       },
       "data": [
        {
         "customdata": [
          [
           "<br>def Setup():<br>def Predict():<br>def Learn():<br>",
           "Train"
          ],
          [
           "<br>def Setup():<br>def Predict():<br>  v2 = v1 + v2<br>  v1 = s3 * v1<br>  s3 = 0.189209<br>  s1 = dot(v0, v2)<br>  s1 = s1 * s3<br>  s3 = -0.887889<br>def Learn():<br>  s1 = s0 - s1<br>  s3 = 0.635851<br>  v1 = s1 * v0<br>",
           "Train"
          ],
          [
           "<br>def Setup():<br>def Predict():<br>  v2 = v1 + v2<br>  v1 = s3 * v1<br>  s3 = 0.189209<br>  s1 = dot(v0, v2)<br>  s1 = s1 * s3<br>  s3 = -0.887889<br>def Learn():<br>  s1 = s0 - s1<br>  s3 = 0.635851<br>  v1 = s1 * v0<br>",
           "Train"
          ],
          [
           "<br>def Setup():<br>def Predict():<br>def Learn():<br>",
           "Train"
          ],
          [
           "<br>def Setup():<br>def Predict():<br>  s1 = dot(v0, v2)<br>  s1 = s3 * s1<br>  v2 = v1 + v2<br>def Learn():<br>  v1 = s0 * v0<br>  s3 = 0.00645958<br>",
           "Train"
          ],
          [
           "<br>def Setup():<br>def Predict():<br>  s3 = 0.181514<br>  v2 = v1 + v2<br>  s1 = dot(v0, v2)<br>  s1 = s1 * s3<br>def Learn():<br>  s1 = s0 - s1<br>  v1 = s1 * v0<br>",
           "Train"
          ],
          [
           "<br>def Setup():<br>def Predict():<br>  s1 = dot(v0, v1)<br>  s2 = 0.290295<br>def Learn():<br>  v1 = s2 * v0<br>",
           "Train"
          ],
          [
           "<br>def Setup():<br>  s2 = 0.224386<br>def Predict():<br>  s1 = s2 - s3<br>  s2 = s2 - s1<br>  s3 = 0.0756371<br>def Learn():<br>  s2 = s0 * s3<br>  s3 = s1 - s3<br>",
           "Train"
          ],
          [
           "<br>def Setup():<br>def Predict():<br>  s1 = dot(v0, v2)<br>  s3 = s1 - s3<br>  s1 = s3 * s2<br>  s3 = 0.0283061<br>def Learn():<br>  v2 = v2 + v0<br>  s2 = s0 * s3<br>  s3 = s3 - s1<br>",
           "Train"
          ],
          [
           "<br>def Setup():<br>def Predict():<br>  s1 = s2 - s3<br>  s2 = s2 - s1<br>  s3 = 0.0756371<br>def Learn():<br>  s3 = s0 * s3<br>",
           "Train"
          ],
          [
           "<br>def Setup():<br>def Predict():<br>  v2 = v1 + v2<br>  v1 = s3 * v1<br>  s3 = 0.189209<br>  s1 = dot(v0, v2)<br>  s1 = s1 * s3<br>def Learn():<br>  s1 = s0 - s1<br>  v1 = s1 * v0<br>",
           "Train"
          ],
          [
           "<br>def Setup():<br>def Predict():<br>  s3 = 0.189209<br>  s1 = dot(v0, v2)<br>  s1 = s1 * s3<br>  s3 = -0.887889<br>def Learn():<br>  v2 = s0 * v0<br>",
           "Train"
          ]
         ],
         "hovertemplate": "Type=%{customdata[1]}<br>Complexity=%{x}<br>Error=%{y}<br>Algorithm=%{customdata[0]}<extra></extra>",
         "legendgroup": "Train",
         "marker": {
          "color": "#636efa",
          "size": 10,
          "symbol": "circle"
         },
         "mode": "markers",
         "name": "Train",
         "orientation": "v",
         "showlegend": true,
         "textposition": "top center",
         "type": "scatter",
         "x": [
          0,
          25,
          25,
          0,
          18,
          19,
          13,
          6,
          17,
          4,
          23,
          15
         ],
         "xaxis": "x",
         "y": [
          0.640347,
          0.0000141435,
          0.0000141435,
          0.640347,
          0.467661,
          0.00020391900000000002,
          0.627246,
          0.63925,
          0.585202,
          0.640274,
          0.000014178599999999998,
          0.601564
         ],
         "yaxis": "y"
        },
        {
         "customdata": [
          [
           "<br>def Setup():<br>def Predict():<br>def Learn():<br>",
           "Test"
          ],
          [
           "<br>def Setup():<br>def Predict():<br>  v2 = v1 + v2<br>  v1 = s3 * v1<br>  s3 = 0.189209<br>  s1 = dot(v0, v2)<br>  s1 = s1 * s3<br>  s3 = -0.887889<br>def Learn():<br>  s1 = s0 - s1<br>  s3 = 0.635851<br>  v1 = s1 * v0<br>",
           "Test"
          ],
          [
           "<br>def Setup():<br>def Predict():<br>  v2 = v1 + v2<br>  v1 = s3 * v1<br>  s3 = 0.189209<br>  s1 = dot(v0, v2)<br>  s1 = s1 * s3<br>  s3 = -0.887889<br>def Learn():<br>  s1 = s0 - s1<br>  s3 = 0.635851<br>  v1 = s1 * v0<br>",
           "Test"
          ],
          [
           "<br>def Setup():<br>def Predict():<br>def Learn():<br>",
           "Test"
          ],
          [
           "<br>def Setup():<br>def Predict():<br>  s1 = dot(v0, v2)<br>  s1 = s3 * s1<br>  v2 = v1 + v2<br>def Learn():<br>  v1 = s0 * v0<br>  s3 = 0.00645958<br>",
           "Test"
          ],
          [
           "<br>def Setup():<br>def Predict():<br>  s3 = 0.181514<br>  v2 = v1 + v2<br>  s1 = dot(v0, v2)<br>  s1 = s1 * s3<br>def Learn():<br>  s1 = s0 - s1<br>  v1 = s1 * v0<br>",
           "Test"
          ],
          [
           "<br>def Setup():<br>def Predict():<br>  s1 = dot(v0, v1)<br>  s2 = 0.290295<br>def Learn():<br>  v1 = s2 * v0<br>",
           "Test"
          ],
          [
           "<br>def Setup():<br>  s2 = 0.224386<br>def Predict():<br>  s1 = s2 - s3<br>  s2 = s2 - s1<br>  s3 = 0.0756371<br>def Learn():<br>  s2 = s0 * s3<br>  s3 = s1 - s3<br>",
           "Test"
          ],
          [
           "<br>def Setup():<br>def Predict():<br>  s1 = dot(v0, v2)<br>  s3 = s1 - s3<br>  s1 = s3 * s2<br>  s3 = 0.0283061<br>def Learn():<br>  v2 = v2 + v0<br>  s2 = s0 * s3<br>  s3 = s3 - s1<br>",
           "Test"
          ],
          [
           "<br>def Setup():<br>def Predict():<br>  s1 = s2 - s3<br>  s2 = s2 - s1<br>  s3 = 0.0756371<br>def Learn():<br>  s3 = s0 * s3<br>",
           "Test"
          ],
          [
           "<br>def Setup():<br>def Predict():<br>  v2 = v1 + v2<br>  v1 = s3 * v1<br>  s3 = 0.189209<br>  s1 = dot(v0, v2)<br>  s1 = s1 * s3<br>def Learn():<br>  s1 = s0 - s1<br>  v1 = s1 * v0<br>",
           "Test"
          ],
          [
           "<br>def Setup():<br>def Predict():<br>  s3 = 0.189209<br>  s1 = dot(v0, v2)<br>  s1 = s1 * s3<br>  s3 = -0.887889<br>def Learn():<br>  v2 = s0 * v0<br>",
           "Test"
          ]
         ],
         "hovertemplate": "Type=%{customdata[1]}<br>Complexity=%{x}<br>Error=%{y}<br>Algorithm=%{customdata[0]}<extra></extra>",
         "legendgroup": "Test",
         "marker": {
          "color": "#EF553B",
          "size": 10,
          "symbol": "circle"
         },
         "mode": "markers",
         "name": "Test",
         "orientation": "v",
         "showlegend": true,
         "textposition": "top center",
         "type": "scatter",
         "x": [
          0,
          25,
          25,
          0,
          18,
          19,
          13,
          6,
          17,
          4,
          23,
          15
         ],
         "xaxis": "x",
         "y": [
          0.70309,
          0.0000949342,
          0.0000949342,
          0.70309,
          0.538009,
          0.0027073,
          0.728596,
          0.704384,
          0.695708,
          0.702947,
          0.00009507020000000001,
          0.680599
         ],
         "yaxis": "y"
        }
       ],
       "layout": {
        "height": 800,
        "legend": {
         "title": {
          "text": "Type"
         },
         "tracegroupgap": 0
        },
        "margin": {
         "t": 60
        },
        "template": {
         "data": {
          "bar": [
           {
            "error_x": {
             "color": "#2a3f5f"
            },
            "error_y": {
             "color": "#2a3f5f"
            },
            "marker": {
             "line": {
              "color": "#E5ECF6",
              "width": 0.5
             },
             "pattern": {
              "fillmode": "overlay",
              "size": 10,
              "solidity": 0.2
             }
            },
            "type": "bar"
           }
          ],
          "barpolar": [
           {
            "marker": {
             "line": {
              "color": "#E5ECF6",
              "width": 0.5
             },
             "pattern": {
              "fillmode": "overlay",
              "size": 10,
              "solidity": 0.2
             }
            },
            "type": "barpolar"
           }
          ],
          "carpet": [
           {
            "aaxis": {
             "endlinecolor": "#2a3f5f",
             "gridcolor": "white",
             "linecolor": "white",
             "minorgridcolor": "white",
             "startlinecolor": "#2a3f5f"
            },
            "baxis": {
             "endlinecolor": "#2a3f5f",
             "gridcolor": "white",
             "linecolor": "white",
             "minorgridcolor": "white",
             "startlinecolor": "#2a3f5f"
            },
            "type": "carpet"
           }
          ],
          "choropleth": [
           {
            "colorbar": {
             "outlinewidth": 0,
             "ticks": ""
            },
            "type": "choropleth"
           }
          ],
          "contour": [
           {
            "colorbar": {
             "outlinewidth": 0,
             "ticks": ""
            },
            "colorscale": [
             [
              0,
              "#0d0887"
             ],
             [
              0.1111111111111111,
              "#46039f"
             ],
             [
              0.2222222222222222,
              "#7201a8"
             ],
             [
              0.3333333333333333,
              "#9c179e"
             ],
             [
              0.4444444444444444,
              "#bd3786"
             ],
             [
              0.5555555555555556,
              "#d8576b"
             ],
             [
              0.6666666666666666,
              "#ed7953"
             ],
             [
              0.7777777777777778,
              "#fb9f3a"
             ],
             [
              0.8888888888888888,
              "#fdca26"
             ],
             [
              1,
              "#f0f921"
             ]
            ],
            "type": "contour"
           }
          ],
          "contourcarpet": [
           {
            "colorbar": {
             "outlinewidth": 0,
             "ticks": ""
            },
            "type": "contourcarpet"
           }
          ],
          "heatmap": [
           {
            "colorbar": {
             "outlinewidth": 0,
             "ticks": ""
            },
            "colorscale": [
             [
              0,
              "#0d0887"
             ],
             [
              0.1111111111111111,
              "#46039f"
             ],
             [
              0.2222222222222222,
              "#7201a8"
             ],
             [
              0.3333333333333333,
              "#9c179e"
             ],
             [
              0.4444444444444444,
              "#bd3786"
             ],
             [
              0.5555555555555556,
              "#d8576b"
             ],
             [
              0.6666666666666666,
              "#ed7953"
             ],
             [
              0.7777777777777778,
              "#fb9f3a"
             ],
             [
              0.8888888888888888,
              "#fdca26"
             ],
             [
              1,
              "#f0f921"
             ]
            ],
            "type": "heatmap"
           }
          ],
          "heatmapgl": [
           {
            "colorbar": {
             "outlinewidth": 0,
             "ticks": ""
            },
            "colorscale": [
             [
              0,
              "#0d0887"
             ],
             [
              0.1111111111111111,
              "#46039f"
             ],
             [
              0.2222222222222222,
              "#7201a8"
             ],
             [
              0.3333333333333333,
              "#9c179e"
             ],
             [
              0.4444444444444444,
              "#bd3786"
             ],
             [
              0.5555555555555556,
              "#d8576b"
             ],
             [
              0.6666666666666666,
              "#ed7953"
             ],
             [
              0.7777777777777778,
              "#fb9f3a"
             ],
             [
              0.8888888888888888,
              "#fdca26"
             ],
             [
              1,
              "#f0f921"
             ]
            ],
            "type": "heatmapgl"
           }
          ],
          "histogram": [
           {
            "marker": {
             "pattern": {
              "fillmode": "overlay",
              "size": 10,
              "solidity": 0.2
             }
            },
            "type": "histogram"
           }
          ],
          "histogram2d": [
           {
            "colorbar": {
             "outlinewidth": 0,
             "ticks": ""
            },
            "colorscale": [
             [
              0,
              "#0d0887"
             ],
             [
              0.1111111111111111,
              "#46039f"
             ],
             [
              0.2222222222222222,
              "#7201a8"
             ],
             [
              0.3333333333333333,
              "#9c179e"
             ],
             [
              0.4444444444444444,
              "#bd3786"
             ],
             [
              0.5555555555555556,
              "#d8576b"
             ],
             [
              0.6666666666666666,
              "#ed7953"
             ],
             [
              0.7777777777777778,
              "#fb9f3a"
             ],
             [
              0.8888888888888888,
              "#fdca26"
             ],
             [
              1,
              "#f0f921"
             ]
            ],
            "type": "histogram2d"
           }
          ],
          "histogram2dcontour": [
           {
            "colorbar": {
             "outlinewidth": 0,
             "ticks": ""
            },
            "colorscale": [
             [
              0,
              "#0d0887"
             ],
             [
              0.1111111111111111,
              "#46039f"
             ],
             [
              0.2222222222222222,
              "#7201a8"
             ],
             [
              0.3333333333333333,
              "#9c179e"
             ],
             [
              0.4444444444444444,
              "#bd3786"
             ],
             [
              0.5555555555555556,
              "#d8576b"
             ],
             [
              0.6666666666666666,
              "#ed7953"
             ],
             [
              0.7777777777777778,
              "#fb9f3a"
             ],
             [
              0.8888888888888888,
              "#fdca26"
             ],
             [
              1,
              "#f0f921"
             ]
            ],
            "type": "histogram2dcontour"
           }
          ],
          "mesh3d": [
           {
            "colorbar": {
             "outlinewidth": 0,
             "ticks": ""
            },
            "type": "mesh3d"
           }
          ],
          "parcoords": [
           {
            "line": {
             "colorbar": {
              "outlinewidth": 0,
              "ticks": ""
             }
            },
            "type": "parcoords"
           }
          ],
          "pie": [
           {
            "automargin": true,
            "type": "pie"
           }
          ],
          "scatter": [
           {
            "marker": {
             "colorbar": {
              "outlinewidth": 0,
              "ticks": ""
             }
            },
            "type": "scatter"
           }
          ],
          "scatter3d": [
           {
            "line": {
             "colorbar": {
              "outlinewidth": 0,
              "ticks": ""
             }
            },
            "marker": {
             "colorbar": {
              "outlinewidth": 0,
              "ticks": ""
             }
            },
            "type": "scatter3d"
           }
          ],
          "scattercarpet": [
           {
            "marker": {
             "colorbar": {
              "outlinewidth": 0,
              "ticks": ""
             }
            },
            "type": "scattercarpet"
           }
          ],
          "scattergeo": [
           {
            "marker": {
             "colorbar": {
              "outlinewidth": 0,
              "ticks": ""
             }
            },
            "type": "scattergeo"
           }
          ],
          "scattergl": [
           {
            "marker": {
             "colorbar": {
              "outlinewidth": 0,
              "ticks": ""
             }
            },
            "type": "scattergl"
           }
          ],
          "scattermapbox": [
           {
            "marker": {
             "colorbar": {
              "outlinewidth": 0,
              "ticks": ""
             }
            },
            "type": "scattermapbox"
           }
          ],
          "scatterpolar": [
           {
            "marker": {
             "colorbar": {
              "outlinewidth": 0,
              "ticks": ""
             }
            },
            "type": "scatterpolar"
           }
          ],
          "scatterpolargl": [
           {
            "marker": {
             "colorbar": {
              "outlinewidth": 0,
              "ticks": ""
             }
            },
            "type": "scatterpolargl"
           }
          ],
          "scatterternary": [
           {
            "marker": {
             "colorbar": {
              "outlinewidth": 0,
              "ticks": ""
             }
            },
            "type": "scatterternary"
           }
          ],
          "surface": [
           {
            "colorbar": {
             "outlinewidth": 0,
             "ticks": ""
            },
            "colorscale": [
             [
              0,
              "#0d0887"
             ],
             [
              0.1111111111111111,
              "#46039f"
             ],
             [
              0.2222222222222222,
              "#7201a8"
             ],
             [
              0.3333333333333333,
              "#9c179e"
             ],
             [
              0.4444444444444444,
              "#bd3786"
             ],
             [
              0.5555555555555556,
              "#d8576b"
             ],
             [
              0.6666666666666666,
              "#ed7953"
             ],
             [
              0.7777777777777778,
              "#fb9f3a"
             ],
             [
              0.8888888888888888,
              "#fdca26"
             ],
             [
              1,
              "#f0f921"
             ]
            ],
            "type": "surface"
           }
          ],
          "table": [
           {
            "cells": {
             "fill": {
              "color": "#EBF0F8"
             },
             "line": {
              "color": "white"
             }
            },
            "header": {
             "fill": {
              "color": "#C8D4E3"
             },
             "line": {
              "color": "white"
             }
            },
            "type": "table"
           }
          ]
         },
         "layout": {
          "annotationdefaults": {
           "arrowcolor": "#2a3f5f",
           "arrowhead": 0,
           "arrowwidth": 1
          },
          "autotypenumbers": "strict",
          "coloraxis": {
           "colorbar": {
            "outlinewidth": 0,
            "ticks": ""
           }
          },
          "colorscale": {
           "diverging": [
            [
             0,
             "#8e0152"
            ],
            [
             0.1,
             "#c51b7d"
            ],
            [
             0.2,
             "#de77ae"
            ],
            [
             0.3,
             "#f1b6da"
            ],
            [
             0.4,
             "#fde0ef"
            ],
            [
             0.5,
             "#f7f7f7"
            ],
            [
             0.6,
             "#e6f5d0"
            ],
            [
             0.7,
             "#b8e186"
            ],
            [
             0.8,
             "#7fbc41"
            ],
            [
             0.9,
             "#4d9221"
            ],
            [
             1,
             "#276419"
            ]
           ],
           "sequential": [
            [
             0,
             "#0d0887"
            ],
            [
             0.1111111111111111,
             "#46039f"
            ],
            [
             0.2222222222222222,
             "#7201a8"
            ],
            [
             0.3333333333333333,
             "#9c179e"
            ],
            [
             0.4444444444444444,
             "#bd3786"
            ],
            [
             0.5555555555555556,
             "#d8576b"
            ],
            [
             0.6666666666666666,
             "#ed7953"
            ],
            [
             0.7777777777777778,
             "#fb9f3a"
            ],
            [
             0.8888888888888888,
             "#fdca26"
            ],
            [
             1,
             "#f0f921"
            ]
           ],
           "sequentialminus": [
            [
             0,
             "#0d0887"
            ],
            [
             0.1111111111111111,
             "#46039f"
            ],
            [
             0.2222222222222222,
             "#7201a8"
            ],
            [
             0.3333333333333333,
             "#9c179e"
            ],
            [
             0.4444444444444444,
             "#bd3786"
            ],
            [
             0.5555555555555556,
             "#d8576b"
            ],
            [
             0.6666666666666666,
             "#ed7953"
            ],
            [
             0.7777777777777778,
             "#fb9f3a"
            ],
            [
             0.8888888888888888,
             "#fdca26"
            ],
            [
             1,
             "#f0f921"
            ]
           ]
          },
          "colorway": [
           "#636efa",
           "#EF553B",
           "#00cc96",
           "#ab63fa",
           "#FFA15A",
           "#19d3f3",
           "#FF6692",
           "#B6E880",
           "#FF97FF",
           "#FECB52"
          ],
          "font": {
           "color": "#2a3f5f"
          },
          "geo": {
           "bgcolor": "white",
           "lakecolor": "white",
           "landcolor": "#E5ECF6",
           "showlakes": true,
           "showland": true,
           "subunitcolor": "white"
          },
          "hoverlabel": {
           "align": "left"
          },
          "hovermode": "closest",
          "mapbox": {
           "style": "light"
          },
          "paper_bgcolor": "white",
          "plot_bgcolor": "#E5ECF6",
          "polar": {
           "angularaxis": {
            "gridcolor": "white",
            "linecolor": "white",
            "ticks": ""
           },
           "bgcolor": "#E5ECF6",
           "radialaxis": {
            "gridcolor": "white",
            "linecolor": "white",
            "ticks": ""
           }
          },
          "scene": {
           "xaxis": {
            "backgroundcolor": "#E5ECF6",
            "gridcolor": "white",
            "gridwidth": 2,
            "linecolor": "white",
            "showbackground": true,
            "ticks": "",
            "zerolinecolor": "white"
           },
           "yaxis": {
            "backgroundcolor": "#E5ECF6",
            "gridcolor": "white",
            "gridwidth": 2,
            "linecolor": "white",
            "showbackground": true,
            "ticks": "",
            "zerolinecolor": "white"
           },
           "zaxis": {
            "backgroundcolor": "#E5ECF6",
            "gridcolor": "white",
            "gridwidth": 2,
            "linecolor": "white",
            "showbackground": true,
            "ticks": "",
            "zerolinecolor": "white"
           }
          },
          "shapedefaults": {
           "line": {
            "color": "#2a3f5f"
           }
          },
          "ternary": {
           "aaxis": {
            "gridcolor": "white",
            "linecolor": "white",
            "ticks": ""
           },
           "baxis": {
            "gridcolor": "white",
            "linecolor": "white",
            "ticks": ""
           },
           "bgcolor": "#E5ECF6",
           "caxis": {
            "gridcolor": "white",
            "linecolor": "white",
            "ticks": ""
           }
          },
          "title": {
           "x": 0.05
          },
          "xaxis": {
           "automargin": true,
           "gridcolor": "white",
           "linecolor": "white",
           "ticks": "",
           "title": {
            "standoff": 15
           },
           "zerolinecolor": "white",
           "zerolinewidth": 2
          },
          "yaxis": {
           "automargin": true,
           "gridcolor": "white",
           "linecolor": "white",
           "ticks": "",
           "title": {
            "standoff": 15
           },
           "zerolinecolor": "white",
           "zerolinewidth": 2
          }
         }
        },
        "title": {
         "text": "Final Pareto Front with Intron Removal, Feature Size: 4"
        },
        "xaxis": {
         "anchor": "y",
         "domain": [
          0,
          1
         ],
         "title": {
          "text": "Complexity"
         },
         "type": "log"
        },
        "yaxis": {
         "anchor": "x",
         "domain": [
          0,
          1
         ],
         "title": {
          "text": "Error"
         }
        }
       }
      }
     },
     "metadata": {},
     "output_type": "display_data"
    },
    {
     "data": {
      "application/vnd.plotly.v1+json": {
       "config": {
        "plotlyServerURL": "https://plot.ly"
       },
       "data": [
        {
         "customdata": [
          [
           "<br>def Setup():<br>def Predict():<br>def Learn():<br>",
           "Train"
          ],
          [
           "<br>def Setup():<br>def Predict():<br>  s1 = 0.0986312<br>  s3 = dot(v0, v2)<br>  s1 = s3 * s1<br>def Learn():<br>  s3 = s0 - s1<br>  v1 = s3 * v0<br>  v2 = v2 + v1<br>",
           "Train"
          ],
          [
           "<br>def Setup():<br>def Predict():<br>  s1 = 0.0986312<br>  s3 = dot(v0, v2)<br>  s1 = s3 * s1<br>def Learn():<br>  s3 = s0 - s1<br>  v1 = s3 * v0<br>  v2 = v2 + v1<br>",
           "Train"
          ],
          [
           "<br>def Setup():<br>def Predict():<br>def Learn():<br>",
           "Train"
          ],
          [
           "<br>def Setup():<br>def Predict():<br>  s1 = dot(v1, v0)<br>  s3 = 0.0960771<br>  v2 = v1 + v0<br>def Learn():<br>  s3 = s3 * s0<br>  v1 = s3 * v2<br>",
           "Train"
          ],
          [
           "<br>def Setup():<br>def Predict():<br>  s1 = dot(v2, v0)<br>  s3 = 0.434531<br>def Learn():<br>  v2 = s3 * v0<br>",
           "Train"
          ],
          [
           "<br>def Setup():<br>def Predict():<br>  s1 = 0.131849<br>  s3 = s3 - s1<br>  s1 = s2 - s1<br>  s2 = s3 * s3<br>  s3 = s3 - s3<br>def Learn():<br>  s3 = -0.314304<br>  s3 = s0 * s3<br>",
           "Train"
          ],
          [
           "<br>def Setup():<br>def Predict():<br>  s1 = -0.0939214<br>def Learn():<br>",
           "Train"
          ],
          [
           "<br>def Setup():<br>def Predict():<br>  s1 = 0.101777<br>  s1 = s2 - s1<br>  s2 = s1 * s1<br>def Learn():<br>  s2 = 0.840121<br>",
           "Train"
          ],
          [
           "<br>def Setup():<br>def Predict():<br>  s3 = 0.0855635<br>  s1 = dot(v1, v0)<br>  s1 = s3 * s1<br>def Learn():<br>  s3 = s0 - s1<br>  v1 = s3 * v0<br>",
           "Train"
          ],
          [
           "<br>def Setup():<br>def Predict():<br>  s3 = 0.0855635<br>  s1 = dot(v1, v0)<br>  s1 = s3 * s1<br>def Learn():<br>  s1 = -0.733555<br>  s3 = s0 - s1<br>  v1 = s3 * v0<br>",
           "Train"
          ],
          [
           "<br>def Setup():<br>def Predict():<br>  s1 = 0.131849<br>  s1 = s2 - s1<br>  s2 = s3 * s3<br>  s3 = s3 - s3<br>def Learn():<br>  s3 = -0.775442<br>",
           "Train"
          ]
         ],
         "hovertemplate": "Type=%{customdata[1]}<br>Complexity=%{x}<br>Error=%{y}<br>Algorithm=%{customdata[0]}<extra></extra>",
         "legendgroup": "Train",
         "marker": {
          "color": "#636efa",
          "size": 10,
          "symbol": "circle"
         },
         "mode": "markers",
         "name": "Train",
         "orientation": "v",
         "showlegend": true,
         "textposition": "top center",
         "type": "scatter",
         "x": [
          0,
          19,
          19,
          0,
          18,
          13,
          7,
          1,
          4,
          15,
          16,
          5
         ],
         "xaxis": "x",
         "y": [
          0.775263,
          0.00724405,
          0.00724405,
          0.775263,
          0.747016,
          0.754378,
          0.7745529999999999,
          0.7751239999999999,
          0.774908,
          0.750131,
          0.748448,
          0.774846
         ],
         "yaxis": "y"
        },
        {
         "customdata": [
          [
           "<br>def Setup():<br>def Predict():<br>def Learn():<br>",
           "Test"
          ],
          [
           "<br>def Setup():<br>def Predict():<br>  s1 = 0.0986312<br>  s3 = dot(v0, v2)<br>  s1 = s3 * s1<br>def Learn():<br>  s3 = s0 - s1<br>  v1 = s3 * v0<br>  v2 = v2 + v1<br>",
           "Test"
          ],
          [
           "<br>def Setup():<br>def Predict():<br>  s1 = 0.0986312<br>  s3 = dot(v0, v2)<br>  s1 = s3 * s1<br>def Learn():<br>  s3 = s0 - s1<br>  v1 = s3 * v0<br>  v2 = v2 + v1<br>",
           "Test"
          ],
          [
           "<br>def Setup():<br>def Predict():<br>def Learn():<br>",
           "Test"
          ],
          [
           "<br>def Setup():<br>def Predict():<br>  s1 = dot(v1, v0)<br>  s3 = 0.0960771<br>  v2 = v1 + v0<br>def Learn():<br>  s3 = s3 * s0<br>  v1 = s3 * v2<br>",
           "Test"
          ],
          [
           "<br>def Setup():<br>def Predict():<br>  s1 = dot(v2, v0)<br>  s3 = 0.434531<br>def Learn():<br>  v2 = s3 * v0<br>",
           "Test"
          ],
          [
           "<br>def Setup():<br>def Predict():<br>  s1 = 0.131849<br>  s3 = s3 - s1<br>  s1 = s2 - s1<br>  s2 = s3 * s3<br>  s3 = s3 - s3<br>def Learn():<br>  s3 = -0.314304<br>  s3 = s0 * s3<br>",
           "Test"
          ],
          [
           "<br>def Setup():<br>def Predict():<br>  s1 = -0.0939214<br>def Learn():<br>",
           "Test"
          ],
          [
           "<br>def Setup():<br>def Predict():<br>  s1 = 0.101777<br>  s1 = s2 - s1<br>  s2 = s1 * s1<br>def Learn():<br>  s2 = 0.840121<br>",
           "Test"
          ],
          [
           "<br>def Setup():<br>def Predict():<br>  s3 = 0.0855635<br>  s1 = dot(v1, v0)<br>  s1 = s3 * s1<br>def Learn():<br>  s3 = s0 - s1<br>  v1 = s3 * v0<br>",
           "Test"
          ],
          [
           "<br>def Setup():<br>def Predict():<br>  s3 = 0.0855635<br>  s1 = dot(v1, v0)<br>  s1 = s3 * s1<br>def Learn():<br>  s1 = -0.733555<br>  s3 = s0 - s1<br>  v1 = s3 * v0<br>",
           "Test"
          ],
          [
           "<br>def Setup():<br>def Predict():<br>  s1 = 0.131849<br>  s1 = s2 - s1<br>  s2 = s3 * s3<br>  s3 = s3 - s3<br>def Learn():<br>  s3 = -0.775442<br>",
           "Test"
          ]
         ],
         "hovertemplate": "Type=%{customdata[1]}<br>Complexity=%{x}<br>Error=%{y}<br>Algorithm=%{customdata[0]}<extra></extra>",
         "legendgroup": "Test",
         "marker": {
          "color": "#EF553B",
          "size": 10,
          "symbol": "circle"
         },
         "mode": "markers",
         "name": "Test",
         "orientation": "v",
         "showlegend": true,
         "textposition": "top center",
         "type": "scatter",
         "x": [
          0,
          19,
          19,
          0,
          18,
          13,
          7,
          1,
          4,
          15,
          16,
          5
         ],
         "xaxis": "x",
         "y": [
          0.773371,
          0.00481327,
          0.00481327,
          0.773371,
          0.766095,
          0.7976770000000001,
          0.77453,
          0.7736149999999999,
          0.773893,
          0.766547,
          0.766237,
          0.7740239999999999
         ],
         "yaxis": "y"
        }
       ],
       "layout": {
        "height": 800,
        "legend": {
         "title": {
          "text": "Type"
         },
         "tracegroupgap": 0
        },
        "margin": {
         "t": 60
        },
        "template": {
         "data": {
          "bar": [
           {
            "error_x": {
             "color": "#2a3f5f"
            },
            "error_y": {
             "color": "#2a3f5f"
            },
            "marker": {
             "line": {
              "color": "#E5ECF6",
              "width": 0.5
             },
             "pattern": {
              "fillmode": "overlay",
              "size": 10,
              "solidity": 0.2
             }
            },
            "type": "bar"
           }
          ],
          "barpolar": [
           {
            "marker": {
             "line": {
              "color": "#E5ECF6",
              "width": 0.5
             },
             "pattern": {
              "fillmode": "overlay",
              "size": 10,
              "solidity": 0.2
             }
            },
            "type": "barpolar"
           }
          ],
          "carpet": [
           {
            "aaxis": {
             "endlinecolor": "#2a3f5f",
             "gridcolor": "white",
             "linecolor": "white",
             "minorgridcolor": "white",
             "startlinecolor": "#2a3f5f"
            },
            "baxis": {
             "endlinecolor": "#2a3f5f",
             "gridcolor": "white",
             "linecolor": "white",
             "minorgridcolor": "white",
             "startlinecolor": "#2a3f5f"
            },
            "type": "carpet"
           }
          ],
          "choropleth": [
           {
            "colorbar": {
             "outlinewidth": 0,
             "ticks": ""
            },
            "type": "choropleth"
           }
          ],
          "contour": [
           {
            "colorbar": {
             "outlinewidth": 0,
             "ticks": ""
            },
            "colorscale": [
             [
              0,
              "#0d0887"
             ],
             [
              0.1111111111111111,
              "#46039f"
             ],
             [
              0.2222222222222222,
              "#7201a8"
             ],
             [
              0.3333333333333333,
              "#9c179e"
             ],
             [
              0.4444444444444444,
              "#bd3786"
             ],
             [
              0.5555555555555556,
              "#d8576b"
             ],
             [
              0.6666666666666666,
              "#ed7953"
             ],
             [
              0.7777777777777778,
              "#fb9f3a"
             ],
             [
              0.8888888888888888,
              "#fdca26"
             ],
             [
              1,
              "#f0f921"
             ]
            ],
            "type": "contour"
           }
          ],
          "contourcarpet": [
           {
            "colorbar": {
             "outlinewidth": 0,
             "ticks": ""
            },
            "type": "contourcarpet"
           }
          ],
          "heatmap": [
           {
            "colorbar": {
             "outlinewidth": 0,
             "ticks": ""
            },
            "colorscale": [
             [
              0,
              "#0d0887"
             ],
             [
              0.1111111111111111,
              "#46039f"
             ],
             [
              0.2222222222222222,
              "#7201a8"
             ],
             [
              0.3333333333333333,
              "#9c179e"
             ],
             [
              0.4444444444444444,
              "#bd3786"
             ],
             [
              0.5555555555555556,
              "#d8576b"
             ],
             [
              0.6666666666666666,
              "#ed7953"
             ],
             [
              0.7777777777777778,
              "#fb9f3a"
             ],
             [
              0.8888888888888888,
              "#fdca26"
             ],
             [
              1,
              "#f0f921"
             ]
            ],
            "type": "heatmap"
           }
          ],
          "heatmapgl": [
           {
            "colorbar": {
             "outlinewidth": 0,
             "ticks": ""
            },
            "colorscale": [
             [
              0,
              "#0d0887"
             ],
             [
              0.1111111111111111,
              "#46039f"
             ],
             [
              0.2222222222222222,
              "#7201a8"
             ],
             [
              0.3333333333333333,
              "#9c179e"
             ],
             [
              0.4444444444444444,
              "#bd3786"
             ],
             [
              0.5555555555555556,
              "#d8576b"
             ],
             [
              0.6666666666666666,
              "#ed7953"
             ],
             [
              0.7777777777777778,
              "#fb9f3a"
             ],
             [
              0.8888888888888888,
              "#fdca26"
             ],
             [
              1,
              "#f0f921"
             ]
            ],
            "type": "heatmapgl"
           }
          ],
          "histogram": [
           {
            "marker": {
             "pattern": {
              "fillmode": "overlay",
              "size": 10,
              "solidity": 0.2
             }
            },
            "type": "histogram"
           }
          ],
          "histogram2d": [
           {
            "colorbar": {
             "outlinewidth": 0,
             "ticks": ""
            },
            "colorscale": [
             [
              0,
              "#0d0887"
             ],
             [
              0.1111111111111111,
              "#46039f"
             ],
             [
              0.2222222222222222,
              "#7201a8"
             ],
             [
              0.3333333333333333,
              "#9c179e"
             ],
             [
              0.4444444444444444,
              "#bd3786"
             ],
             [
              0.5555555555555556,
              "#d8576b"
             ],
             [
              0.6666666666666666,
              "#ed7953"
             ],
             [
              0.7777777777777778,
              "#fb9f3a"
             ],
             [
              0.8888888888888888,
              "#fdca26"
             ],
             [
              1,
              "#f0f921"
             ]
            ],
            "type": "histogram2d"
           }
          ],
          "histogram2dcontour": [
           {
            "colorbar": {
             "outlinewidth": 0,
             "ticks": ""
            },
            "colorscale": [
             [
              0,
              "#0d0887"
             ],
             [
              0.1111111111111111,
              "#46039f"
             ],
             [
              0.2222222222222222,
              "#7201a8"
             ],
             [
              0.3333333333333333,
              "#9c179e"
             ],
             [
              0.4444444444444444,
              "#bd3786"
             ],
             [
              0.5555555555555556,
              "#d8576b"
             ],
             [
              0.6666666666666666,
              "#ed7953"
             ],
             [
              0.7777777777777778,
              "#fb9f3a"
             ],
             [
              0.8888888888888888,
              "#fdca26"
             ],
             [
              1,
              "#f0f921"
             ]
            ],
            "type": "histogram2dcontour"
           }
          ],
          "mesh3d": [
           {
            "colorbar": {
             "outlinewidth": 0,
             "ticks": ""
            },
            "type": "mesh3d"
           }
          ],
          "parcoords": [
           {
            "line": {
             "colorbar": {
              "outlinewidth": 0,
              "ticks": ""
             }
            },
            "type": "parcoords"
           }
          ],
          "pie": [
           {
            "automargin": true,
            "type": "pie"
           }
          ],
          "scatter": [
           {
            "marker": {
             "colorbar": {
              "outlinewidth": 0,
              "ticks": ""
             }
            },
            "type": "scatter"
           }
          ],
          "scatter3d": [
           {
            "line": {
             "colorbar": {
              "outlinewidth": 0,
              "ticks": ""
             }
            },
            "marker": {
             "colorbar": {
              "outlinewidth": 0,
              "ticks": ""
             }
            },
            "type": "scatter3d"
           }
          ],
          "scattercarpet": [
           {
            "marker": {
             "colorbar": {
              "outlinewidth": 0,
              "ticks": ""
             }
            },
            "type": "scattercarpet"
           }
          ],
          "scattergeo": [
           {
            "marker": {
             "colorbar": {
              "outlinewidth": 0,
              "ticks": ""
             }
            },
            "type": "scattergeo"
           }
          ],
          "scattergl": [
           {
            "marker": {
             "colorbar": {
              "outlinewidth": 0,
              "ticks": ""
             }
            },
            "type": "scattergl"
           }
          ],
          "scattermapbox": [
           {
            "marker": {
             "colorbar": {
              "outlinewidth": 0,
              "ticks": ""
             }
            },
            "type": "scattermapbox"
           }
          ],
          "scatterpolar": [
           {
            "marker": {
             "colorbar": {
              "outlinewidth": 0,
              "ticks": ""
             }
            },
            "type": "scatterpolar"
           }
          ],
          "scatterpolargl": [
           {
            "marker": {
             "colorbar": {
              "outlinewidth": 0,
              "ticks": ""
             }
            },
            "type": "scatterpolargl"
           }
          ],
          "scatterternary": [
           {
            "marker": {
             "colorbar": {
              "outlinewidth": 0,
              "ticks": ""
             }
            },
            "type": "scatterternary"
           }
          ],
          "surface": [
           {
            "colorbar": {
             "outlinewidth": 0,
             "ticks": ""
            },
            "colorscale": [
             [
              0,
              "#0d0887"
             ],
             [
              0.1111111111111111,
              "#46039f"
             ],
             [
              0.2222222222222222,
              "#7201a8"
             ],
             [
              0.3333333333333333,
              "#9c179e"
             ],
             [
              0.4444444444444444,
              "#bd3786"
             ],
             [
              0.5555555555555556,
              "#d8576b"
             ],
             [
              0.6666666666666666,
              "#ed7953"
             ],
             [
              0.7777777777777778,
              "#fb9f3a"
             ],
             [
              0.8888888888888888,
              "#fdca26"
             ],
             [
              1,
              "#f0f921"
             ]
            ],
            "type": "surface"
           }
          ],
          "table": [
           {
            "cells": {
             "fill": {
              "color": "#EBF0F8"
             },
             "line": {
              "color": "white"
             }
            },
            "header": {
             "fill": {
              "color": "#C8D4E3"
             },
             "line": {
              "color": "white"
             }
            },
            "type": "table"
           }
          ]
         },
         "layout": {
          "annotationdefaults": {
           "arrowcolor": "#2a3f5f",
           "arrowhead": 0,
           "arrowwidth": 1
          },
          "autotypenumbers": "strict",
          "coloraxis": {
           "colorbar": {
            "outlinewidth": 0,
            "ticks": ""
           }
          },
          "colorscale": {
           "diverging": [
            [
             0,
             "#8e0152"
            ],
            [
             0.1,
             "#c51b7d"
            ],
            [
             0.2,
             "#de77ae"
            ],
            [
             0.3,
             "#f1b6da"
            ],
            [
             0.4,
             "#fde0ef"
            ],
            [
             0.5,
             "#f7f7f7"
            ],
            [
             0.6,
             "#e6f5d0"
            ],
            [
             0.7,
             "#b8e186"
            ],
            [
             0.8,
             "#7fbc41"
            ],
            [
             0.9,
             "#4d9221"
            ],
            [
             1,
             "#276419"
            ]
           ],
           "sequential": [
            [
             0,
             "#0d0887"
            ],
            [
             0.1111111111111111,
             "#46039f"
            ],
            [
             0.2222222222222222,
             "#7201a8"
            ],
            [
             0.3333333333333333,
             "#9c179e"
            ],
            [
             0.4444444444444444,
             "#bd3786"
            ],
            [
             0.5555555555555556,
             "#d8576b"
            ],
            [
             0.6666666666666666,
             "#ed7953"
            ],
            [
             0.7777777777777778,
             "#fb9f3a"
            ],
            [
             0.8888888888888888,
             "#fdca26"
            ],
            [
             1,
             "#f0f921"
            ]
           ],
           "sequentialminus": [
            [
             0,
             "#0d0887"
            ],
            [
             0.1111111111111111,
             "#46039f"
            ],
            [
             0.2222222222222222,
             "#7201a8"
            ],
            [
             0.3333333333333333,
             "#9c179e"
            ],
            [
             0.4444444444444444,
             "#bd3786"
            ],
            [
             0.5555555555555556,
             "#d8576b"
            ],
            [
             0.6666666666666666,
             "#ed7953"
            ],
            [
             0.7777777777777778,
             "#fb9f3a"
            ],
            [
             0.8888888888888888,
             "#fdca26"
            ],
            [
             1,
             "#f0f921"
            ]
           ]
          },
          "colorway": [
           "#636efa",
           "#EF553B",
           "#00cc96",
           "#ab63fa",
           "#FFA15A",
           "#19d3f3",
           "#FF6692",
           "#B6E880",
           "#FF97FF",
           "#FECB52"
          ],
          "font": {
           "color": "#2a3f5f"
          },
          "geo": {
           "bgcolor": "white",
           "lakecolor": "white",
           "landcolor": "#E5ECF6",
           "showlakes": true,
           "showland": true,
           "subunitcolor": "white"
          },
          "hoverlabel": {
           "align": "left"
          },
          "hovermode": "closest",
          "mapbox": {
           "style": "light"
          },
          "paper_bgcolor": "white",
          "plot_bgcolor": "#E5ECF6",
          "polar": {
           "angularaxis": {
            "gridcolor": "white",
            "linecolor": "white",
            "ticks": ""
           },
           "bgcolor": "#E5ECF6",
           "radialaxis": {
            "gridcolor": "white",
            "linecolor": "white",
            "ticks": ""
           }
          },
          "scene": {
           "xaxis": {
            "backgroundcolor": "#E5ECF6",
            "gridcolor": "white",
            "gridwidth": 2,
            "linecolor": "white",
            "showbackground": true,
            "ticks": "",
            "zerolinecolor": "white"
           },
           "yaxis": {
            "backgroundcolor": "#E5ECF6",
            "gridcolor": "white",
            "gridwidth": 2,
            "linecolor": "white",
            "showbackground": true,
            "ticks": "",
            "zerolinecolor": "white"
           },
           "zaxis": {
            "backgroundcolor": "#E5ECF6",
            "gridcolor": "white",
            "gridwidth": 2,
            "linecolor": "white",
            "showbackground": true,
            "ticks": "",
            "zerolinecolor": "white"
           }
          },
          "shapedefaults": {
           "line": {
            "color": "#2a3f5f"
           }
          },
          "ternary": {
           "aaxis": {
            "gridcolor": "white",
            "linecolor": "white",
            "ticks": ""
           },
           "baxis": {
            "gridcolor": "white",
            "linecolor": "white",
            "ticks": ""
           },
           "bgcolor": "#E5ECF6",
           "caxis": {
            "gridcolor": "white",
            "linecolor": "white",
            "ticks": ""
           }
          },
          "title": {
           "x": 0.05
          },
          "xaxis": {
           "automargin": true,
           "gridcolor": "white",
           "linecolor": "white",
           "ticks": "",
           "title": {
            "standoff": 15
           },
           "zerolinecolor": "white",
           "zerolinewidth": 2
          },
          "yaxis": {
           "automargin": true,
           "gridcolor": "white",
           "linecolor": "white",
           "ticks": "",
           "title": {
            "standoff": 15
           },
           "zerolinecolor": "white",
           "zerolinewidth": 2
          }
         }
        },
        "title": {
         "text": "Final Pareto Front with Intron Removal, Feature Size: 8"
        },
        "xaxis": {
         "anchor": "y",
         "domain": [
          0,
          1
         ],
         "title": {
          "text": "Complexity"
         },
         "type": "log"
        },
        "yaxis": {
         "anchor": "x",
         "domain": [
          0,
          1
         ],
         "title": {
          "text": "Error"
         }
        }
       }
      }
     },
     "metadata": {},
     "output_type": "display_data"
    },
    {
     "data": {
      "application/vnd.plotly.v1+json": {
       "config": {
        "plotlyServerURL": "https://plot.ly"
       },
       "data": [
        {
         "customdata": [
          [
           "<br>def Setup():<br>def Predict():<br>def Learn():<br>",
           "Train"
          ],
          [
           "<br>def Setup():<br>def Predict():<br>  v1 = v2 + v1<br>  s2 = -0.0556516<br>  s1 = dot(v0, v1)<br>  s1 = s1 - s2<br>  s3 = s2 * s3<br>  s1 = s1 - s2<br>  s1 = s1 - s2<br>  s1 = s1 - s2<br>  s1 = s2 * s1<br>  v2 = s3 * v2<br>  v1 = v1 + v2<br>  s2 = -0.305152<br>  s3 = s2 * s1<br>  v2 = v2 + v2<br>def Learn():<br>  s2 = s1 - s0<br>  s3 = s3 - s2<br>  v2 = s2 * v0<br>",
           "Train"
          ],
          [
           "<br>def Setup():<br>def Predict():<br>  v1 = v2 + v1<br>  s2 = -0.0556516<br>  s1 = dot(v0, v1)<br>  s1 = s1 - s2<br>  s3 = s2 * s3<br>  s1 = s1 - s2<br>  s1 = s1 - s2<br>  s1 = s1 - s2<br>  s1 = s2 * s1<br>  v2 = s3 * v2<br>  v1 = v1 + v2<br>  s2 = -0.305152<br>  s3 = s2 * s1<br>  v2 = v2 + v2<br>def Learn():<br>  s2 = s1 - s0<br>  s3 = s3 - s2<br>  v2 = s2 * v0<br>",
           "Train"
          ],
          [
           "<br>def Setup():<br>def Predict():<br>def Learn():<br>",
           "Train"
          ],
          [
           "<br>def Setup():<br>def Predict():<br>  s1 = dot(v1, v0)<br>  s2 = -0.0559201<br>  s1 = s2 * s1<br>def Learn():<br>  s1 = s1 - s0<br>  v2 = s1 * v0<br>  v1 = v1 + v2<br>",
           "Train"
          ],
          [
           "<br>def Setup():<br>def Predict():<br>  s2 = -0.111614<br>  s1 = dot(v0, v1)<br>  s1 = s2 * s1<br>  s2 = s2 * s1<br>  s2 = s1 * s2<br>  s1 = s1 - s2<br>def Learn():<br>  s1 = s2 - s0<br>  v1 = s1 * v0<br>",
           "Train"
          ],
          [
           "<br>def Setup():<br>def Predict():<br>  s1 = dot(v0, v1)<br>  s1 = s2 * s1<br>  s2 = -0.092042<br>def Learn():<br>  s1 = s2 - s0<br>  v1 = s1 * v0<br>",
           "Train"
          ],
          [
           "<br>def Setup():<br>  s3 = -1.21825<br>def Predict():<br>  s1 = dot(v1, v0)<br>  s1 = s1 - s2<br>  s2 = -0.0559201<br>  s2 = s2 - s3<br>  s3 = s3 - s0<br>  s1 = s2 * s1<br>  s3 = s0 * s1<br>def Learn():<br>  s1 = s1 - s0<br>  v2 = s1 * v0<br>  v1 = v1 + v2<br>",
           "Train"
          ],
          [
           "<br>def Setup():<br>def Predict():<br>  s1 = s3 * s2<br>  s3 = 0.121786<br>def Learn():<br>  s2 = s1 - s3<br>  s2 = s2 - s0<br>  s3 = 0.607996<br>",
           "Train"
          ],
          [
           "<br>def Setup():<br>def Predict():<br>  v1 = v2 + v1<br>  s2 = -0.0556516<br>  s1 = dot(v0, v1)<br>  s3 = s2 * s3<br>  s1 = s2 * s1<br>  v2 = s3 * v2<br>  v1 = v1 + v2<br>def Learn():<br>  s2 = s1 - s0<br>  s3 = s3 - s2<br>  v2 = s2 * v0<br>",
           "Train"
          ],
          [
           "<br>def Setup():<br>def Predict():<br>  v1 = v2 + v1<br>  s2 = -0.0556516<br>  s1 = dot(v0, v1)<br>  s1 = s1 - s2<br>  s3 = s2 * s3<br>  s1 = s1 - s2<br>  s1 = s2 * s1<br>  v2 = s3 * v2<br>  v1 = v1 + v2<br>  s2 = -0.305152<br>  s3 = s2 * s1<br>def Learn():<br>  s2 = s1 - s0<br>  s3 = s3 - s2<br>  v2 = s2 * v0<br>",
           "Train"
          ],
          [
           "<br>def Setup():<br>def Predict():<br>  v1 = v2 + v1<br>  s2 = -0.0556516<br>  s1 = dot(v0, v1)<br>  s1 = s1 - s2<br>  s3 = s2 * s3<br>  s1 = s1 - s2<br>  s1 = s1 - s2<br>  s1 = s1 - s2<br>  s1 = s2 * s1<br>  v2 = s3 * v2<br>  v1 = v1 + v2<br>  s2 = -0.305152<br>  s3 = s2 * s1<br>def Learn():<br>  s2 = s1 - s0<br>  s3 = s3 - s2<br>  v2 = s2 * v0<br>",
           "Train"
          ]
         ],
         "hovertemplate": "Type=%{customdata[1]}<br>Complexity=%{x}<br>Error=%{y}<br>Algorithm=%{customdata[0]}<extra></extra>",
         "legendgroup": "Train",
         "marker": {
          "color": "#636efa",
          "size": 10,
          "symbol": "circle"
         },
         "mode": "markers",
         "name": "Train",
         "orientation": "v",
         "showlegend": true,
         "textposition": "top center",
         "type": "scatter",
         "x": [
          0,
          39,
          39,
          0,
          19,
          18,
          15,
          24,
          5,
          29,
          33,
          35
         ],
         "xaxis": "x",
         "y": [
          0.839158,
          0.0992912,
          0.0992912,
          0.839158,
          0.11028299999999999,
          0.835307,
          0.8358620000000001,
          0.110116,
          0.8384309999999999,
          0.102601,
          0.09979600000000001,
          0.0993453
         ],
         "yaxis": "y"
        },
        {
         "customdata": [
          [
           "<br>def Setup():<br>def Predict():<br>def Learn():<br>",
           "Test"
          ],
          [
           "<br>def Setup():<br>def Predict():<br>  v1 = v2 + v1<br>  s2 = -0.0556516<br>  s1 = dot(v0, v1)<br>  s1 = s1 - s2<br>  s3 = s2 * s3<br>  s1 = s1 - s2<br>  s1 = s1 - s2<br>  s1 = s1 - s2<br>  s1 = s2 * s1<br>  v2 = s3 * v2<br>  v1 = v1 + v2<br>  s2 = -0.305152<br>  s3 = s2 * s1<br>  v2 = v2 + v2<br>def Learn():<br>  s2 = s1 - s0<br>  s3 = s3 - s2<br>  v2 = s2 * v0<br>",
           "Test"
          ],
          [
           "<br>def Setup():<br>def Predict():<br>  v1 = v2 + v1<br>  s2 = -0.0556516<br>  s1 = dot(v0, v1)<br>  s1 = s1 - s2<br>  s3 = s2 * s3<br>  s1 = s1 - s2<br>  s1 = s1 - s2<br>  s1 = s1 - s2<br>  s1 = s2 * s1<br>  v2 = s3 * v2<br>  v1 = v1 + v2<br>  s2 = -0.305152<br>  s3 = s2 * s1<br>  v2 = v2 + v2<br>def Learn():<br>  s2 = s1 - s0<br>  s3 = s3 - s2<br>  v2 = s2 * v0<br>",
           "Test"
          ],
          [
           "<br>def Setup():<br>def Predict():<br>def Learn():<br>",
           "Test"
          ],
          [
           "<br>def Setup():<br>def Predict():<br>  s1 = dot(v1, v0)<br>  s2 = -0.0559201<br>  s1 = s2 * s1<br>def Learn():<br>  s1 = s1 - s0<br>  v2 = s1 * v0<br>  v1 = v1 + v2<br>",
           "Test"
          ],
          [
           "<br>def Setup():<br>def Predict():<br>  s2 = -0.111614<br>  s1 = dot(v0, v1)<br>  s1 = s2 * s1<br>  s2 = s2 * s1<br>  s2 = s1 * s2<br>  s1 = s1 - s2<br>def Learn():<br>  s1 = s2 - s0<br>  v1 = s1 * v0<br>",
           "Test"
          ],
          [
           "<br>def Setup():<br>def Predict():<br>  s1 = dot(v0, v1)<br>  s1 = s2 * s1<br>  s2 = -0.092042<br>def Learn():<br>  s1 = s2 - s0<br>  v1 = s1 * v0<br>",
           "Test"
          ],
          [
           "<br>def Setup():<br>  s3 = -1.21825<br>def Predict():<br>  s1 = dot(v1, v0)<br>  s1 = s1 - s2<br>  s2 = -0.0559201<br>  s2 = s2 - s3<br>  s3 = s3 - s0<br>  s1 = s2 * s1<br>  s3 = s0 * s1<br>def Learn():<br>  s1 = s1 - s0<br>  v2 = s1 * v0<br>  v1 = v1 + v2<br>",
           "Test"
          ],
          [
           "<br>def Setup():<br>def Predict():<br>  s1 = s3 * s2<br>  s3 = 0.121786<br>def Learn():<br>  s2 = s1 - s3<br>  s2 = s2 - s0<br>  s3 = 0.607996<br>",
           "Test"
          ],
          [
           "<br>def Setup():<br>def Predict():<br>  v1 = v2 + v1<br>  s2 = -0.0556516<br>  s1 = dot(v0, v1)<br>  s3 = s2 * s3<br>  s1 = s2 * s1<br>  v2 = s3 * v2<br>  v1 = v1 + v2<br>def Learn():<br>  s2 = s1 - s0<br>  s3 = s3 - s2<br>  v2 = s2 * v0<br>",
           "Test"
          ],
          [
           "<br>def Setup():<br>def Predict():<br>  v1 = v2 + v1<br>  s2 = -0.0556516<br>  s1 = dot(v0, v1)<br>  s1 = s1 - s2<br>  s3 = s2 * s3<br>  s1 = s1 - s2<br>  s1 = s2 * s1<br>  v2 = s3 * v2<br>  v1 = v1 + v2<br>  s2 = -0.305152<br>  s3 = s2 * s1<br>def Learn():<br>  s2 = s1 - s0<br>  s3 = s3 - s2<br>  v2 = s2 * v0<br>",
           "Test"
          ],
          [
           "<br>def Setup():<br>def Predict():<br>  v1 = v2 + v1<br>  s2 = -0.0556516<br>  s1 = dot(v0, v1)<br>  s1 = s1 - s2<br>  s3 = s2 * s3<br>  s1 = s1 - s2<br>  s1 = s1 - s2<br>  s1 = s1 - s2<br>  s1 = s2 * s1<br>  v2 = s3 * v2<br>  v1 = v1 + v2<br>  s2 = -0.305152<br>  s3 = s2 * s1<br>def Learn():<br>  s2 = s1 - s0<br>  s3 = s3 - s2<br>  v2 = s2 * v0<br>",
           "Test"
          ]
         ],
         "hovertemplate": "Type=%{customdata[1]}<br>Complexity=%{x}<br>Error=%{y}<br>Algorithm=%{customdata[0]}<extra></extra>",
         "legendgroup": "Test",
         "marker": {
          "color": "#EF553B",
          "size": 10,
          "symbol": "circle"
         },
         "mode": "markers",
         "name": "Test",
         "orientation": "v",
         "showlegend": true,
         "textposition": "top center",
         "type": "scatter",
         "x": [
          0,
          39,
          39,
          0,
          19,
          18,
          15,
          24,
          5,
          29,
          33,
          35
         ],
         "xaxis": "x",
         "y": [
          0.838917,
          0.146787,
          0.146787,
          0.838917,
          0.12928699999999999,
          0.854611,
          0.837087,
          0.129407,
          0.8403430000000001,
          0.13736700000000002,
          0.146371,
          0.146792
         ],
         "yaxis": "y"
        }
       ],
       "layout": {
        "height": 800,
        "legend": {
         "title": {
          "text": "Type"
         },
         "tracegroupgap": 0
        },
        "margin": {
         "t": 60
        },
        "template": {
         "data": {
          "bar": [
           {
            "error_x": {
             "color": "#2a3f5f"
            },
            "error_y": {
             "color": "#2a3f5f"
            },
            "marker": {
             "line": {
              "color": "#E5ECF6",
              "width": 0.5
             },
             "pattern": {
              "fillmode": "overlay",
              "size": 10,
              "solidity": 0.2
             }
            },
            "type": "bar"
           }
          ],
          "barpolar": [
           {
            "marker": {
             "line": {
              "color": "#E5ECF6",
              "width": 0.5
             },
             "pattern": {
              "fillmode": "overlay",
              "size": 10,
              "solidity": 0.2
             }
            },
            "type": "barpolar"
           }
          ],
          "carpet": [
           {
            "aaxis": {
             "endlinecolor": "#2a3f5f",
             "gridcolor": "white",
             "linecolor": "white",
             "minorgridcolor": "white",
             "startlinecolor": "#2a3f5f"
            },
            "baxis": {
             "endlinecolor": "#2a3f5f",
             "gridcolor": "white",
             "linecolor": "white",
             "minorgridcolor": "white",
             "startlinecolor": "#2a3f5f"
            },
            "type": "carpet"
           }
          ],
          "choropleth": [
           {
            "colorbar": {
             "outlinewidth": 0,
             "ticks": ""
            },
            "type": "choropleth"
           }
          ],
          "contour": [
           {
            "colorbar": {
             "outlinewidth": 0,
             "ticks": ""
            },
            "colorscale": [
             [
              0,
              "#0d0887"
             ],
             [
              0.1111111111111111,
              "#46039f"
             ],
             [
              0.2222222222222222,
              "#7201a8"
             ],
             [
              0.3333333333333333,
              "#9c179e"
             ],
             [
              0.4444444444444444,
              "#bd3786"
             ],
             [
              0.5555555555555556,
              "#d8576b"
             ],
             [
              0.6666666666666666,
              "#ed7953"
             ],
             [
              0.7777777777777778,
              "#fb9f3a"
             ],
             [
              0.8888888888888888,
              "#fdca26"
             ],
             [
              1,
              "#f0f921"
             ]
            ],
            "type": "contour"
           }
          ],
          "contourcarpet": [
           {
            "colorbar": {
             "outlinewidth": 0,
             "ticks": ""
            },
            "type": "contourcarpet"
           }
          ],
          "heatmap": [
           {
            "colorbar": {
             "outlinewidth": 0,
             "ticks": ""
            },
            "colorscale": [
             [
              0,
              "#0d0887"
             ],
             [
              0.1111111111111111,
              "#46039f"
             ],
             [
              0.2222222222222222,
              "#7201a8"
             ],
             [
              0.3333333333333333,
              "#9c179e"
             ],
             [
              0.4444444444444444,
              "#bd3786"
             ],
             [
              0.5555555555555556,
              "#d8576b"
             ],
             [
              0.6666666666666666,
              "#ed7953"
             ],
             [
              0.7777777777777778,
              "#fb9f3a"
             ],
             [
              0.8888888888888888,
              "#fdca26"
             ],
             [
              1,
              "#f0f921"
             ]
            ],
            "type": "heatmap"
           }
          ],
          "heatmapgl": [
           {
            "colorbar": {
             "outlinewidth": 0,
             "ticks": ""
            },
            "colorscale": [
             [
              0,
              "#0d0887"
             ],
             [
              0.1111111111111111,
              "#46039f"
             ],
             [
              0.2222222222222222,
              "#7201a8"
             ],
             [
              0.3333333333333333,
              "#9c179e"
             ],
             [
              0.4444444444444444,
              "#bd3786"
             ],
             [
              0.5555555555555556,
              "#d8576b"
             ],
             [
              0.6666666666666666,
              "#ed7953"
             ],
             [
              0.7777777777777778,
              "#fb9f3a"
             ],
             [
              0.8888888888888888,
              "#fdca26"
             ],
             [
              1,
              "#f0f921"
             ]
            ],
            "type": "heatmapgl"
           }
          ],
          "histogram": [
           {
            "marker": {
             "pattern": {
              "fillmode": "overlay",
              "size": 10,
              "solidity": 0.2
             }
            },
            "type": "histogram"
           }
          ],
          "histogram2d": [
           {
            "colorbar": {
             "outlinewidth": 0,
             "ticks": ""
            },
            "colorscale": [
             [
              0,
              "#0d0887"
             ],
             [
              0.1111111111111111,
              "#46039f"
             ],
             [
              0.2222222222222222,
              "#7201a8"
             ],
             [
              0.3333333333333333,
              "#9c179e"
             ],
             [
              0.4444444444444444,
              "#bd3786"
             ],
             [
              0.5555555555555556,
              "#d8576b"
             ],
             [
              0.6666666666666666,
              "#ed7953"
             ],
             [
              0.7777777777777778,
              "#fb9f3a"
             ],
             [
              0.8888888888888888,
              "#fdca26"
             ],
             [
              1,
              "#f0f921"
             ]
            ],
            "type": "histogram2d"
           }
          ],
          "histogram2dcontour": [
           {
            "colorbar": {
             "outlinewidth": 0,
             "ticks": ""
            },
            "colorscale": [
             [
              0,
              "#0d0887"
             ],
             [
              0.1111111111111111,
              "#46039f"
             ],
             [
              0.2222222222222222,
              "#7201a8"
             ],
             [
              0.3333333333333333,
              "#9c179e"
             ],
             [
              0.4444444444444444,
              "#bd3786"
             ],
             [
              0.5555555555555556,
              "#d8576b"
             ],
             [
              0.6666666666666666,
              "#ed7953"
             ],
             [
              0.7777777777777778,
              "#fb9f3a"
             ],
             [
              0.8888888888888888,
              "#fdca26"
             ],
             [
              1,
              "#f0f921"
             ]
            ],
            "type": "histogram2dcontour"
           }
          ],
          "mesh3d": [
           {
            "colorbar": {
             "outlinewidth": 0,
             "ticks": ""
            },
            "type": "mesh3d"
           }
          ],
          "parcoords": [
           {
            "line": {
             "colorbar": {
              "outlinewidth": 0,
              "ticks": ""
             }
            },
            "type": "parcoords"
           }
          ],
          "pie": [
           {
            "automargin": true,
            "type": "pie"
           }
          ],
          "scatter": [
           {
            "marker": {
             "colorbar": {
              "outlinewidth": 0,
              "ticks": ""
             }
            },
            "type": "scatter"
           }
          ],
          "scatter3d": [
           {
            "line": {
             "colorbar": {
              "outlinewidth": 0,
              "ticks": ""
             }
            },
            "marker": {
             "colorbar": {
              "outlinewidth": 0,
              "ticks": ""
             }
            },
            "type": "scatter3d"
           }
          ],
          "scattercarpet": [
           {
            "marker": {
             "colorbar": {
              "outlinewidth": 0,
              "ticks": ""
             }
            },
            "type": "scattercarpet"
           }
          ],
          "scattergeo": [
           {
            "marker": {
             "colorbar": {
              "outlinewidth": 0,
              "ticks": ""
             }
            },
            "type": "scattergeo"
           }
          ],
          "scattergl": [
           {
            "marker": {
             "colorbar": {
              "outlinewidth": 0,
              "ticks": ""
             }
            },
            "type": "scattergl"
           }
          ],
          "scattermapbox": [
           {
            "marker": {
             "colorbar": {
              "outlinewidth": 0,
              "ticks": ""
             }
            },
            "type": "scattermapbox"
           }
          ],
          "scatterpolar": [
           {
            "marker": {
             "colorbar": {
              "outlinewidth": 0,
              "ticks": ""
             }
            },
            "type": "scatterpolar"
           }
          ],
          "scatterpolargl": [
           {
            "marker": {
             "colorbar": {
              "outlinewidth": 0,
              "ticks": ""
             }
            },
            "type": "scatterpolargl"
           }
          ],
          "scatterternary": [
           {
            "marker": {
             "colorbar": {
              "outlinewidth": 0,
              "ticks": ""
             }
            },
            "type": "scatterternary"
           }
          ],
          "surface": [
           {
            "colorbar": {
             "outlinewidth": 0,
             "ticks": ""
            },
            "colorscale": [
             [
              0,
              "#0d0887"
             ],
             [
              0.1111111111111111,
              "#46039f"
             ],
             [
              0.2222222222222222,
              "#7201a8"
             ],
             [
              0.3333333333333333,
              "#9c179e"
             ],
             [
              0.4444444444444444,
              "#bd3786"
             ],
             [
              0.5555555555555556,
              "#d8576b"
             ],
             [
              0.6666666666666666,
              "#ed7953"
             ],
             [
              0.7777777777777778,
              "#fb9f3a"
             ],
             [
              0.8888888888888888,
              "#fdca26"
             ],
             [
              1,
              "#f0f921"
             ]
            ],
            "type": "surface"
           }
          ],
          "table": [
           {
            "cells": {
             "fill": {
              "color": "#EBF0F8"
             },
             "line": {
              "color": "white"
             }
            },
            "header": {
             "fill": {
              "color": "#C8D4E3"
             },
             "line": {
              "color": "white"
             }
            },
            "type": "table"
           }
          ]
         },
         "layout": {
          "annotationdefaults": {
           "arrowcolor": "#2a3f5f",
           "arrowhead": 0,
           "arrowwidth": 1
          },
          "autotypenumbers": "strict",
          "coloraxis": {
           "colorbar": {
            "outlinewidth": 0,
            "ticks": ""
           }
          },
          "colorscale": {
           "diverging": [
            [
             0,
             "#8e0152"
            ],
            [
             0.1,
             "#c51b7d"
            ],
            [
             0.2,
             "#de77ae"
            ],
            [
             0.3,
             "#f1b6da"
            ],
            [
             0.4,
             "#fde0ef"
            ],
            [
             0.5,
             "#f7f7f7"
            ],
            [
             0.6,
             "#e6f5d0"
            ],
            [
             0.7,
             "#b8e186"
            ],
            [
             0.8,
             "#7fbc41"
            ],
            [
             0.9,
             "#4d9221"
            ],
            [
             1,
             "#276419"
            ]
           ],
           "sequential": [
            [
             0,
             "#0d0887"
            ],
            [
             0.1111111111111111,
             "#46039f"
            ],
            [
             0.2222222222222222,
             "#7201a8"
            ],
            [
             0.3333333333333333,
             "#9c179e"
            ],
            [
             0.4444444444444444,
             "#bd3786"
            ],
            [
             0.5555555555555556,
             "#d8576b"
            ],
            [
             0.6666666666666666,
             "#ed7953"
            ],
            [
             0.7777777777777778,
             "#fb9f3a"
            ],
            [
             0.8888888888888888,
             "#fdca26"
            ],
            [
             1,
             "#f0f921"
            ]
           ],
           "sequentialminus": [
            [
             0,
             "#0d0887"
            ],
            [
             0.1111111111111111,
             "#46039f"
            ],
            [
             0.2222222222222222,
             "#7201a8"
            ],
            [
             0.3333333333333333,
             "#9c179e"
            ],
            [
             0.4444444444444444,
             "#bd3786"
            ],
            [
             0.5555555555555556,
             "#d8576b"
            ],
            [
             0.6666666666666666,
             "#ed7953"
            ],
            [
             0.7777777777777778,
             "#fb9f3a"
            ],
            [
             0.8888888888888888,
             "#fdca26"
            ],
            [
             1,
             "#f0f921"
            ]
           ]
          },
          "colorway": [
           "#636efa",
           "#EF553B",
           "#00cc96",
           "#ab63fa",
           "#FFA15A",
           "#19d3f3",
           "#FF6692",
           "#B6E880",
           "#FF97FF",
           "#FECB52"
          ],
          "font": {
           "color": "#2a3f5f"
          },
          "geo": {
           "bgcolor": "white",
           "lakecolor": "white",
           "landcolor": "#E5ECF6",
           "showlakes": true,
           "showland": true,
           "subunitcolor": "white"
          },
          "hoverlabel": {
           "align": "left"
          },
          "hovermode": "closest",
          "mapbox": {
           "style": "light"
          },
          "paper_bgcolor": "white",
          "plot_bgcolor": "#E5ECF6",
          "polar": {
           "angularaxis": {
            "gridcolor": "white",
            "linecolor": "white",
            "ticks": ""
           },
           "bgcolor": "#E5ECF6",
           "radialaxis": {
            "gridcolor": "white",
            "linecolor": "white",
            "ticks": ""
           }
          },
          "scene": {
           "xaxis": {
            "backgroundcolor": "#E5ECF6",
            "gridcolor": "white",
            "gridwidth": 2,
            "linecolor": "white",
            "showbackground": true,
            "ticks": "",
            "zerolinecolor": "white"
           },
           "yaxis": {
            "backgroundcolor": "#E5ECF6",
            "gridcolor": "white",
            "gridwidth": 2,
            "linecolor": "white",
            "showbackground": true,
            "ticks": "",
            "zerolinecolor": "white"
           },
           "zaxis": {
            "backgroundcolor": "#E5ECF6",
            "gridcolor": "white",
            "gridwidth": 2,
            "linecolor": "white",
            "showbackground": true,
            "ticks": "",
            "zerolinecolor": "white"
           }
          },
          "shapedefaults": {
           "line": {
            "color": "#2a3f5f"
           }
          },
          "ternary": {
           "aaxis": {
            "gridcolor": "white",
            "linecolor": "white",
            "ticks": ""
           },
           "baxis": {
            "gridcolor": "white",
            "linecolor": "white",
            "ticks": ""
           },
           "bgcolor": "#E5ECF6",
           "caxis": {
            "gridcolor": "white",
            "linecolor": "white",
            "ticks": ""
           }
          },
          "title": {
           "x": 0.05
          },
          "xaxis": {
           "automargin": true,
           "gridcolor": "white",
           "linecolor": "white",
           "ticks": "",
           "title": {
            "standoff": 15
           },
           "zerolinecolor": "white",
           "zerolinewidth": 2
          },
          "yaxis": {
           "automargin": true,
           "gridcolor": "white",
           "linecolor": "white",
           "ticks": "",
           "title": {
            "standoff": 15
           },
           "zerolinecolor": "white",
           "zerolinewidth": 2
          }
         }
        },
        "title": {
         "text": "Final Pareto Front with Intron Removal, Feature Size: 16"
        },
        "xaxis": {
         "anchor": "y",
         "domain": [
          0,
          1
         ],
         "title": {
          "text": "Complexity"
         },
         "type": "log"
        },
        "yaxis": {
         "anchor": "x",
         "domain": [
          0,
          1
         ],
         "title": {
          "text": "Error"
         }
        }
       }
      }
     },
     "metadata": {},
     "output_type": "display_data"
    },
    {
     "data": {
      "image/png": "[encoded data removed]",
      "text/plain": [
       "<Figure size 1080x576 with 1 Axes>"
      ]
     },
     "metadata": {
      "needs_background": "light"
     },
     "output_type": "display_data"
    }
   ],
   "source": [
    "base_folder = \"Intron_Removal/Output_Files/Scaling/\"\n",
    "feature_sizes = [2, 4, 8, 16]\n",
    "time_requirement = []\n",
    "\n",
    "\n",
    "for feature_size in feature_sizes:\n",
    "    folder_name = base_folder + \"Feature_Size_\" + str(feature_size) + \"/\" \n",
    "\n",
    "    pf_train = pd.read_csv(folder_name + \"final_pf_train.txt\", sep=\",\", names=[\"Error\", \"Complexity\"])\n",
    "    pf_test = pd.read_csv(folder_name + \"final_pf_test.txt\", sep=\",\", names=[\"Error\", \"Complexity\"])\n",
    "    algo_list = read_algos(folder_name + \"final_pf_algos.txt\")\n",
    "\n",
    "    time_requirement.append(read_time(folder_name + \"final_programs_descriptions.txt\"))\n",
    "\n",
    "    pf_train[\"Algorithm\"] = algo_list\n",
    "    pf_test[\"Algorithm\"] = algo_list\n",
    "    pf_train[\"Type\"] = \"Train\"\n",
    "    pf_test[\"Type\"] = \"Test\"\n",
    "\n",
    "    x_title = \"Complexity\"\n",
    "    y_title = \"Error\"\n",
    "\n",
    "    pf = pd.concat([pf_train, pf_test])\n",
    "\n",
    "    # plot and save the html files\n",
    "    fig = plot(pf, x_title, y_title, color=\"Type\", title=\"Final Pareto Front with Intron Removal, Feature Size: \" + str(feature_size))\n",
    "\n",
    "    fig.write_html(base_folder + \"Images/pf_plot_feature_size_\" + str(feature_size) + \".html\")\n",
    "\n",
    "fig, ax = plt.subplots(1, 1, figsize=(15, 8))\n",
    "xticks = np.arange(len(time_requirement))\n",
    "ax.plot(xticks, time_requirement, c=\"r\")\n",
    "ax.set_xticks(xticks)\n",
    "ax.set_xticklabels(feature_sizes)\n",
    "ax.set_xlabel(\"Feature Sizes\")\n",
    "ax.set_ylabel(\"Time Requirement (in s)\")\n",
    "ax.set_title(\"Time comparison for Different Feature Sizes\")\n",
    "plt.savefig(base_folder + \"Images/Time Comparison.jpg\")\n"
   ]
  },
  {
   "cell_type": "code",
   "execution_count": 34,
   "metadata": {},
   "outputs": [
    {
     "ename": "FileNotFoundError",
     "evalue": "[Errno 2] No such file or directory: 'Multi-Objective/linear_regression/scalar_linear_regression/skip_introns/Seed_1/population_size_12/HV_exp_mut.txt'",
     "output_type": "error",
     "traceback": [
      "\u001b[0;31m---------------------------------------------------------------------------\u001b[0m",
      "\u001b[0;31mFileNotFoundError\u001b[0m                         Traceback (most recent call last)",
      "\u001b[0;32m<ipython-input-34-6c48788a222e>\u001b[0m in \u001b[0;36m<module>\u001b[0;34m\u001b[0m\n\u001b[1;32m      6\u001b[0m \u001b[0mcross_mut_hv_file\u001b[0m \u001b[0;34m=\u001b[0m \u001b[0;34mf\"{folder}/HV_exp_cross_mut.txt\"\u001b[0m\u001b[0;34m\u001b[0m\u001b[0;34m\u001b[0m\u001b[0m\n\u001b[1;32m      7\u001b[0m \u001b[0;34m\u001b[0m\u001b[0m\n\u001b[0;32m----> 8\u001b[0;31m \u001b[0mdf_mut_hv\u001b[0m \u001b[0;34m=\u001b[0m \u001b[0mpd\u001b[0m\u001b[0;34m.\u001b[0m\u001b[0mread_csv\u001b[0m\u001b[0;34m(\u001b[0m\u001b[0mmut_hv_file\u001b[0m\u001b[0;34m,\u001b[0m \u001b[0msep\u001b[0m\u001b[0;34m=\u001b[0m\u001b[0;34m\",\"\u001b[0m\u001b[0;34m)\u001b[0m\u001b[0;34m\u001b[0m\u001b[0;34m\u001b[0m\u001b[0m\n\u001b[0m\u001b[1;32m      9\u001b[0m \u001b[0mdf_cross_mut_hv\u001b[0m \u001b[0;34m=\u001b[0m \u001b[0mpd\u001b[0m\u001b[0;34m.\u001b[0m\u001b[0mread_csv\u001b[0m\u001b[0;34m(\u001b[0m\u001b[0mcross_mut_hv_file\u001b[0m\u001b[0;34m,\u001b[0m \u001b[0msep\u001b[0m\u001b[0;34m=\u001b[0m\u001b[0;34m\",\"\u001b[0m\u001b[0;34m)\u001b[0m\u001b[0;34m\u001b[0m\u001b[0;34m\u001b[0m\u001b[0m\n\u001b[1;32m     10\u001b[0m \u001b[0;34m\u001b[0m\u001b[0m\n",
      "\u001b[0;32m~/miniconda3/lib/python3.8/site-packages/pandas/io/parsers.py\u001b[0m in \u001b[0;36mread_csv\u001b[0;34m(filepath_or_buffer, sep, delimiter, header, names, index_col, usecols, squeeze, prefix, mangle_dupe_cols, dtype, engine, converters, true_values, false_values, skipinitialspace, skiprows, skipfooter, nrows, na_values, keep_default_na, na_filter, verbose, skip_blank_lines, parse_dates, infer_datetime_format, keep_date_col, date_parser, dayfirst, cache_dates, iterator, chunksize, compression, thousands, decimal, lineterminator, quotechar, quoting, doublequote, escapechar, comment, encoding, dialect, error_bad_lines, warn_bad_lines, delim_whitespace, low_memory, memory_map, float_precision)\u001b[0m\n\u001b[1;32m    684\u001b[0m     )\n\u001b[1;32m    685\u001b[0m \u001b[0;34m\u001b[0m\u001b[0m\n\u001b[0;32m--> 686\u001b[0;31m     \u001b[0;32mreturn\u001b[0m \u001b[0m_read\u001b[0m\u001b[0;34m(\u001b[0m\u001b[0mfilepath_or_buffer\u001b[0m\u001b[0;34m,\u001b[0m \u001b[0mkwds\u001b[0m\u001b[0;34m)\u001b[0m\u001b[0;34m\u001b[0m\u001b[0;34m\u001b[0m\u001b[0m\n\u001b[0m\u001b[1;32m    687\u001b[0m \u001b[0;34m\u001b[0m\u001b[0m\n\u001b[1;32m    688\u001b[0m \u001b[0;34m\u001b[0m\u001b[0m\n",
      "\u001b[0;32m~/miniconda3/lib/python3.8/site-packages/pandas/io/parsers.py\u001b[0m in \u001b[0;36m_read\u001b[0;34m(filepath_or_buffer, kwds)\u001b[0m\n\u001b[1;32m    450\u001b[0m \u001b[0;34m\u001b[0m\u001b[0m\n\u001b[1;32m    451\u001b[0m     \u001b[0;31m# Create the parser.\u001b[0m\u001b[0;34m\u001b[0m\u001b[0;34m\u001b[0m\u001b[0;34m\u001b[0m\u001b[0m\n\u001b[0;32m--> 452\u001b[0;31m     \u001b[0mparser\u001b[0m \u001b[0;34m=\u001b[0m \u001b[0mTextFileReader\u001b[0m\u001b[0;34m(\u001b[0m\u001b[0mfp_or_buf\u001b[0m\u001b[0;34m,\u001b[0m \u001b[0;34m**\u001b[0m\u001b[0mkwds\u001b[0m\u001b[0;34m)\u001b[0m\u001b[0;34m\u001b[0m\u001b[0;34m\u001b[0m\u001b[0m\n\u001b[0m\u001b[1;32m    453\u001b[0m \u001b[0;34m\u001b[0m\u001b[0m\n\u001b[1;32m    454\u001b[0m     \u001b[0;32mif\u001b[0m \u001b[0mchunksize\u001b[0m \u001b[0;32mor\u001b[0m \u001b[0miterator\u001b[0m\u001b[0;34m:\u001b[0m\u001b[0;34m\u001b[0m\u001b[0;34m\u001b[0m\u001b[0m\n",
      "\u001b[0;32m~/miniconda3/lib/python3.8/site-packages/pandas/io/parsers.py\u001b[0m in \u001b[0;36m__init__\u001b[0;34m(self, f, engine, **kwds)\u001b[0m\n\u001b[1;32m    934\u001b[0m             \u001b[0mself\u001b[0m\u001b[0;34m.\u001b[0m\u001b[0moptions\u001b[0m\u001b[0;34m[\u001b[0m\u001b[0;34m\"has_index_names\"\u001b[0m\u001b[0;34m]\u001b[0m \u001b[0;34m=\u001b[0m \u001b[0mkwds\u001b[0m\u001b[0;34m[\u001b[0m\u001b[0;34m\"has_index_names\"\u001b[0m\u001b[0;34m]\u001b[0m\u001b[0;34m\u001b[0m\u001b[0;34m\u001b[0m\u001b[0m\n\u001b[1;32m    935\u001b[0m \u001b[0;34m\u001b[0m\u001b[0m\n\u001b[0;32m--> 936\u001b[0;31m         \u001b[0mself\u001b[0m\u001b[0;34m.\u001b[0m\u001b[0m_make_engine\u001b[0m\u001b[0;34m(\u001b[0m\u001b[0mself\u001b[0m\u001b[0;34m.\u001b[0m\u001b[0mengine\u001b[0m\u001b[0;34m)\u001b[0m\u001b[0;34m\u001b[0m\u001b[0;34m\u001b[0m\u001b[0m\n\u001b[0m\u001b[1;32m    937\u001b[0m \u001b[0;34m\u001b[0m\u001b[0m\n\u001b[1;32m    938\u001b[0m     \u001b[0;32mdef\u001b[0m \u001b[0mclose\u001b[0m\u001b[0;34m(\u001b[0m\u001b[0mself\u001b[0m\u001b[0;34m)\u001b[0m\u001b[0;34m:\u001b[0m\u001b[0;34m\u001b[0m\u001b[0;34m\u001b[0m\u001b[0m\n",
      "\u001b[0;32m~/miniconda3/lib/python3.8/site-packages/pandas/io/parsers.py\u001b[0m in \u001b[0;36m_make_engine\u001b[0;34m(self, engine)\u001b[0m\n\u001b[1;32m   1166\u001b[0m     \u001b[0;32mdef\u001b[0m \u001b[0m_make_engine\u001b[0m\u001b[0;34m(\u001b[0m\u001b[0mself\u001b[0m\u001b[0;34m,\u001b[0m \u001b[0mengine\u001b[0m\u001b[0;34m=\u001b[0m\u001b[0;34m\"c\"\u001b[0m\u001b[0;34m)\u001b[0m\u001b[0;34m:\u001b[0m\u001b[0;34m\u001b[0m\u001b[0;34m\u001b[0m\u001b[0m\n\u001b[1;32m   1167\u001b[0m         \u001b[0;32mif\u001b[0m \u001b[0mengine\u001b[0m \u001b[0;34m==\u001b[0m \u001b[0;34m\"c\"\u001b[0m\u001b[0;34m:\u001b[0m\u001b[0;34m\u001b[0m\u001b[0;34m\u001b[0m\u001b[0m\n\u001b[0;32m-> 1168\u001b[0;31m             \u001b[0mself\u001b[0m\u001b[0;34m.\u001b[0m\u001b[0m_engine\u001b[0m \u001b[0;34m=\u001b[0m \u001b[0mCParserWrapper\u001b[0m\u001b[0;34m(\u001b[0m\u001b[0mself\u001b[0m\u001b[0;34m.\u001b[0m\u001b[0mf\u001b[0m\u001b[0;34m,\u001b[0m \u001b[0;34m**\u001b[0m\u001b[0mself\u001b[0m\u001b[0;34m.\u001b[0m\u001b[0moptions\u001b[0m\u001b[0;34m)\u001b[0m\u001b[0;34m\u001b[0m\u001b[0;34m\u001b[0m\u001b[0m\n\u001b[0m\u001b[1;32m   1169\u001b[0m         \u001b[0;32melse\u001b[0m\u001b[0;34m:\u001b[0m\u001b[0;34m\u001b[0m\u001b[0;34m\u001b[0m\u001b[0m\n\u001b[1;32m   1170\u001b[0m             \u001b[0;32mif\u001b[0m \u001b[0mengine\u001b[0m \u001b[0;34m==\u001b[0m \u001b[0;34m\"python\"\u001b[0m\u001b[0;34m:\u001b[0m\u001b[0;34m\u001b[0m\u001b[0;34m\u001b[0m\u001b[0m\n",
      "\u001b[0;32m~/miniconda3/lib/python3.8/site-packages/pandas/io/parsers.py\u001b[0m in \u001b[0;36m__init__\u001b[0;34m(self, src, **kwds)\u001b[0m\n\u001b[1;32m   1996\u001b[0m         \u001b[0mkwds\u001b[0m\u001b[0;34m[\u001b[0m\u001b[0;34m\"usecols\"\u001b[0m\u001b[0;34m]\u001b[0m \u001b[0;34m=\u001b[0m \u001b[0mself\u001b[0m\u001b[0;34m.\u001b[0m\u001b[0musecols\u001b[0m\u001b[0;34m\u001b[0m\u001b[0;34m\u001b[0m\u001b[0m\n\u001b[1;32m   1997\u001b[0m \u001b[0;34m\u001b[0m\u001b[0m\n\u001b[0;32m-> 1998\u001b[0;31m         \u001b[0mself\u001b[0m\u001b[0;34m.\u001b[0m\u001b[0m_reader\u001b[0m \u001b[0;34m=\u001b[0m \u001b[0mparsers\u001b[0m\u001b[0;34m.\u001b[0m\u001b[0mTextReader\u001b[0m\u001b[0;34m(\u001b[0m\u001b[0msrc\u001b[0m\u001b[0;34m,\u001b[0m \u001b[0;34m**\u001b[0m\u001b[0mkwds\u001b[0m\u001b[0;34m)\u001b[0m\u001b[0;34m\u001b[0m\u001b[0;34m\u001b[0m\u001b[0m\n\u001b[0m\u001b[1;32m   1999\u001b[0m         \u001b[0mself\u001b[0m\u001b[0;34m.\u001b[0m\u001b[0munnamed_cols\u001b[0m \u001b[0;34m=\u001b[0m \u001b[0mself\u001b[0m\u001b[0;34m.\u001b[0m\u001b[0m_reader\u001b[0m\u001b[0;34m.\u001b[0m\u001b[0munnamed_cols\u001b[0m\u001b[0;34m\u001b[0m\u001b[0;34m\u001b[0m\u001b[0m\n\u001b[1;32m   2000\u001b[0m \u001b[0;34m\u001b[0m\u001b[0m\n",
      "\u001b[0;32mpandas/_libs/parsers.pyx\u001b[0m in \u001b[0;36mpandas._libs.parsers.TextReader.__cinit__\u001b[0;34m()\u001b[0m\n",
      "\u001b[0;32mpandas/_libs/parsers.pyx\u001b[0m in \u001b[0;36mpandas._libs.parsers.TextReader._setup_parser_source\u001b[0;34m()\u001b[0m\n",
      "\u001b[0;31mFileNotFoundError\u001b[0m: [Errno 2] No such file or directory: 'Multi-Objective/linear_regression/scalar_linear_regression/skip_introns/Seed_1/population_size_12/HV_exp_mut.txt'"
     ]
    }
   ],
   "source": [
    "import matplotlib.pyplot as plt\n",
    "\n",
    "folder = \"Multi-Objective/linear_regression/scalar_linear_regression/skip_introns/Seed_1/population_size_12\"\n",
    "\n",
    "mut_hv_file = f\"{folder}/HV_exp_mut.txt\"\n",
    "cross_mut_hv_file = f\"{folder}/HV_exp_cross_mut.txt\"\n",
    "\n",
    "df_mut_hv = pd.read_csv(mut_hv_file, sep=\",\")\n",
    "df_cross_mut_hv = pd.read_csv(cross_mut_hv_file, sep=\",\")\n",
    "\n",
    "df_mut_hv_vals = df_mut_hv.values\n",
    "df_cross_mut_hv_vals = df_cross_mut_hv.values\n",
    "\n",
    "plt.plot(df_mut_hv_vals[:, 0], df_mut_hv_vals[:, 1], label=\"Only Mutation\")\n",
    "plt.plot(df_cross_mut_hv_vals[:, 0], df_cross_mut_hv_vals[:, 1], c=\"r\", label=\"Crossover+Mutation\")\n",
    "plt.xlabel(\"Function Evaluations\")\n",
    "plt.ylabel(\"Hypervolume (wrt the point (100, 1))\")\n",
    "plt.title(\"Hypervolume Plots for Different Number of Function Evaluations\")\n",
    "plt.legend(loc=\"lower right\")\n",
    "plt.savefig(f\"{folder}/HV_plot_mut_cross.jpg\")\n",
    "plt.show()"
   ]
  },
  {
   "cell_type": "code",
   "execution_count": 33,
   "metadata": {},
   "outputs": [
    {
     "ename": "FileNotFoundError",
     "evalue": "[Errno 2] No such file or directory: 'Multi-Objective/linear_regression/scalar_linear_regression/skip_introns/Seed_1/population_size_12/survival_exp_mut.txt'",
     "output_type": "error",
     "traceback": [
      "\u001b[0;31m---------------------------------------------------------------------------\u001b[0m",
      "\u001b[0;31mFileNotFoundError\u001b[0m                         Traceback (most recent call last)",
      "\u001b[0;32m<ipython-input-33-07b3deed089d>\u001b[0m in \u001b[0;36m<module>\u001b[0;34m\u001b[0m\n\u001b[1;32m      6\u001b[0m \u001b[0mcross_mut_surv_file\u001b[0m \u001b[0;34m=\u001b[0m \u001b[0;34mf\"{folder}/survival_exp_cross_mut.txt\"\u001b[0m\u001b[0;34m\u001b[0m\u001b[0;34m\u001b[0m\u001b[0m\n\u001b[1;32m      7\u001b[0m \u001b[0;34m\u001b[0m\u001b[0m\n\u001b[0;32m----> 8\u001b[0;31m \u001b[0mdf_mut_surv\u001b[0m \u001b[0;34m=\u001b[0m \u001b[0mpd\u001b[0m\u001b[0;34m.\u001b[0m\u001b[0mread_csv\u001b[0m\u001b[0;34m(\u001b[0m\u001b[0mmut_surv_file\u001b[0m\u001b[0;34m,\u001b[0m \u001b[0msep\u001b[0m\u001b[0;34m=\u001b[0m\u001b[0;34m\",\"\u001b[0m\u001b[0;34m)\u001b[0m\u001b[0;34m\u001b[0m\u001b[0;34m\u001b[0m\u001b[0m\n\u001b[0m\u001b[1;32m      9\u001b[0m \u001b[0mdf_cross_mut_surv\u001b[0m \u001b[0;34m=\u001b[0m \u001b[0mpd\u001b[0m\u001b[0;34m.\u001b[0m\u001b[0mread_csv\u001b[0m\u001b[0;34m(\u001b[0m\u001b[0mcross_mut_surv_file\u001b[0m\u001b[0;34m,\u001b[0m \u001b[0msep\u001b[0m\u001b[0;34m=\u001b[0m\u001b[0;34m\",\"\u001b[0m\u001b[0;34m)\u001b[0m\u001b[0;34m\u001b[0m\u001b[0;34m\u001b[0m\u001b[0m\n\u001b[1;32m     10\u001b[0m \u001b[0;34m\u001b[0m\u001b[0m\n",
      "\u001b[0;32m~/miniconda3/lib/python3.8/site-packages/pandas/io/parsers.py\u001b[0m in \u001b[0;36mread_csv\u001b[0;34m(filepath_or_buffer, sep, delimiter, header, names, index_col, usecols, squeeze, prefix, mangle_dupe_cols, dtype, engine, converters, true_values, false_values, skipinitialspace, skiprows, skipfooter, nrows, na_values, keep_default_na, na_filter, verbose, skip_blank_lines, parse_dates, infer_datetime_format, keep_date_col, date_parser, dayfirst, cache_dates, iterator, chunksize, compression, thousands, decimal, lineterminator, quotechar, quoting, doublequote, escapechar, comment, encoding, dialect, error_bad_lines, warn_bad_lines, delim_whitespace, low_memory, memory_map, float_precision)\u001b[0m\n\u001b[1;32m    684\u001b[0m     )\n\u001b[1;32m    685\u001b[0m \u001b[0;34m\u001b[0m\u001b[0m\n\u001b[0;32m--> 686\u001b[0;31m     \u001b[0;32mreturn\u001b[0m \u001b[0m_read\u001b[0m\u001b[0;34m(\u001b[0m\u001b[0mfilepath_or_buffer\u001b[0m\u001b[0;34m,\u001b[0m \u001b[0mkwds\u001b[0m\u001b[0;34m)\u001b[0m\u001b[0;34m\u001b[0m\u001b[0;34m\u001b[0m\u001b[0m\n\u001b[0m\u001b[1;32m    687\u001b[0m \u001b[0;34m\u001b[0m\u001b[0m\n\u001b[1;32m    688\u001b[0m \u001b[0;34m\u001b[0m\u001b[0m\n",
      "\u001b[0;32m~/miniconda3/lib/python3.8/site-packages/pandas/io/parsers.py\u001b[0m in \u001b[0;36m_read\u001b[0;34m(filepath_or_buffer, kwds)\u001b[0m\n\u001b[1;32m    450\u001b[0m \u001b[0;34m\u001b[0m\u001b[0m\n\u001b[1;32m    451\u001b[0m     \u001b[0;31m# Create the parser.\u001b[0m\u001b[0;34m\u001b[0m\u001b[0;34m\u001b[0m\u001b[0;34m\u001b[0m\u001b[0m\n\u001b[0;32m--> 452\u001b[0;31m     \u001b[0mparser\u001b[0m \u001b[0;34m=\u001b[0m \u001b[0mTextFileReader\u001b[0m\u001b[0;34m(\u001b[0m\u001b[0mfp_or_buf\u001b[0m\u001b[0;34m,\u001b[0m \u001b[0;34m**\u001b[0m\u001b[0mkwds\u001b[0m\u001b[0;34m)\u001b[0m\u001b[0;34m\u001b[0m\u001b[0;34m\u001b[0m\u001b[0m\n\u001b[0m\u001b[1;32m    453\u001b[0m \u001b[0;34m\u001b[0m\u001b[0m\n\u001b[1;32m    454\u001b[0m     \u001b[0;32mif\u001b[0m \u001b[0mchunksize\u001b[0m \u001b[0;32mor\u001b[0m \u001b[0miterator\u001b[0m\u001b[0;34m:\u001b[0m\u001b[0;34m\u001b[0m\u001b[0;34m\u001b[0m\u001b[0m\n",
      "\u001b[0;32m~/miniconda3/lib/python3.8/site-packages/pandas/io/parsers.py\u001b[0m in \u001b[0;36m__init__\u001b[0;34m(self, f, engine, **kwds)\u001b[0m\n\u001b[1;32m    934\u001b[0m             \u001b[0mself\u001b[0m\u001b[0;34m.\u001b[0m\u001b[0moptions\u001b[0m\u001b[0;34m[\u001b[0m\u001b[0;34m\"has_index_names\"\u001b[0m\u001b[0;34m]\u001b[0m \u001b[0;34m=\u001b[0m \u001b[0mkwds\u001b[0m\u001b[0;34m[\u001b[0m\u001b[0;34m\"has_index_names\"\u001b[0m\u001b[0;34m]\u001b[0m\u001b[0;34m\u001b[0m\u001b[0;34m\u001b[0m\u001b[0m\n\u001b[1;32m    935\u001b[0m \u001b[0;34m\u001b[0m\u001b[0m\n\u001b[0;32m--> 936\u001b[0;31m         \u001b[0mself\u001b[0m\u001b[0;34m.\u001b[0m\u001b[0m_make_engine\u001b[0m\u001b[0;34m(\u001b[0m\u001b[0mself\u001b[0m\u001b[0;34m.\u001b[0m\u001b[0mengine\u001b[0m\u001b[0;34m)\u001b[0m\u001b[0;34m\u001b[0m\u001b[0;34m\u001b[0m\u001b[0m\n\u001b[0m\u001b[1;32m    937\u001b[0m \u001b[0;34m\u001b[0m\u001b[0m\n\u001b[1;32m    938\u001b[0m     \u001b[0;32mdef\u001b[0m \u001b[0mclose\u001b[0m\u001b[0;34m(\u001b[0m\u001b[0mself\u001b[0m\u001b[0;34m)\u001b[0m\u001b[0;34m:\u001b[0m\u001b[0;34m\u001b[0m\u001b[0;34m\u001b[0m\u001b[0m\n",
      "\u001b[0;32m~/miniconda3/lib/python3.8/site-packages/pandas/io/parsers.py\u001b[0m in \u001b[0;36m_make_engine\u001b[0;34m(self, engine)\u001b[0m\n\u001b[1;32m   1166\u001b[0m     \u001b[0;32mdef\u001b[0m \u001b[0m_make_engine\u001b[0m\u001b[0;34m(\u001b[0m\u001b[0mself\u001b[0m\u001b[0;34m,\u001b[0m \u001b[0mengine\u001b[0m\u001b[0;34m=\u001b[0m\u001b[0;34m\"c\"\u001b[0m\u001b[0;34m)\u001b[0m\u001b[0;34m:\u001b[0m\u001b[0;34m\u001b[0m\u001b[0;34m\u001b[0m\u001b[0m\n\u001b[1;32m   1167\u001b[0m         \u001b[0;32mif\u001b[0m \u001b[0mengine\u001b[0m \u001b[0;34m==\u001b[0m \u001b[0;34m\"c\"\u001b[0m\u001b[0;34m:\u001b[0m\u001b[0;34m\u001b[0m\u001b[0;34m\u001b[0m\u001b[0m\n\u001b[0;32m-> 1168\u001b[0;31m             \u001b[0mself\u001b[0m\u001b[0;34m.\u001b[0m\u001b[0m_engine\u001b[0m \u001b[0;34m=\u001b[0m \u001b[0mCParserWrapper\u001b[0m\u001b[0;34m(\u001b[0m\u001b[0mself\u001b[0m\u001b[0;34m.\u001b[0m\u001b[0mf\u001b[0m\u001b[0;34m,\u001b[0m \u001b[0;34m**\u001b[0m\u001b[0mself\u001b[0m\u001b[0;34m.\u001b[0m\u001b[0moptions\u001b[0m\u001b[0;34m)\u001b[0m\u001b[0;34m\u001b[0m\u001b[0;34m\u001b[0m\u001b[0m\n\u001b[0m\u001b[1;32m   1169\u001b[0m         \u001b[0;32melse\u001b[0m\u001b[0;34m:\u001b[0m\u001b[0;34m\u001b[0m\u001b[0;34m\u001b[0m\u001b[0m\n\u001b[1;32m   1170\u001b[0m             \u001b[0;32mif\u001b[0m \u001b[0mengine\u001b[0m \u001b[0;34m==\u001b[0m \u001b[0;34m\"python\"\u001b[0m\u001b[0;34m:\u001b[0m\u001b[0;34m\u001b[0m\u001b[0;34m\u001b[0m\u001b[0m\n",
      "\u001b[0;32m~/miniconda3/lib/python3.8/site-packages/pandas/io/parsers.py\u001b[0m in \u001b[0;36m__init__\u001b[0;34m(self, src, **kwds)\u001b[0m\n\u001b[1;32m   1996\u001b[0m         \u001b[0mkwds\u001b[0m\u001b[0;34m[\u001b[0m\u001b[0;34m\"usecols\"\u001b[0m\u001b[0;34m]\u001b[0m \u001b[0;34m=\u001b[0m \u001b[0mself\u001b[0m\u001b[0;34m.\u001b[0m\u001b[0musecols\u001b[0m\u001b[0;34m\u001b[0m\u001b[0;34m\u001b[0m\u001b[0m\n\u001b[1;32m   1997\u001b[0m \u001b[0;34m\u001b[0m\u001b[0m\n\u001b[0;32m-> 1998\u001b[0;31m         \u001b[0mself\u001b[0m\u001b[0;34m.\u001b[0m\u001b[0m_reader\u001b[0m \u001b[0;34m=\u001b[0m \u001b[0mparsers\u001b[0m\u001b[0;34m.\u001b[0m\u001b[0mTextReader\u001b[0m\u001b[0;34m(\u001b[0m\u001b[0msrc\u001b[0m\u001b[0;34m,\u001b[0m \u001b[0;34m**\u001b[0m\u001b[0mkwds\u001b[0m\u001b[0;34m)\u001b[0m\u001b[0;34m\u001b[0m\u001b[0;34m\u001b[0m\u001b[0m\n\u001b[0m\u001b[1;32m   1999\u001b[0m         \u001b[0mself\u001b[0m\u001b[0;34m.\u001b[0m\u001b[0munnamed_cols\u001b[0m \u001b[0;34m=\u001b[0m \u001b[0mself\u001b[0m\u001b[0;34m.\u001b[0m\u001b[0m_reader\u001b[0m\u001b[0;34m.\u001b[0m\u001b[0munnamed_cols\u001b[0m\u001b[0;34m\u001b[0m\u001b[0;34m\u001b[0m\u001b[0m\n\u001b[1;32m   2000\u001b[0m \u001b[0;34m\u001b[0m\u001b[0m\n",
      "\u001b[0;32mpandas/_libs/parsers.pyx\u001b[0m in \u001b[0;36mpandas._libs.parsers.TextReader.__cinit__\u001b[0;34m()\u001b[0m\n",
      "\u001b[0;32mpandas/_libs/parsers.pyx\u001b[0m in \u001b[0;36mpandas._libs.parsers.TextReader._setup_parser_source\u001b[0;34m()\u001b[0m\n",
      "\u001b[0;31mFileNotFoundError\u001b[0m: [Errno 2] No such file or directory: 'Multi-Objective/linear_regression/scalar_linear_regression/skip_introns/Seed_1/population_size_12/survival_exp_mut.txt'"
     ]
    }
   ],
   "source": [
    "import matplotlib.pyplot as plt\n",
    "\n",
    "folder = \"Multi-Objective/linear_regression/scalar_linear_regression/skip_introns/Seed_1/population_size_12\"\n",
    "\n",
    "mut_surv_file = f\"{folder}/survival_exp_mut.txt\"\n",
    "cross_mut_surv_file = f\"{folder}/survival_exp_cross_mut.txt\"\n",
    "\n",
    "df_mut_surv = pd.read_csv(mut_surv_file, sep=\",\")\n",
    "df_cross_mut_surv = pd.read_csv(cross_mut_surv_file, sep=\",\")\n",
    "\n",
    "df_mut_surv_vals = df_mut_surv.values\n",
    "df_cross_mut_surv_vals = df_cross_mut_surv.values\n",
    "\n",
    "plt.plot(df_mut_surv_vals[:, 0], df_mut_surv_vals[:, 1], label=\"Only Mutation\")\n",
    "plt.plot(df_cross_mut_surv_vals[:, 0], df_cross_mut_surv_vals[:, 1], c=\"r\", label=\"Crossover+Mutation\")\n",
    "\n",
    "plt.xlabel(\"Function Evaluations\")\n",
    "plt.ylabel(\"Child Survival Fraction\")\n",
    "plt.title(\"Child Survival Fraction for Different Number of Function Evaluations\")\n",
    "plt.legend(loc=\"upper right\")\n",
    "plt.savefig(f\"{folder}/survival_plot_mut_cross.jpg\")\n",
    "plt.show()"
   ]
  },
  {
   "cell_type": "code",
   "execution_count": 32,
   "metadata": {},
   "outputs": [
    {
     "data": {
      "image/png": "[encoded data removed]",
      "text/plain": [
       "<Figure size 720x432 with 1 Axes>"
      ]
     },
     "metadata": {
      "needs_background": "light"
     },
     "output_type": "display_data"
    }
   ],
   "source": [
    "df = pd.read_csv(\"../Workbook.csv\", index_col=0)\n",
    "num_seeds, _ = df.shape\n",
    "plt.figure(figsize=(10, 6))\n",
    "plt.scatter(df.index, df[\"multi_obj\"], c=\"b\", label=\"MOAZ Convergence\")\n",
    "plt.scatter(df.index, df[\"single_obj\"], c=\"r\", label=\"AutoML-Zero Convergence\")\n",
    "plt.legend(loc=\"center right\")\n",
    "plt.xticks(np.arange(num_seeds))\n",
    "plt.xlabel(\"seeds\")\n",
    "plt.ylabel(\"convergence speed\")\n",
    "plt.title(\"Convergence Speeds for AutoML-Zero and MOAZ frameworks for Linear Regression\")\n",
    "plt.savefig(\"convergence_speed_comparison.jpg\")\n",
    "plt.show()"
   ]
  },
  {
   "cell_type": "code",
   "execution_count": 12,
   "metadata": {},
   "outputs": [
    {
     "data": {
      "text/html": [
       "<div>\n",
       "<style scoped>\n",
       "    .dataframe tbody tr th:only-of-type {\n",
       "        vertical-align: middle;\n",
       "    }\n",
       "\n",
       "    .dataframe tbody tr th {\n",
       "        vertical-align: top;\n",
       "    }\n",
       "\n",
       "    .dataframe thead th {\n",
       "        text-align: right;\n",
       "    }\n",
       "</style>\n",
       "<table border=\"1\" class=\"dataframe\">\n",
       "  <thead>\n",
       "    <tr style=\"text-align: right;\">\n",
       "      <th></th>\n",
       "      <th>Without Constr</th>\n",
       "      <th>With Constr (max error = 0.6)</th>\n",
       "      <th>Single-Objective</th>\n",
       "    </tr>\n",
       "    <tr>\n",
       "      <th>Seed</th>\n",
       "      <th></th>\n",
       "      <th></th>\n",
       "      <th></th>\n",
       "    </tr>\n",
       "  </thead>\n",
       "  <tbody>\n",
       "    <tr>\n",
       "      <th>0</th>\n",
       "      <td>1483824</td>\n",
       "      <td>653472</td>\n",
       "      <td>13950000</td>\n",
       "    </tr>\n",
       "    <tr>\n",
       "      <th>1</th>\n",
       "      <td>1084008</td>\n",
       "      <td>534384</td>\n",
       "      <td>13634000</td>\n",
       "    </tr>\n",
       "    <tr>\n",
       "      <th>2</th>\n",
       "      <td>123192</td>\n",
       "      <td>1230708</td>\n",
       "      <td>12351790</td>\n",
       "    </tr>\n",
       "    <tr>\n",
       "      <th>3</th>\n",
       "      <td>268752</td>\n",
       "      <td>339372</td>\n",
       "      <td>14046000</td>\n",
       "    </tr>\n",
       "    <tr>\n",
       "      <th>4</th>\n",
       "      <td>169428</td>\n",
       "      <td>482364</td>\n",
       "      <td>8495638</td>\n",
       "    </tr>\n",
       "    <tr>\n",
       "      <th>5</th>\n",
       "      <td>63600</td>\n",
       "      <td>978480</td>\n",
       "      <td>14665000</td>\n",
       "    </tr>\n",
       "    <tr>\n",
       "      <th>6</th>\n",
       "      <td>160788</td>\n",
       "      <td>33984</td>\n",
       "      <td>14167000</td>\n",
       "    </tr>\n",
       "    <tr>\n",
       "      <th>7</th>\n",
       "      <td>2155464</td>\n",
       "      <td>8676</td>\n",
       "      <td>13814000</td>\n",
       "    </tr>\n",
       "    <tr>\n",
       "      <th>8</th>\n",
       "      <td>1074120</td>\n",
       "      <td>73608</td>\n",
       "      <td>14120000</td>\n",
       "    </tr>\n",
       "    <tr>\n",
       "      <th>9</th>\n",
       "      <td>749880</td>\n",
       "      <td>121032</td>\n",
       "      <td>13530000</td>\n",
       "    </tr>\n",
       "    <tr>\n",
       "      <th>10</th>\n",
       "      <td>1463664</td>\n",
       "      <td>345168</td>\n",
       "      <td>14460000</td>\n",
       "    </tr>\n",
       "    <tr>\n",
       "      <th>11</th>\n",
       "      <td>1269540</td>\n",
       "      <td>540960</td>\n",
       "      <td>14265000</td>\n",
       "    </tr>\n",
       "    <tr>\n",
       "      <th>12</th>\n",
       "      <td>830136</td>\n",
       "      <td>129084</td>\n",
       "      <td>13943000</td>\n",
       "    </tr>\n",
       "    <tr>\n",
       "      <th>13</th>\n",
       "      <td>175608</td>\n",
       "      <td>337224</td>\n",
       "      <td>12416614</td>\n",
       "    </tr>\n",
       "    <tr>\n",
       "      <th>14</th>\n",
       "      <td>2449092</td>\n",
       "      <td>1288212</td>\n",
       "      <td>14337000</td>\n",
       "    </tr>\n",
       "    <tr>\n",
       "      <th>15</th>\n",
       "      <td>1238244</td>\n",
       "      <td>1577004</td>\n",
       "      <td>14480000</td>\n",
       "    </tr>\n",
       "    <tr>\n",
       "      <th>16</th>\n",
       "      <td>1687104</td>\n",
       "      <td>892776</td>\n",
       "      <td>2369823</td>\n",
       "    </tr>\n",
       "    <tr>\n",
       "      <th>17</th>\n",
       "      <td>395448</td>\n",
       "      <td>1234152</td>\n",
       "      <td>13664000</td>\n",
       "    </tr>\n",
       "    <tr>\n",
       "      <th>18</th>\n",
       "      <td>2871360</td>\n",
       "      <td>119628</td>\n",
       "      <td>13860000</td>\n",
       "    </tr>\n",
       "    <tr>\n",
       "      <th>19</th>\n",
       "      <td>136308</td>\n",
       "      <td>158028</td>\n",
       "      <td>14395000</td>\n",
       "    </tr>\n",
       "    <tr>\n",
       "      <th>20</th>\n",
       "      <td>552264</td>\n",
       "      <td>1527300</td>\n",
       "      <td>13827000</td>\n",
       "    </tr>\n",
       "    <tr>\n",
       "      <th>21</th>\n",
       "      <td>695664</td>\n",
       "      <td>909972</td>\n",
       "      <td>13505000</td>\n",
       "    </tr>\n",
       "    <tr>\n",
       "      <th>22</th>\n",
       "      <td>1328736</td>\n",
       "      <td>1854840</td>\n",
       "      <td>14707000</td>\n",
       "    </tr>\n",
       "    <tr>\n",
       "      <th>23</th>\n",
       "      <td>199416</td>\n",
       "      <td>122904</td>\n",
       "      <td>14723000</td>\n",
       "    </tr>\n",
       "    <tr>\n",
       "      <th>24</th>\n",
       "      <td>827016</td>\n",
       "      <td>4749168</td>\n",
       "      <td>13214000</td>\n",
       "    </tr>\n",
       "    <tr>\n",
       "      <th>25</th>\n",
       "      <td>232032</td>\n",
       "      <td>911772</td>\n",
       "      <td>13906000</td>\n",
       "    </tr>\n",
       "    <tr>\n",
       "      <th>26</th>\n",
       "      <td>962916</td>\n",
       "      <td>305820</td>\n",
       "      <td>1479615</td>\n",
       "    </tr>\n",
       "    <tr>\n",
       "      <th>27</th>\n",
       "      <td>611772</td>\n",
       "      <td>896088</td>\n",
       "      <td>14120000</td>\n",
       "    </tr>\n",
       "    <tr>\n",
       "      <th>28</th>\n",
       "      <td>791868</td>\n",
       "      <td>79932</td>\n",
       "      <td>1631059</td>\n",
       "    </tr>\n",
       "    <tr>\n",
       "      <th>29</th>\n",
       "      <td>2214624</td>\n",
       "      <td>548316</td>\n",
       "      <td>13793000</td>\n",
       "    </tr>\n",
       "  </tbody>\n",
       "</table>\n",
       "</div>"
      ],
      "text/plain": [
       "      Without Constr  With Constr (max error = 0.6)  Single-Objective\n",
       "Seed                                                                 \n",
       "0            1483824                         653472          13950000\n",
       "1            1084008                         534384          13634000\n",
       "2             123192                        1230708          12351790\n",
       "3             268752                         339372          14046000\n",
       "4             169428                         482364           8495638\n",
       "5              63600                         978480          14665000\n",
       "6             160788                          33984          14167000\n",
       "7            2155464                           8676          13814000\n",
       "8            1074120                          73608          14120000\n",
       "9             749880                         121032          13530000\n",
       "10           1463664                         345168          14460000\n",
       "11           1269540                         540960          14265000\n",
       "12            830136                         129084          13943000\n",
       "13            175608                         337224          12416614\n",
       "14           2449092                        1288212          14337000\n",
       "15           1238244                        1577004          14480000\n",
       "16           1687104                         892776           2369823\n",
       "17            395448                        1234152          13664000\n",
       "18           2871360                         119628          13860000\n",
       "19            136308                         158028          14395000\n",
       "20            552264                        1527300          13827000\n",
       "21            695664                         909972          13505000\n",
       "22           1328736                        1854840          14707000\n",
       "23            199416                         122904          14723000\n",
       "24            827016                        4749168          13214000\n",
       "25            232032                         911772          13906000\n",
       "26            962916                         305820           1479615\n",
       "27            611772                         896088          14120000\n",
       "28            791868                          79932           1631059\n",
       "29           2214624                         548316          13793000"
      ]
     },
     "execution_count": 12,
     "metadata": {},
     "output_type": "execute_result"
    }
   ],
   "source": [
    "df"
   ]
  },
  {
   "cell_type": "code",
   "execution_count": null,
   "metadata": {},
   "outputs": [],
   "source": []
  }
 ],
 "metadata": {
  "interpreter": {
   "hash": "1ee38ef4a5a9feb55287fd749643f13d043cb0a7addaab2a9c224cbe137c0062"
  },
  "kernelspec": {
   "display_name": "Python 3.8.10 64-bit",
   "language": "python",
   "name": "python3"
  },
  "language_info": {
   "codemirror_mode": {
    "name": "ipython",
    "version": 3
   },
   "file_extension": ".py",
   "mimetype": "text/x-python",
   "name": "python",
   "nbconvert_exporter": "python",
   "pygments_lexer": "ipython3",
   "version": "3.8.3"
  },
  "orig_nbformat": 4
 },
 "nbformat": 4,
 "nbformat_minor": 2
}
